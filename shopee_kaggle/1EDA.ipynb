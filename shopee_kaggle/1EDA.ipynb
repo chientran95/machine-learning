{
 "cells": [
  {
   "cell_type": "code",
   "execution_count": 1,
   "id": "international-carter",
   "metadata": {},
   "outputs": [],
   "source": [
    "import os\n",
    "import pandas as pd\n",
    "from glob import glob\n",
    "from PIL import Image\n",
    "import matplotlib.pyplot as plt\n",
    "from metric import getMetric\n",
    "import imagehash\n",
    "from torchvision import transforms"
   ]
  },
  {
   "cell_type": "code",
   "execution_count": 2,
   "id": "detailed-thesaurus",
   "metadata": {},
   "outputs": [],
   "source": [
    "train = pd.read_csv('dataset/train.csv')\n",
    "test = pd.read_csv('dataset/test.csv')"
   ]
  },
  {
   "cell_type": "code",
   "execution_count": 3,
   "id": "binding-diversity",
   "metadata": {},
   "outputs": [
    {
     "data": {
      "text/plain": [
       "((34250, 5), (3, 4))"
      ]
     },
     "execution_count": 3,
     "metadata": {},
     "output_type": "execute_result"
    }
   ],
   "source": [
    "train.shape, test.shape"
   ]
  },
  {
   "cell_type": "code",
   "execution_count": 7,
   "id": "known-sympathy",
   "metadata": {},
   "outputs": [],
   "source": [
    "tmp = train.groupby('label_group').posting_id.agg('unique').to_dict()\n",
    "train['target'] = train.label_group.map(tmp)"
   ]
  },
  {
   "cell_type": "code",
   "execution_count": 8,
   "id": "initial-arctic",
   "metadata": {},
   "outputs": [
    {
     "data": {
      "text/html": [
       "<div>\n",
       "<style scoped>\n",
       "    .dataframe tbody tr th:only-of-type {\n",
       "        vertical-align: middle;\n",
       "    }\n",
       "\n",
       "    .dataframe tbody tr th {\n",
       "        vertical-align: top;\n",
       "    }\n",
       "\n",
       "    .dataframe thead th {\n",
       "        text-align: right;\n",
       "    }\n",
       "</style>\n",
       "<table border=\"1\" class=\"dataframe\">\n",
       "  <thead>\n",
       "    <tr style=\"text-align: right;\">\n",
       "      <th></th>\n",
       "      <th>posting_id</th>\n",
       "      <th>image</th>\n",
       "      <th>image_phash</th>\n",
       "      <th>title</th>\n",
       "      <th>label_group</th>\n",
       "      <th>target</th>\n",
       "    </tr>\n",
       "  </thead>\n",
       "  <tbody>\n",
       "    <tr>\n",
       "      <th>0</th>\n",
       "      <td>train_129225211</td>\n",
       "      <td>0000a68812bc7e98c42888dfb1c07da0.jpg</td>\n",
       "      <td>94974f937d4c2433</td>\n",
       "      <td>Paper Bag Victoria Secret</td>\n",
       "      <td>249114794</td>\n",
       "      <td>[train_129225211, train_2278313361]</td>\n",
       "    </tr>\n",
       "    <tr>\n",
       "      <th>1</th>\n",
       "      <td>train_3386243561</td>\n",
       "      <td>00039780dfc94d01db8676fe789ecd05.jpg</td>\n",
       "      <td>af3f9460c2838f0f</td>\n",
       "      <td>Double Tape 3M VHB 12 mm x 4,5 m ORIGINAL / DO...</td>\n",
       "      <td>2937985045</td>\n",
       "      <td>[train_3386243561, train_3423213080]</td>\n",
       "    </tr>\n",
       "    <tr>\n",
       "      <th>2</th>\n",
       "      <td>train_2288590299</td>\n",
       "      <td>000a190fdd715a2a36faed16e2c65df7.jpg</td>\n",
       "      <td>b94cb00ed3e50f78</td>\n",
       "      <td>Maling TTS Canned Pork Luncheon Meat 397 gr</td>\n",
       "      <td>2395904891</td>\n",
       "      <td>[train_2288590299, train_3803689425]</td>\n",
       "    </tr>\n",
       "  </tbody>\n",
       "</table>\n",
       "</div>"
      ],
      "text/plain": [
       "         posting_id                                 image       image_phash  \\\n",
       "0   train_129225211  0000a68812bc7e98c42888dfb1c07da0.jpg  94974f937d4c2433   \n",
       "1  train_3386243561  00039780dfc94d01db8676fe789ecd05.jpg  af3f9460c2838f0f   \n",
       "2  train_2288590299  000a190fdd715a2a36faed16e2c65df7.jpg  b94cb00ed3e50f78   \n",
       "\n",
       "                                               title  label_group  \\\n",
       "0                          Paper Bag Victoria Secret    249114794   \n",
       "1  Double Tape 3M VHB 12 mm x 4,5 m ORIGINAL / DO...   2937985045   \n",
       "2        Maling TTS Canned Pork Luncheon Meat 397 gr   2395904891   \n",
       "\n",
       "                                 target  \n",
       "0   [train_129225211, train_2278313361]  \n",
       "1  [train_3386243561, train_3423213080]  \n",
       "2  [train_2288590299, train_3803689425]  "
      ]
     },
     "execution_count": 8,
     "metadata": {},
     "output_type": "execute_result"
    }
   ],
   "source": [
    "train.head(3)"
   ]
  },
  {
   "cell_type": "markdown",
   "id": "arbitrary-thunder",
   "metadata": {},
   "source": [
    "### Image"
   ]
  },
  {
   "cell_type": "code",
   "execution_count": 6,
   "id": "closed-pastor",
   "metadata": {},
   "outputs": [
    {
     "data": {
      "text/plain": [
       "32412"
      ]
     },
     "execution_count": 6,
     "metadata": {},
     "output_type": "execute_result"
    }
   ],
   "source": [
    "train.image.nunique()"
   ]
  },
  {
   "cell_type": "code",
   "execution_count": 7,
   "id": "becoming-alloy",
   "metadata": {},
   "outputs": [
    {
     "data": {
      "text/plain": [
       "32412"
      ]
     },
     "execution_count": 7,
     "metadata": {},
     "output_type": "execute_result"
    }
   ],
   "source": [
    "img_list = sorted(glob('dataset/train_images/*.jpg'))\n",
    "len(img_list)"
   ]
  },
  {
   "cell_type": "code",
   "execution_count": 8,
   "id": "coated-ground",
   "metadata": {},
   "outputs": [],
   "source": [
    "sizes = []\n",
    "for img_path in img_list:\n",
    "    img = Image.open(img_path)\n",
    "    sizes.append(img.size)"
   ]
  },
  {
   "cell_type": "code",
   "execution_count": 10,
   "id": "minute-meditation",
   "metadata": {},
   "outputs": [],
   "source": [
    "unique_sizes = set(sizes)"
   ]
  },
  {
   "cell_type": "markdown",
   "id": "initial-forge",
   "metadata": {},
   "source": [
    "### Title"
   ]
  },
  {
   "cell_type": "code",
   "execution_count": 7,
   "id": "modified-compound",
   "metadata": {},
   "outputs": [
    {
     "data": {
      "text/plain": [
       "(array([1.0762e+04, 1.5593e+04, 7.5340e+03, 2.8400e+02, 5.3000e+01,\n",
       "        1.2000e+01, 9.0000e+00, 2.0000e+00, 0.0000e+00, 1.0000e+00]),\n",
       " array([  5. ,  40.2,  75.4, 110.6, 145.8, 181. , 216.2, 251.4, 286.6,\n",
       "        321.8, 357. ]),\n",
       " <BarContainer object of 10 artists>)"
      ]
     },
     "execution_count": 7,
     "metadata": {},
     "output_type": "execute_result"
    },
    {
     "data": {
      "image/png": "[encoded data removed]",
      "text/plain": [
       "<Figure size 432x288 with 1 Axes>"
      ]
     },
     "metadata": {
      "needs_background": "light"
     },
     "output_type": "display_data"
    }
   ],
   "source": [
    "tmp = train.title.str.len()\n",
    "plt.hist(tmp)"
   ]
  },
  {
   "cell_type": "code",
   "execution_count": 17,
   "id": "paperback-philip",
   "metadata": {},
   "outputs": [],
   "source": [
    "tmp = train.groupby('label_group').posting_id.agg('unique').to_dict()\n",
    "train['target'] = train.label_group.map(tmp)"
   ]
  },
  {
   "cell_type": "code",
   "execution_count": 9,
   "id": "saved-oracle",
   "metadata": {},
   "outputs": [],
   "source": [
    "train.to_csv('dataset/train_mod.csv', index=False)"
   ]
  },
  {
   "cell_type": "code",
   "execution_count": 24,
   "id": "legal-airline",
   "metadata": {},
   "outputs": [
    {
     "data": {
      "text/plain": [
       "count    34250.000000\n",
       "mean        56.163474\n",
       "std         25.100492\n",
       "min          5.000000\n",
       "25%         36.000000\n",
       "50%         53.000000\n",
       "75%         73.000000\n",
       "max        357.000000\n",
       "Name: title, dtype: float64"
      ]
     },
     "execution_count": 24,
     "metadata": {},
     "output_type": "execute_result"
    }
   ],
   "source": [
    "train.title.str.len().describe()"
   ]
  },
  {
   "cell_type": "markdown",
   "id": "desirable-shield",
   "metadata": {},
   "source": [
    "### PHash"
   ]
  },
  {
   "cell_type": "code",
   "execution_count": 5,
   "id": "rolled-chassis",
   "metadata": {},
   "outputs": [
    {
     "data": {
      "text/plain": [
       "count    34250.0\n",
       "mean        16.0\n",
       "std          0.0\n",
       "min         16.0\n",
       "25%         16.0\n",
       "50%         16.0\n",
       "75%         16.0\n",
       "max         16.0\n",
       "Name: image_phash, dtype: float64"
      ]
     },
     "execution_count": 5,
     "metadata": {},
     "output_type": "execute_result"
    }
   ],
   "source": [
    "train.image_phash.str.len().describe()"
   ]
  },
  {
   "cell_type": "code",
   "execution_count": 6,
   "id": "tender-shooting",
   "metadata": {},
   "outputs": [],
   "source": [
    "phash_arr = train.image_phash.values"
   ]
  },
  {
   "cell_type": "code",
   "execution_count": 7,
   "id": "gothic-pathology",
   "metadata": {},
   "outputs": [
    {
     "data": {
      "text/plain": [
       "'f'"
      ]
     },
     "execution_count": 7,
     "metadata": {},
     "output_type": "execute_result"
    }
   ],
   "source": [
    "max_char = ''\n",
    "for h in phash_arr:\n",
    "    mh = max(h)\n",
    "    max_char = max(max_char, mh)\n",
    "max_char"
   ]
  },
  {
   "cell_type": "markdown",
   "id": "federal-necklace",
   "metadata": {},
   "source": [
    "Resize image will change the perceptual hash"
   ]
  },
  {
   "cell_type": "code",
   "execution_count": 11,
   "id": "revised-healthcare",
   "metadata": {},
   "outputs": [
    {
     "data": {
      "text/plain": [
       "'94974f937d4c2433'"
      ]
     },
     "execution_count": 11,
     "metadata": {},
     "output_type": "execute_result"
    }
   ],
   "source": [
    "img = Image.open('./dataset/train_images/0000a68812bc7e98c42888dfb1c07da0.jpg')\n",
    "tmp = imagehash.phash(img)\n",
    "str(tmp)"
   ]
  },
  {
   "cell_type": "code",
   "execution_count": 15,
   "id": "center-devices",
   "metadata": {},
   "outputs": [
    {
     "data": {
      "text/plain": [
       "'94974f837d4c2473'"
      ]
     },
     "execution_count": 15,
     "metadata": {},
     "output_type": "execute_result"
    }
   ],
   "source": [
    "img_transforms = transforms.Compose([\n",
    "    transforms.Resize((256, 256)),\n",
    "])\n",
    "transformed_image = img_transforms(img)\n",
    "tmp2 = imagehash.phash(transformed_image)\n",
    "str(tmp2)"
   ]
  },
  {
   "cell_type": "code",
   "execution_count": 16,
   "id": "urban-converter",
   "metadata": {},
   "outputs": [
    {
     "data": {
      "text/plain": [
       "28735"
      ]
     },
     "execution_count": 16,
     "metadata": {},
     "output_type": "execute_result"
    }
   ],
   "source": [
    "train.image_phash.nunique()"
   ]
  },
  {
   "cell_type": "code",
   "execution_count": 17,
   "id": "ecological-jordan",
   "metadata": {},
   "outputs": [
    {
     "data": {
      "text/plain": [
       "147"
      ]
     },
     "execution_count": 17,
     "metadata": {},
     "output_type": "execute_result"
    }
   ],
   "source": [
    "train['phash_group_num'] = train.groupby('image_phash').label_group.transform('nunique')\n",
    "train[train.phash_group_num > 1].image_phash.nunique()"
   ]
  },
  {
   "cell_type": "markdown",
   "id": "engaged-particular",
   "metadata": {},
   "source": [
    "### Baseline"
   ]
  },
  {
   "cell_type": "markdown",
   "id": "rocky-fields",
   "metadata": {},
   "source": [
    "#### Image phash baseline"
   ]
  },
  {
   "cell_type": "code",
   "execution_count": 12,
   "id": "thousand-bahamas",
   "metadata": {},
   "outputs": [],
   "source": [
    "tmp = train.groupby('image_phash').posting_id.agg('unique').to_dict()\n",
    "train['oof'] = train.image_phash.map(tmp)"
   ]
  },
  {
   "cell_type": "code",
   "execution_count": 13,
   "id": "square-israel",
   "metadata": {},
   "outputs": [
    {
     "name": "stdout",
     "output_type": "stream",
     "text": [
      "CV score for baseline = 0.5530933399168149\n"
     ]
    }
   ],
   "source": [
    "train['f1'] = train.apply(getMetric('oof'),axis=1)\n",
    "print('CV score for baseline =',train.f1.mean())"
   ]
  },
  {
   "cell_type": "code",
   "execution_count": 14,
   "id": "killing-lemon",
   "metadata": {},
   "outputs": [
    {
     "data": {
      "text/html": [
       "<div>\n",
       "<style scoped>\n",
       "    .dataframe tbody tr th:only-of-type {\n",
       "        vertical-align: middle;\n",
       "    }\n",
       "\n",
       "    .dataframe tbody tr th {\n",
       "        vertical-align: top;\n",
       "    }\n",
       "\n",
       "    .dataframe thead th {\n",
       "        text-align: right;\n",
       "    }\n",
       "</style>\n",
       "<table border=\"1\" class=\"dataframe\">\n",
       "  <thead>\n",
       "    <tr style=\"text-align: right;\">\n",
       "      <th></th>\n",
       "      <th>posting_id</th>\n",
       "      <th>image</th>\n",
       "      <th>image_phash</th>\n",
       "      <th>title</th>\n",
       "      <th>label_group</th>\n",
       "      <th>target</th>\n",
       "      <th>oof</th>\n",
       "      <th>f1</th>\n",
       "    </tr>\n",
       "  </thead>\n",
       "  <tbody>\n",
       "    <tr>\n",
       "      <th>0</th>\n",
       "      <td>train_129225211</td>\n",
       "      <td>0000a68812bc7e98c42888dfb1c07da0.jpg</td>\n",
       "      <td>94974f937d4c2433</td>\n",
       "      <td>Paper Bag Victoria Secret</td>\n",
       "      <td>249114794</td>\n",
       "      <td>[train_129225211, train_2278313361]</td>\n",
       "      <td>[train_129225211]</td>\n",
       "      <td>0.666667</td>\n",
       "    </tr>\n",
       "    <tr>\n",
       "      <th>1</th>\n",
       "      <td>train_3386243561</td>\n",
       "      <td>00039780dfc94d01db8676fe789ecd05.jpg</td>\n",
       "      <td>af3f9460c2838f0f</td>\n",
       "      <td>Double Tape 3M VHB 12 mm x 4,5 m ORIGINAL / DO...</td>\n",
       "      <td>2937985045</td>\n",
       "      <td>[train_3386243561, train_3423213080]</td>\n",
       "      <td>[train_3386243561]</td>\n",
       "      <td>0.666667</td>\n",
       "    </tr>\n",
       "    <tr>\n",
       "      <th>2</th>\n",
       "      <td>train_2288590299</td>\n",
       "      <td>000a190fdd715a2a36faed16e2c65df7.jpg</td>\n",
       "      <td>b94cb00ed3e50f78</td>\n",
       "      <td>Maling TTS Canned Pork Luncheon Meat 397 gr</td>\n",
       "      <td>2395904891</td>\n",
       "      <td>[train_2288590299, train_3803689425]</td>\n",
       "      <td>[train_2288590299]</td>\n",
       "      <td>0.666667</td>\n",
       "    </tr>\n",
       "    <tr>\n",
       "      <th>3</th>\n",
       "      <td>train_2406599165</td>\n",
       "      <td>00117e4fc239b1b641ff08340b429633.jpg</td>\n",
       "      <td>8514fc58eafea283</td>\n",
       "      <td>Daster Batik Lengan pendek - Motif Acak / Camp...</td>\n",
       "      <td>4093212188</td>\n",
       "      <td>[train_2406599165, train_3342059966]</td>\n",
       "      <td>[train_2406599165]</td>\n",
       "      <td>0.666667</td>\n",
       "    </tr>\n",
       "    <tr>\n",
       "      <th>4</th>\n",
       "      <td>train_3369186413</td>\n",
       "      <td>00136d1cf4edede0203f32f05f660588.jpg</td>\n",
       "      <td>a6f319f924ad708c</td>\n",
       "      <td>Nescafe \\xc3\\x89clair Latte 220ml</td>\n",
       "      <td>3648931069</td>\n",
       "      <td>[train_3369186413, train_921438619]</td>\n",
       "      <td>[train_3369186413]</td>\n",
       "      <td>0.666667</td>\n",
       "    </tr>\n",
       "  </tbody>\n",
       "</table>\n",
       "</div>"
      ],
      "text/plain": [
       "         posting_id                                 image       image_phash  \\\n",
       "0   train_129225211  0000a68812bc7e98c42888dfb1c07da0.jpg  94974f937d4c2433   \n",
       "1  train_3386243561  00039780dfc94d01db8676fe789ecd05.jpg  af3f9460c2838f0f   \n",
       "2  train_2288590299  000a190fdd715a2a36faed16e2c65df7.jpg  b94cb00ed3e50f78   \n",
       "3  train_2406599165  00117e4fc239b1b641ff08340b429633.jpg  8514fc58eafea283   \n",
       "4  train_3369186413  00136d1cf4edede0203f32f05f660588.jpg  a6f319f924ad708c   \n",
       "\n",
       "                                               title  label_group  \\\n",
       "0                          Paper Bag Victoria Secret    249114794   \n",
       "1  Double Tape 3M VHB 12 mm x 4,5 m ORIGINAL / DO...   2937985045   \n",
       "2        Maling TTS Canned Pork Luncheon Meat 397 gr   2395904891   \n",
       "3  Daster Batik Lengan pendek - Motif Acak / Camp...   4093212188   \n",
       "4                  Nescafe \\xc3\\x89clair Latte 220ml   3648931069   \n",
       "\n",
       "                                 target                 oof        f1  \n",
       "0   [train_129225211, train_2278313361]   [train_129225211]  0.666667  \n",
       "1  [train_3386243561, train_3423213080]  [train_3386243561]  0.666667  \n",
       "2  [train_2288590299, train_3803689425]  [train_2288590299]  0.666667  \n",
       "3  [train_2406599165, train_3342059966]  [train_2406599165]  0.666667  \n",
       "4   [train_3369186413, train_921438619]  [train_3369186413]  0.666667  "
      ]
     },
     "execution_count": 14,
     "metadata": {},
     "output_type": "execute_result"
    }
   ],
   "source": [
    "train.head()"
   ]
  },
  {
   "cell_type": "code",
   "execution_count": null,
   "id": "fatty-therapy",
   "metadata": {},
   "outputs": [],
   "source": []
  }
 ],
 "metadata": {
  "kernelspec": {
   "display_name": "Python 3",
   "language": "python",
   "name": "python3"
  },
  "language_info": {
   "codemirror_mode": {
    "name": "ipython",
    "version": 3
   },
   "file_extension": ".py",
   "mimetype": "text/x-python",
   "name": "python",
   "nbconvert_exporter": "python",
   "pygments_lexer": "ipython3",
   "version": "3.8.8"
  }
 },
 "nbformat": 4,
 "nbformat_minor": 5
}
