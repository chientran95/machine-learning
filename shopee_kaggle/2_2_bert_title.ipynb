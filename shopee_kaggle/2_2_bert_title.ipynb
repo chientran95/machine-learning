{
 "cells": [
  {
   "cell_type": "code",
   "execution_count": 24,
   "id": "front-registration",
   "metadata": {},
   "outputs": [],
   "source": [
    "from collections import Counter\n",
    "from os import cpu_count\n",
    "\n",
    "import joblib\n",
    "import matplotlib.pyplot as plt\n",
    "import numpy as np\n",
    "import pandas as pd\n",
    "import torch\n",
    "import torch.nn as nn\n",
    "from PIL import Image\n",
    "from pytorch_lightning import seed_everything\n",
    "from sklearn.cluster import DBSCAN\n",
    "import cv2\n",
    "from torchvision import transforms, utils\n",
    "from torch.utils.data import DataLoader\n",
    "\n",
    "from utils import pca_explained_variance_ratio\n",
    "from metric import getMetric\n",
    "from bert_embedding.bert_utility import tokenize_sentence, get_bert_embedding\n",
    "from PostDataset import PostDataset"
   ]
  },
  {
   "cell_type": "code",
   "execution_count": 2,
   "id": "federal-making",
   "metadata": {},
   "outputs": [
    {
     "name": "stderr",
     "output_type": "stream",
     "text": [
      "Global seed set to 1\n"
     ]
    },
    {
     "data": {
      "text/plain": [
       "1"
      ]
     },
     "execution_count": 2,
     "metadata": {},
     "output_type": "execute_result"
    }
   ],
   "source": [
    "seed = 1\n",
    "seed_everything(seed)"
   ]
  },
  {
   "cell_type": "code",
   "execution_count": 20,
   "id": "wrong-veteran",
   "metadata": {},
   "outputs": [],
   "source": [
    "train_df = pd.read_csv('dataset/train.csv')"
   ]
  },
  {
   "cell_type": "code",
   "execution_count": 21,
   "id": "funded-teach",
   "metadata": {},
   "outputs": [],
   "source": [
    "tmp = train_df.groupby('label_group').posting_id.agg('unique').to_dict()\n",
    "train_df['target'] = train_df.label_group.map(tmp)"
   ]
  },
  {
   "cell_type": "markdown",
   "id": "treated-belarus",
   "metadata": {},
   "source": [
    "### Data for BERT embedding"
   ]
  },
  {
   "cell_type": "code",
   "execution_count": 3,
   "id": "incomplete-drill",
   "metadata": {},
   "outputs": [],
   "source": [
    "transforms = transforms.Compose([\n",
    "    transforms.Resize((256, 256)),\n",
    "    transforms.ToTensor(),\n",
    "])"
   ]
  },
  {
   "cell_type": "code",
   "execution_count": 4,
   "id": "floral-friendly",
   "metadata": {},
   "outputs": [],
   "source": [
    "post_dataset = PostDataset(csv_file='dataset/train.csv', root_dir='./dataset/train_images/', transform=transforms)"
   ]
  },
  {
   "cell_type": "code",
   "execution_count": 5,
   "id": "competitive-comment",
   "metadata": {},
   "outputs": [],
   "source": [
    "post_dataloader = DataLoader(post_dataset, batch_size=1024, shuffle=False, num_workers=0)"
   ]
  },
  {
   "cell_type": "markdown",
   "id": "accepting-integrity",
   "metadata": {},
   "source": [
    "### Get BERT emb of title"
   ]
  },
  {
   "cell_type": "code",
   "execution_count": 6,
   "id": "accessory-injury",
   "metadata": {
    "tags": []
   },
   "outputs": [
    {
     "name": "stderr",
     "output_type": "stream",
     "text": [
      "/home/chien/hdd/miniconda3/envs/shopee/lib/python3.8/site-packages/transformers/tokenization_utils_base.py:2068: FutureWarning: The `pad_to_max_length` argument is deprecated and will be removed in a future version, use `padding=True` or `padding='longest'` to pad to the longest sequence in the batch, or use `padding='max_length'` to pad to a max length. In this case, you can give a specific length with `max_length` (e.g. `max_length=45`) or leave max_length to None to pad to the maximal input size of the model (e.g. 512 for Bert).\n",
      "  warnings.warn(\n"
     ]
    }
   ],
   "source": [
    "bert_embs = []\n",
    "\n",
    "for i_batch, data in enumerate(post_dataloader):\n",
    "#     print(i_batch, data['image'].shape, data['token_tensor'].shape, data['attn_mask'].shape)\n",
    "    token_tensors = data['token_tensor'].cuda()\n",
    "    attn_masks = data['attn_mask'].cuda()\n",
    "    batch_embs = get_bert_embedding(token_tensors, attn_masks)\n",
    "    bert_embs.append(batch_embs.cpu())"
   ]
  },
  {
   "cell_type": "code",
   "execution_count": 17,
   "id": "operating-lafayette",
   "metadata": {},
   "outputs": [],
   "source": [
    "embs = bert_embs[0]\n",
    "\n",
    "for emb in bert_embs[1:]:\n",
    "    embs = torch.cat((embs, emb), dim=0)\n",
    "joblib.dump(embs, 'tmp/title_bert_embs.joblib')"
   ]
  },
  {
   "cell_type": "code",
   "execution_count": 26,
   "id": "delayed-prairie",
   "metadata": {},
   "outputs": [
    {
     "data": {
      "text/plain": [
       "torch.Size([34250, 768])"
      ]
     },
     "execution_count": 26,
     "metadata": {},
     "output_type": "execute_result"
    }
   ],
   "source": [
    "title_embs = joblib.load('tmp/title_bert_embs.joblib')\n",
    "title_embs.shape"
   ]
  },
  {
   "cell_type": "markdown",
   "id": "billion-mechanism",
   "metadata": {},
   "source": [
    "### Clustering"
   ]
  },
  {
   "cell_type": "code",
   "execution_count": null,
   "id": "organized-resident",
   "metadata": {},
   "outputs": [],
   "source": [
    "bert_reduced_2 = UMAP(n_components=2, random_state=seed, transform_seed=seed).fit_transform(title_embs)\n",
    "joblib.dump(bert_reduced_2, 'tmp/title_bert_embs_reduced_2.joblib')\n",
    "\n",
    "# reduced_2 = joblib.load('tmp/tf_efficientnet_b8_reduced_2.joblib')\n",
    "# plt.scatter(reduced_2[:, 0], reduced_2[:, 1])\n",
    "# plt.tight_layout()\n",
    "# plt.show()"
   ]
  },
  {
   "cell_type": "code",
   "execution_count": 27,
   "id": "integral-mention",
   "metadata": {},
   "outputs": [
    {
     "ename": "NameError",
     "evalue": "name 'reduced_2' is not defined",
     "output_type": "error",
     "traceback": [
      "\u001b[0;31m---------------------------------------------------------------------------\u001b[0m",
      "\u001b[0;31mNameError\u001b[0m                                 Traceback (most recent call last)",
      "\u001b[0;32m<ipython-input-27-14c05da3e0cf>\u001b[0m in \u001b[0;36m<module>\u001b[0;34m\u001b[0m\n\u001b[1;32m      6\u001b[0m \u001b[0;32mfor\u001b[0m \u001b[0mlabel\u001b[0m \u001b[0;32min\u001b[0m \u001b[0muniq_labels\u001b[0m\u001b[0;34m:\u001b[0m\u001b[0;34m\u001b[0m\u001b[0;34m\u001b[0m\u001b[0m\n\u001b[1;32m      7\u001b[0m     \u001b[0mmask\u001b[0m \u001b[0;34m=\u001b[0m \u001b[0;34m(\u001b[0m\u001b[0mlabels\u001b[0m \u001b[0;34m==\u001b[0m \u001b[0mlabel\u001b[0m\u001b[0;34m)\u001b[0m\u001b[0;34m\u001b[0m\u001b[0;34m\u001b[0m\u001b[0m\n\u001b[0;32m----> 8\u001b[0;31m     \u001b[0mplt\u001b[0m\u001b[0;34m.\u001b[0m\u001b[0mscatter\u001b[0m\u001b[0;34m(\u001b[0m\u001b[0mreduced_2\u001b[0m\u001b[0;34m[\u001b[0m\u001b[0mmask\u001b[0m\u001b[0;34m,\u001b[0m \u001b[0;36m0\u001b[0m\u001b[0;34m]\u001b[0m\u001b[0;34m,\u001b[0m \u001b[0mreduced_2\u001b[0m\u001b[0;34m[\u001b[0m\u001b[0mmask\u001b[0m\u001b[0;34m,\u001b[0m \u001b[0;36m1\u001b[0m\u001b[0;34m]\u001b[0m\u001b[0;34m)\u001b[0m\u001b[0;34m\u001b[0m\u001b[0;34m\u001b[0m\u001b[0m\n\u001b[0m\u001b[1;32m      9\u001b[0m \u001b[0mplt\u001b[0m\u001b[0;34m.\u001b[0m\u001b[0mlegend\u001b[0m\u001b[0;34m(\u001b[0m\u001b[0muniq_labels\u001b[0m\u001b[0;34m,\u001b[0m \u001b[0mbbox_to_anchor\u001b[0m\u001b[0;34m=\u001b[0m\u001b[0;34m(\u001b[0m\u001b[0;36m1.05\u001b[0m\u001b[0;34m,\u001b[0m \u001b[0;36m1\u001b[0m\u001b[0;34m)\u001b[0m\u001b[0;34m)\u001b[0m\u001b[0;34m\u001b[0m\u001b[0;34m\u001b[0m\u001b[0m\n\u001b[1;32m     10\u001b[0m \u001b[0mplt\u001b[0m\u001b[0;34m.\u001b[0m\u001b[0mtight_layout\u001b[0m\u001b[0;34m(\u001b[0m\u001b[0;34m)\u001b[0m\u001b[0;34m\u001b[0m\u001b[0;34m\u001b[0m\u001b[0m\n",
      "\u001b[0;31mNameError\u001b[0m: name 'reduced_2' is not defined"
     ]
    }
   ],
   "source": [
    "labels = DBSCAN(eps=0.05, min_samples=2, n_jobs=-1).fit_predict(title_embs)\n",
    "uniq_labels = list(sorted(set(labels)))\n",
    "\n",
    "# print(Counter(labels))\n",
    "\n",
    "# for label in uniq_labels:\n",
    "#     mask = (labels == label)\n",
    "#     plt.scatter(reduced_2[mask, 0], reduced_2[mask, 1])\n",
    "# plt.legend(uniq_labels, bbox_to_anchor=(1.05, 1))\n",
    "# plt.tight_layout()\n",
    "# plt.show()"
   ]
  },
  {
   "cell_type": "code",
   "execution_count": 28,
   "id": "critical-blowing",
   "metadata": {},
   "outputs": [
    {
     "data": {
      "text/plain": [
       "1369"
      ]
     },
     "execution_count": 28,
     "metadata": {},
     "output_type": "execute_result"
    }
   ],
   "source": [
    "len(uniq_labels)"
   ]
  },
  {
   "cell_type": "code",
   "execution_count": 29,
   "id": "driving-contrast",
   "metadata": {},
   "outputs": [],
   "source": [
    "train_df['labels'] = labels"
   ]
  },
  {
   "cell_type": "code",
   "execution_count": 31,
   "id": "defined-retail",
   "metadata": {},
   "outputs": [],
   "source": [
    "tmp = train_df.groupby('labels').posting_id.agg('unique').to_dict()\n",
    "train_df['oof'] = train_df.labels.map(tmp)"
   ]
  },
  {
   "cell_type": "code",
   "execution_count": 32,
   "id": "genuine-bernard",
   "metadata": {},
   "outputs": [],
   "source": [
    "def outlier_group(row):\n",
    "    if row.labels == -1:\n",
    "        return [row.posting_id]\n",
    "    else:\n",
    "        return row.oof\n",
    "train_df['oof'] = train_df.apply(outlier_group, axis=1)"
   ]
  },
  {
   "cell_type": "markdown",
   "id": "novel-schema",
   "metadata": {},
   "source": [
    "### Calculate metric"
   ]
  },
  {
   "cell_type": "code",
   "execution_count": 34,
   "id": "diagnostic-crest",
   "metadata": {},
   "outputs": [
    {
     "name": "stdout",
     "output_type": "stream",
     "text": [
      "CV score = 0.4832022085558331\n"
     ]
    }
   ],
   "source": [
    "train_df['f1'] = train_df.apply(getMetric('oof'), axis=1)\n",
    "print('CV score =', train_df.f1.mean())"
   ]
  },
  {
   "cell_type": "code",
   "execution_count": null,
   "id": "dying-anxiety",
   "metadata": {},
   "outputs": [],
   "source": []
  }
 ],
 "metadata": {
  "kernelspec": {
   "display_name": "Python 3",
   "language": "python",
   "name": "python3"
  },
  "language_info": {
   "codemirror_mode": {
    "name": "ipython",
    "version": 3
   },
   "file_extension": ".py",
   "mimetype": "text/x-python",
   "name": "python",
   "nbconvert_exporter": "python",
   "pygments_lexer": "ipython3",
   "version": "3.8.8"
  }
 },
 "nbformat": 4,
 "nbformat_minor": 5
}
