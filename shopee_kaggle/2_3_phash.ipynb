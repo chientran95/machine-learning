{
 "cells": [
  {
   "cell_type": "code",
   "execution_count": 1,
   "id": "initial-nigeria",
   "metadata": {},
   "outputs": [],
   "source": [
    "import joblib\n",
    "import matplotlib.pyplot as plt\n",
    "import numpy as np\n",
    "import pandas as pd\n",
    "import torch\n",
    "import torch.nn as nn\n",
    "from PIL import Image\n",
    "from pytorch_lightning import seed_everything\n",
    "from sklearn.cluster import DBSCAN\n",
    "import cv2\n",
    "from torchvision import transforms, utils\n",
    "from torch.utils.data import DataLoader\n",
    "import imagehash\n",
    "\n",
    "from utils import hammingDist\n",
    "from metric import getMetric"
   ]
  },
  {
   "cell_type": "code",
   "execution_count": 2,
   "id": "visible-motor",
   "metadata": {},
   "outputs": [
    {
     "name": "stderr",
     "output_type": "stream",
     "text": [
      "Global seed set to 1\n"
     ]
    },
    {
     "data": {
      "text/plain": [
       "1"
      ]
     },
     "execution_count": 2,
     "metadata": {},
     "output_type": "execute_result"
    }
   ],
   "source": [
    "seed = 1\n",
    "seed_everything(seed)"
   ]
  },
  {
   "cell_type": "code",
   "execution_count": 3,
   "id": "flush-closure",
   "metadata": {},
   "outputs": [],
   "source": [
    "train_df = pd.read_csv('dataset/train.csv')"
   ]
  },
  {
   "cell_type": "code",
   "execution_count": 4,
   "id": "intimate-african",
   "metadata": {},
   "outputs": [],
   "source": [
    "tmp = train_df.groupby('label_group').posting_id.agg('unique').to_dict()\n",
    "train_df['target'] = train_df.label_group.map(tmp)"
   ]
  },
  {
   "cell_type": "code",
   "execution_count": 5,
   "id": "widespread-navigation",
   "metadata": {},
   "outputs": [
    {
     "data": {
      "text/html": [
       "<div>\n",
       "<style scoped>\n",
       "    .dataframe tbody tr th:only-of-type {\n",
       "        vertical-align: middle;\n",
       "    }\n",
       "\n",
       "    .dataframe tbody tr th {\n",
       "        vertical-align: top;\n",
       "    }\n",
       "\n",
       "    .dataframe thead th {\n",
       "        text-align: right;\n",
       "    }\n",
       "</style>\n",
       "<table border=\"1\" class=\"dataframe\">\n",
       "  <thead>\n",
       "    <tr style=\"text-align: right;\">\n",
       "      <th></th>\n",
       "      <th>posting_id</th>\n",
       "      <th>image</th>\n",
       "      <th>image_phash</th>\n",
       "      <th>title</th>\n",
       "      <th>label_group</th>\n",
       "      <th>target</th>\n",
       "    </tr>\n",
       "  </thead>\n",
       "  <tbody>\n",
       "    <tr>\n",
       "      <th>0</th>\n",
       "      <td>train_129225211</td>\n",
       "      <td>0000a68812bc7e98c42888dfb1c07da0.jpg</td>\n",
       "      <td>94974f937d4c2433</td>\n",
       "      <td>Paper Bag Victoria Secret</td>\n",
       "      <td>249114794</td>\n",
       "      <td>[train_129225211, train_2278313361]</td>\n",
       "    </tr>\n",
       "    <tr>\n",
       "      <th>1</th>\n",
       "      <td>train_3386243561</td>\n",
       "      <td>00039780dfc94d01db8676fe789ecd05.jpg</td>\n",
       "      <td>af3f9460c2838f0f</td>\n",
       "      <td>Double Tape 3M VHB 12 mm x 4,5 m ORIGINAL / DO...</td>\n",
       "      <td>2937985045</td>\n",
       "      <td>[train_3386243561, train_3423213080]</td>\n",
       "    </tr>\n",
       "    <tr>\n",
       "      <th>2</th>\n",
       "      <td>train_2288590299</td>\n",
       "      <td>000a190fdd715a2a36faed16e2c65df7.jpg</td>\n",
       "      <td>b94cb00ed3e50f78</td>\n",
       "      <td>Maling TTS Canned Pork Luncheon Meat 397 gr</td>\n",
       "      <td>2395904891</td>\n",
       "      <td>[train_2288590299, train_3803689425]</td>\n",
       "    </tr>\n",
       "  </tbody>\n",
       "</table>\n",
       "</div>"
      ],
      "text/plain": [
       "         posting_id                                 image       image_phash  \\\n",
       "0   train_129225211  0000a68812bc7e98c42888dfb1c07da0.jpg  94974f937d4c2433   \n",
       "1  train_3386243561  00039780dfc94d01db8676fe789ecd05.jpg  af3f9460c2838f0f   \n",
       "2  train_2288590299  000a190fdd715a2a36faed16e2c65df7.jpg  b94cb00ed3e50f78   \n",
       "\n",
       "                                               title  label_group  \\\n",
       "0                          Paper Bag Victoria Secret    249114794   \n",
       "1  Double Tape 3M VHB 12 mm x 4,5 m ORIGINAL / DO...   2937985045   \n",
       "2        Maling TTS Canned Pork Luncheon Meat 397 gr   2395904891   \n",
       "\n",
       "                                 target  \n",
       "0   [train_129225211, train_2278313361]  \n",
       "1  [train_3386243561, train_3423213080]  \n",
       "2  [train_2288590299, train_3803689425]  "
      ]
     },
     "execution_count": 5,
     "metadata": {},
     "output_type": "execute_result"
    }
   ],
   "source": [
    "train_df.head(3)"
   ]
  },
  {
   "cell_type": "markdown",
   "id": "mexican-advertiser",
   "metadata": {},
   "source": [
    "### Test phash"
   ]
  },
  {
   "cell_type": "code",
   "execution_count": 6,
   "id": "suited-cutting",
   "metadata": {},
   "outputs": [],
   "source": [
    "hammdist_df = pd.DataFrame(index=train_df.image_phash.values, columns=train_df.image_phash.values)"
   ]
  },
  {
   "cell_type": "code",
   "execution_count": null,
   "id": "backed-picture",
   "metadata": {},
   "outputs": [],
   "source": [
    "count = hammdist_df.shape[0]\n",
    "for i in hammdist_df.index:\n",
    "    count += 1\n",
    "    for c in hammdist_df.columns:\n",
    "        hammdist_df.loc[i, c] = hammingDist(i, c)\n",
    "    if count % 2000 == 0:\n",
    "        hammdist_df.to_csv('hamming_dist.csv')\n",
    "        print(count)\n",
    "hammdist_df.to_csv('hamming_dist.csv')"
   ]
  },
  {
   "cell_type": "markdown",
   "id": "curious-trout",
   "metadata": {},
   "source": [
    "### Get BERT emb of title"
   ]
  },
  {
   "cell_type": "code",
   "execution_count": 6,
   "id": "employed-reserve",
   "metadata": {
    "tags": []
   },
   "outputs": [
    {
     "name": "stderr",
     "output_type": "stream",
     "text": [
      "/home/chien/hdd/miniconda3/envs/shopee/lib/python3.8/site-packages/transformers/tokenization_utils_base.py:2068: FutureWarning: The `pad_to_max_length` argument is deprecated and will be removed in a future version, use `padding=True` or `padding='longest'` to pad to the longest sequence in the batch, or use `padding='max_length'` to pad to a max length. In this case, you can give a specific length with `max_length` (e.g. `max_length=45`) or leave max_length to None to pad to the maximal input size of the model (e.g. 512 for Bert).\n",
      "  warnings.warn(\n"
     ]
    }
   ],
   "source": [
    "bert_embs = []\n",
    "\n",
    "for i_batch, data in enumerate(post_dataloader):\n",
    "#     print(i_batch, data['image'].shape, data['token_tensor'].shape, data['attn_mask'].shape)\n",
    "    token_tensors = data['token_tensor'].cuda()\n",
    "    attn_masks = data['attn_mask'].cuda()\n",
    "    batch_embs = get_bert_embedding(token_tensors, attn_masks)\n",
    "    bert_embs.append(batch_embs.cpu())"
   ]
  },
  {
   "cell_type": "code",
   "execution_count": 17,
   "id": "delayed-question",
   "metadata": {},
   "outputs": [],
   "source": [
    "embs = bert_embs[0]\n",
    "\n",
    "for emb in bert_embs[1:]:\n",
    "    embs = torch.cat((embs, emb), dim=0)\n",
    "joblib.dump(embs, 'tmp/title_bert_embs.joblib')"
   ]
  },
  {
   "cell_type": "code",
   "execution_count": 26,
   "id": "furnished-lawsuit",
   "metadata": {},
   "outputs": [
    {
     "data": {
      "text/plain": [
       "torch.Size([34250, 768])"
      ]
     },
     "execution_count": 26,
     "metadata": {},
     "output_type": "execute_result"
    }
   ],
   "source": [
    "title_embs = joblib.load('tmp/title_bert_embs.joblib')\n",
    "title_embs.shape"
   ]
  },
  {
   "cell_type": "markdown",
   "id": "adaptive-solid",
   "metadata": {},
   "source": [
    "### Clustering"
   ]
  },
  {
   "cell_type": "code",
   "execution_count": 27,
   "id": "frozen-issue",
   "metadata": {},
   "outputs": [
    {
     "ename": "NameError",
     "evalue": "name 'reduced_2' is not defined",
     "output_type": "error",
     "traceback": [
      "\u001b[0;31m---------------------------------------------------------------------------\u001b[0m",
      "\u001b[0;31mNameError\u001b[0m                                 Traceback (most recent call last)",
      "\u001b[0;32m<ipython-input-27-14c05da3e0cf>\u001b[0m in \u001b[0;36m<module>\u001b[0;34m\u001b[0m\n\u001b[1;32m      6\u001b[0m \u001b[0;32mfor\u001b[0m \u001b[0mlabel\u001b[0m \u001b[0;32min\u001b[0m \u001b[0muniq_labels\u001b[0m\u001b[0;34m:\u001b[0m\u001b[0;34m\u001b[0m\u001b[0;34m\u001b[0m\u001b[0m\n\u001b[1;32m      7\u001b[0m     \u001b[0mmask\u001b[0m \u001b[0;34m=\u001b[0m \u001b[0;34m(\u001b[0m\u001b[0mlabels\u001b[0m \u001b[0;34m==\u001b[0m \u001b[0mlabel\u001b[0m\u001b[0;34m)\u001b[0m\u001b[0;34m\u001b[0m\u001b[0;34m\u001b[0m\u001b[0m\n\u001b[0;32m----> 8\u001b[0;31m     \u001b[0mplt\u001b[0m\u001b[0;34m.\u001b[0m\u001b[0mscatter\u001b[0m\u001b[0;34m(\u001b[0m\u001b[0mreduced_2\u001b[0m\u001b[0;34m[\u001b[0m\u001b[0mmask\u001b[0m\u001b[0;34m,\u001b[0m \u001b[0;36m0\u001b[0m\u001b[0;34m]\u001b[0m\u001b[0;34m,\u001b[0m \u001b[0mreduced_2\u001b[0m\u001b[0;34m[\u001b[0m\u001b[0mmask\u001b[0m\u001b[0;34m,\u001b[0m \u001b[0;36m1\u001b[0m\u001b[0;34m]\u001b[0m\u001b[0;34m)\u001b[0m\u001b[0;34m\u001b[0m\u001b[0;34m\u001b[0m\u001b[0m\n\u001b[0m\u001b[1;32m      9\u001b[0m \u001b[0mplt\u001b[0m\u001b[0;34m.\u001b[0m\u001b[0mlegend\u001b[0m\u001b[0;34m(\u001b[0m\u001b[0muniq_labels\u001b[0m\u001b[0;34m,\u001b[0m \u001b[0mbbox_to_anchor\u001b[0m\u001b[0;34m=\u001b[0m\u001b[0;34m(\u001b[0m\u001b[0;36m1.05\u001b[0m\u001b[0;34m,\u001b[0m \u001b[0;36m1\u001b[0m\u001b[0;34m)\u001b[0m\u001b[0;34m)\u001b[0m\u001b[0;34m\u001b[0m\u001b[0;34m\u001b[0m\u001b[0m\n\u001b[1;32m     10\u001b[0m \u001b[0mplt\u001b[0m\u001b[0;34m.\u001b[0m\u001b[0mtight_layout\u001b[0m\u001b[0;34m(\u001b[0m\u001b[0;34m)\u001b[0m\u001b[0;34m\u001b[0m\u001b[0;34m\u001b[0m\u001b[0m\n",
      "\u001b[0;31mNameError\u001b[0m: name 'reduced_2' is not defined"
     ]
    }
   ],
   "source": [
    "labels = DBSCAN(eps=0.05, min_samples=2, n_jobs=-1).fit_predict(title_embs)\n",
    "uniq_labels = list(sorted(set(labels)))\n",
    "\n",
    "# print(Counter(labels))\n",
    "\n",
    "# for label in uniq_labels:\n",
    "#     mask = (labels == label)\n",
    "#     plt.scatter(reduced_2[mask, 0], reduced_2[mask, 1])\n",
    "# plt.legend(uniq_labels, bbox_to_anchor=(1.05, 1))\n",
    "# plt.tight_layout()\n",
    "# plt.show()"
   ]
  },
  {
   "cell_type": "code",
   "execution_count": 28,
   "id": "correct-publisher",
   "metadata": {},
   "outputs": [
    {
     "data": {
      "text/plain": [
       "1369"
      ]
     },
     "execution_count": 28,
     "metadata": {},
     "output_type": "execute_result"
    }
   ],
   "source": [
    "len(uniq_labels)"
   ]
  },
  {
   "cell_type": "code",
   "execution_count": 29,
   "id": "pleased-montreal",
   "metadata": {},
   "outputs": [],
   "source": [
    "train_df['labels'] = labels"
   ]
  },
  {
   "cell_type": "code",
   "execution_count": 31,
   "id": "behind-western",
   "metadata": {},
   "outputs": [],
   "source": [
    "tmp = train_df.groupby('labels').posting_id.agg('unique').to_dict()\n",
    "train_df['oof'] = train_df.labels.map(tmp)"
   ]
  },
  {
   "cell_type": "code",
   "execution_count": 32,
   "id": "controlling-throat",
   "metadata": {},
   "outputs": [],
   "source": [
    "def outlier_group(row):\n",
    "    if row.labels == -1:\n",
    "        return [row.posting_id]\n",
    "    else:\n",
    "        return row.oof\n",
    "train_df['oof'] = train_df.apply(outlier_group, axis=1)"
   ]
  },
  {
   "cell_type": "markdown",
   "id": "associate-bermuda",
   "metadata": {},
   "source": [
    "### Calculate metric"
   ]
  },
  {
   "cell_type": "code",
   "execution_count": 34,
   "id": "organized-bailey",
   "metadata": {},
   "outputs": [
    {
     "name": "stdout",
     "output_type": "stream",
     "text": [
      "CV score = 0.4832022085558331\n"
     ]
    }
   ],
   "source": [
    "train_df['f1'] = train_df.apply(getMetric('oof'), axis=1)\n",
    "print('CV score =', train_df.f1.mean())"
   ]
  },
  {
   "cell_type": "code",
   "execution_count": null,
   "id": "fabulous-underwear",
   "metadata": {},
   "outputs": [],
   "source": []
  }
 ],
 "metadata": {
  "kernelspec": {
   "display_name": "Python 3",
   "language": "python",
   "name": "python3"
  },
  "language_info": {
   "codemirror_mode": {
    "name": "ipython",
    "version": 3
   },
   "file_extension": ".py",
   "mimetype": "text/x-python",
   "name": "python",
   "nbconvert_exporter": "python",
   "pygments_lexer": "ipython3",
   "version": "3.8.8"
  }
 },
 "nbformat": 4,
 "nbformat_minor": 5
}
