{
 "cells": [
  {
   "cell_type": "code",
   "execution_count": null,
   "id": "sealed-transport",
   "metadata": {},
   "outputs": [],
   "source": [
    "from collections import Counter\n",
    "from os import cpu_count\n",
    "\n",
    "import joblib\n",
    "import matplotlib.pyplot as plt\n",
    "import numpy as np\n",
    "import pandas as pd\n",
    "import torch\n",
    "import torch.nn as nn\n",
    "from PIL import Image\n",
    "from mpl_toolkits.axes_grid1 import ImageGrid\n",
    "from pytorch_lightning import seed_everything\n",
    "from sklearn.cluster import DBSCAN\n",
    "from timm.data import IMAGENET_DEFAULT_MEAN, IMAGENET_DEFAULT_STD\n",
    "from timm.models.efficientnet import EfficientNet, tf_efficientnet_b8\n",
    "from torch.utils.data import Dataset, DataLoader\n",
    "from torchvision import transforms as T\n",
    "from tqdm.auto import tqdm\n",
    "from umap import UMAP\n",
    "import cv2\n",
    "\n",
    "from utils import pca_explained_variance_ratio\n",
    "from metric import getMetric"
   ]
  },
  {
   "cell_type": "code",
   "execution_count": null,
   "id": "centered-posting",
   "metadata": {},
   "outputs": [],
   "source": [
    "class MyModel(nn.Module):\n",
    "    def __init__(self):\n",
    "        super().__init__()\n",
    "        self.model: EfficientNet = tf_efficientnet_b8(pretrained=True)\n",
    "\n",
    "    @torch.no_grad()\n",
    "    def forward(self, x):\n",
    "        x = self.model.forward_features(x)\n",
    "        x = self.model.global_pool(x)\n",
    "        return x\n",
    "\n",
    "\n",
    "class MyDataset(Dataset):\n",
    "    def __init__(self, df: pd.DataFrame, transform: T.Compose):\n",
    "        self.df = df\n",
    "        self.transform = transform\n",
    "\n",
    "    def __getitem__(self, idx):\n",
    "        row = self.df.iloc[idx]\n",
    "        img = Image.open(row['path_img'])\n",
    "        img = self.transform(img)\n",
    "        return img\n",
    "\n",
    "    def __len__(self):\n",
    "        return len(self.df)\n",
    "\n",
    "\n",
    "def get_loader():\n",
    "    return DataLoader(\n",
    "        dataset=MyDataset(\n",
    "            df,\n",
    "            transform=T.Compose([\n",
    "                T.Resize(672),\n",
    "                T.CenterCrop(int(672 * 0.954)),\n",
    "                T.ToTensor(),\n",
    "                T.Normalize(\n",
    "                    mean=IMAGENET_DEFAULT_MEAN,\n",
    "                    std=IMAGENET_DEFAULT_STD,\n",
    "                ),\n",
    "            ])\n",
    "        ),\n",
    "        batch_size=16,\n",
    "        num_workers=cpu_count() - 1,\n",
    "        pin_memory=True,\n",
    "        shuffle=False,\n",
    "    )\n",
    "\n",
    "\n",
    "def extract_feature(model: nn.Module, loader: DataLoader) -> np.ndarray:\n",
    "    return np.concatenate([\n",
    "        model.forward(x.cuda()).cpu().numpy()\n",
    "        for x in tqdm(loader)\n",
    "    ])"
   ]
  },
  {
   "cell_type": "code",
   "execution_count": null,
   "id": "fiscal-pregnancy",
   "metadata": {},
   "outputs": [],
   "source": [
    "seed = 1\n",
    "seed_everything(seed)"
   ]
  },
  {
   "cell_type": "code",
   "execution_count": null,
   "id": "upper-glenn",
   "metadata": {},
   "outputs": [],
   "source": [
    "df = pd.read_csv('dataset/train_mod.csv')\n",
    "# df = df.drop_duplicates(subset=['md5_img'])\n",
    "df.shape"
   ]
  },
  {
   "cell_type": "code",
   "execution_count": null,
   "id": "accepted-server",
   "metadata": {},
   "outputs": [],
   "source": [
    "tmp = df.groupby('label_group').posting_id.agg('unique').to_dict()\n",
    "df['target'] = df.label_group.map(tmp)"
   ]
  },
  {
   "cell_type": "code",
   "execution_count": null,
   "id": "fatal-minute",
   "metadata": {},
   "outputs": [],
   "source": [
    "df.head()"
   ]
  },
  {
   "cell_type": "code",
   "execution_count": null,
   "id": "adapted-breast",
   "metadata": {},
   "outputs": [],
   "source": [
    "model = MyModel().eval().cuda()\n",
    "loader = get_loader()"
   ]
  },
  {
   "cell_type": "code",
   "execution_count": null,
   "id": "comfortable-eagle",
   "metadata": {},
   "outputs": [],
   "source": [
    "# feats = extract_feature(model, loader)\n",
    "# joblib.dump(feats, 'tmp/tf_efficientnet_b8_feats.joblib')\n",
    "\n",
    "feats = joblib.load('tmp/tf_efficientnet_b8_feats.joblib')\n",
    "feats.shape"
   ]
  },
  {
   "cell_type": "code",
   "execution_count": null,
   "id": "public-colonial",
   "metadata": {},
   "outputs": [],
   "source": [
    "explained_var = pca_explained_variance_ratio(feats)"
   ]
  },
  {
   "cell_type": "code",
   "execution_count": null,
   "id": "consolidated-farming",
   "metadata": {},
   "outputs": [],
   "source": [
    "# reduced_2 = UMAP(n_components=2, random_state=seed, transform_seed=seed).fit_transform(feats)\n",
    "# joblib.dump(reduced_2, 'tmp/tf_efficientnet_b8_reduced_2.joblib')\n",
    "\n",
    "reduced_2 = joblib.load('tmp/tf_efficientnet_b8_reduced_2.joblib')\n",
    "plt.scatter(reduced_2[:, 0], reduced_2[:, 1])\n",
    "plt.tight_layout()\n",
    "plt.show()"
   ]
  },
  {
   "cell_type": "code",
   "execution_count": null,
   "id": "needed-plenty",
   "metadata": {},
   "outputs": [],
   "source": [
    "# reduced_400 = UMAP(n_components=400, random_state=seed, transform_seed=seed).fit_transform(feats)\n",
    "# joblib.dump(reduced_400, 'tmp/tf_efficientnet_b8_reduced_400.joblib')\n",
    "\n",
    "reduced_400 = joblib.load('tmp/tf_efficientnet_b8_reduced_400.joblib')\n",
    "reduced_400.shape"
   ]
  },
  {
   "cell_type": "code",
   "execution_count": null,
   "id": "gorgeous-satellite",
   "metadata": {
    "tags": []
   },
   "outputs": [],
   "source": [
    "labels = DBSCAN(eps=0.05, min_samples=2, n_jobs=-1).fit_predict(reduced_400)\n",
    "uniq_labels = list(sorted(set(labels)))\n",
    "\n",
    "# print(Counter(labels))\n",
    "\n",
    "for label in uniq_labels:\n",
    "    mask = (labels == label)\n",
    "    plt.scatter(reduced_2[mask, 0], reduced_2[mask, 1])\n",
    "plt.legend(uniq_labels, bbox_to_anchor=(1.05, 1))\n",
    "plt.tight_layout()\n",
    "plt.show()"
   ]
  },
  {
   "cell_type": "code",
   "execution_count": null,
   "id": "working-soviet",
   "metadata": {},
   "outputs": [],
   "source": [
    "len(uniq_labels)"
   ]
  },
  {
   "cell_type": "code",
   "execution_count": null,
   "id": "fleet-niger",
   "metadata": {},
   "outputs": [],
   "source": [
    "df['labels'] = labels"
   ]
  },
  {
   "cell_type": "code",
   "execution_count": null,
   "id": "quantitative-despite",
   "metadata": {},
   "outputs": [],
   "source": [
    "tmp = df.groupby('labels').posting_id.agg('unique').to_dict()\n",
    "df['oof'] = df.labels.map(tmp)"
   ]
  },
  {
   "cell_type": "code",
   "execution_count": null,
   "id": "binding-jenny",
   "metadata": {},
   "outputs": [],
   "source": [
    "def outlier_group(row):\n",
    "    if row.labels == -1:\n",
    "        return [row.posting_id]\n",
    "    else:\n",
    "        return row.oof\n",
    "df['oof'] = df.apply(outlier_group, axis=1)"
   ]
  },
  {
   "cell_type": "code",
   "execution_count": null,
   "id": "improving-target",
   "metadata": {},
   "outputs": [],
   "source": [
    "df['f1'] = df.apply(getMetric('oof'), axis=1)\n",
    "print('CV score =', df.f1.mean())"
   ]
  },
  {
   "cell_type": "code",
   "execution_count": null,
   "id": "wound-bahrain",
   "metadata": {},
   "outputs": [],
   "source": []
  }
 ],
 "metadata": {
  "kernelspec": {
   "display_name": "Python 3",
   "language": "python",
   "name": "python3"
  },
  "language_info": {
   "codemirror_mode": {
    "name": "ipython",
    "version": 3
   },
   "file_extension": ".py",
   "mimetype": "text/x-python",
   "name": "python",
   "nbconvert_exporter": "python",
   "pygments_lexer": "ipython3",
   "version": "3.8.8"
  }
 },
 "nbformat": 4,
 "nbformat_minor": 5
}
