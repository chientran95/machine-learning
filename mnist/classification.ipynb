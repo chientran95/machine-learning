{
 "cells": [
  {
   "cell_type": "code",
   "execution_count": null,
   "metadata": {
    "_cell_guid": "b1076dfc-b9ad-4769-8c92-a6c4dae69d19",
    "_uuid": "8f2839f25d086af736a60e9eeb907d3b93b6e0e5",
    "collapsed": true
   },
   "outputs": [],
   "source": [
    "# This Python 3 environment comes with many helpful analytics libraries installed\n",
    "# It is defined by the kaggle/python docker image: https://github.com/kaggle/docker-python\n",
    "# For example, here's several helpful packages to load in \n",
    "\n",
    "import numpy as np # linear algebra\n",
    "import pandas as pd # data processing, CSV file I/O (e.g. pd.read_csv)\n",
    "import tensorflow as tf\n",
    "from keras.models import Sequential\n",
    "from keras.layers import Dense, Reshape, Conv2D, MaxPooling2D, Dropout, Flatten\n",
    "from keras.optimizers import Adam, SGD\n",
    "import math, time, cv2, itertools\n",
    "from sklearn.model_selection import train_test_split\n",
    "import matplotlib.pyplot as plt\n",
    "import pdb\n",
    "\n",
    "# Input data files are available in the \"../input/\" directory.\n",
    "# For example, running this (by clicking run or pressing Shift+Enter) will list the files in the input directory\n",
    "\n",
    "import os\n",
    "print(os.listdir(\"../input\"))\n",
    "\n",
    "# Any results you write to the current directory are saved as output."
   ]
  },
  {
   "cell_type": "code",
   "execution_count": null,
   "metadata": {
    "_uuid": "812dc3f35fec4236a6c3f75ef1229afd0e307198",
    "collapsed": true
   },
   "outputs": [],
   "source": [
    "train_data = pd.read_csv('../input/train.csv')\n",
    "# test_data = pd.read_csv('../input/test.csv').values"
   ]
  },
  {
   "cell_type": "code",
   "execution_count": null,
   "metadata": {
    "_uuid": "185558a8df3748e709565fb8017818f3bb7c510c",
    "collapsed": true
   },
   "outputs": [],
   "source": [
    "y = pd.get_dummies(train_data.label).values\n",
    "X = train_data.iloc[:, 1:].values\n",
    "train_X, test_X, train_y, test_y = train_test_split(X, y, train_size=0.9, random_state = 0)\n",
    "X_tr, X_val, y_tr, y_val = train_test_split(train_X, train_y, train_size=0.8, random_state = 0)\n",
    "print(type(X_tr), type(y_tr), type(X_val), type(y_val), type(test_X), type(test_y))\n",
    "print(X_tr.shape, y_tr.shape, X_val.shape, y_val.shape, test_X.shape, test_y.shape)"
   ]
  },
  {
   "cell_type": "code",
   "execution_count": null,
   "metadata": {
    "_uuid": "61c4da78d97ff93e1bbf7949e5b4c82e38ba3355",
    "collapsed": true
   },
   "outputs": [],
   "source": [
    "def next_batch(step, batch_size, data, labels):\n",
    "    return data[step*batch_size:(step + 1)*batch_size], labels[step*batch_size:(step + 1)*batch_size]"
   ]
  },
  {
   "cell_type": "markdown",
   "metadata": {
    "_uuid": "e4b08f5c953b8e4ec5a08568b482dd86eb67fa06"
   },
   "source": [
    " ## Simple linear model"
   ]
  },
  {
   "cell_type": "code",
   "execution_count": null,
   "metadata": {
    "_cell_guid": "79c7e3d0-c299-4dcb-8224-4455121ee9b0",
    "_uuid": "d629ff2d2480ee46fbb7e2d37f6b5fab8052498a",
    "collapsed": true
   },
   "outputs": [],
   "source": [
    "x_input = tf.placeholder(tf.float32, shape=[None, 784])\n",
    "y_label = tf.placeholder(tf.float32, shape=[None, 10])\n",
    "\n",
    "#W = tf.Variable(tf.zeros([784, 10]))\n",
    "#b = tf.Variable(tf.zeros([10]))\n",
    "\n",
    "W = tf.Variable(tf.truncated_normal([784, 10], stddev=0.1))\n",
    "b = tf.Variable(tf.constant(0.1, shape=[10]))\n",
    "\n",
    "y_pred = tf.matmul(x_input, W) + b\n",
    "cross_entropy = tf.reduce_mean(tf.nn.softmax_cross_entropy_with_logits(labels=y_label, logits=y_pred))"
   ]
  },
  {
   "cell_type": "code",
   "execution_count": null,
   "metadata": {
    "_uuid": "69db635cbd4bc06f8733212d5b29eef03290435d",
    "collapsed": true
   },
   "outputs": [],
   "source": [
    "train_step = tf.train.GradientDescentOptimizer(0.5).minimize(cross_entropy)\n",
    "correct_prediction = tf.equal(tf.argmax(y_pred, 1), tf.argmax(y_label, 1))\n",
    "accuracy = tf.reduce_mean(tf.cast(correct_prediction, tf.float32))"
   ]
  },
  {
   "cell_type": "code",
   "execution_count": null,
   "metadata": {
    "_uuid": "399062626fbb63a2ca67d2cd9891a796c67ddc15",
    "collapsed": true
   },
   "outputs": [],
   "source": [
    "epochs = 10\n",
    "batch_size = 100\n",
    "steps = math.ceil(train_X.shape[0] // batch_size)\n",
    "\n",
    "train_accs = []\n",
    "eval_accs = []\n",
    "with tf.Session() as sess:\n",
    "    sess.run(tf.global_variables_initializer())\n",
    "    for epoch in range(epochs):\n",
    "        for step in range(steps):\n",
    "            batch_X, batch_y = next_batch(step, batch_size, train_X, train_y)\n",
    "            #if step % 50 == 0:\n",
    "            #    train_accuracy = accuracy.eval(feed_dict={x_input: batch_X, y_label: batch_y})\n",
    "            #    print('step %d, training accuracy %g' % (step, train_accuracy))\n",
    "            train_step.run(feed_dict={x_input: batch_X, y_label: batch_y})\n",
    "        train_accuracy = accuracy.eval(feed_dict={x_input: batch_X, y_label: batch_y})\n",
    "        eval_accuracy = accuracy.eval(feed_dict={x_input: val_X, y_label: val_y})\n",
    "        train_accs.append(train_accuracy)\n",
    "        eval_accs.append(eval_accuracy)\n",
    "        print('Epoch: %d - Accuracy: %g' % (epoch, eval_accuracy))\n",
    "\n",
    "x = np.array(range(epochs))\n",
    "plt.plot(x, train_accs)\n",
    "plt.plot(x, eval_accs)\n",
    "plt.show()"
   ]
  },
  {
   "cell_type": "markdown",
   "metadata": {
    "_uuid": "d4b3d17c93e1beca5d905047db5f6fd2c94c4db5"
   },
   "source": [
    "## TensorFlow Convolutional Network"
   ]
  },
  {
   "cell_type": "code",
   "execution_count": null,
   "metadata": {
    "_uuid": "35251d4487057fc574f43ad4cbec6e2bafc1fe01",
    "collapsed": true
   },
   "outputs": [],
   "source": [
    "def weight_variable(shape):\n",
    "    initial = tf.truncated_normal(shape, stddev=0.1)\n",
    "    return tf.Variable(initial)\n",
    "\n",
    "def bias_variable(shape):\n",
    "    initial = tf.constant(0.1, shape=shape)\n",
    "    return tf.Variable(initial)\n",
    "\n",
    "def conv2d(x, W):\n",
    "    return tf.nn.conv2d(x, W, strides=[1, 1, 1, 1], padding='SAME')\n",
    "\n",
    "def max_pool_2x2(x):\n",
    "    return tf.nn.max_pool(x, ksize=[1, 2, 2, 1], strides=[1, 2, 2, 1], padding='SAME')"
   ]
  },
  {
   "cell_type": "code",
   "execution_count": null,
   "metadata": {
    "_uuid": "2b31186ed2ad84490d786d28f2b802abd8ff95fe",
    "collapsed": true
   },
   "outputs": [],
   "source": [
    "# Input\n",
    "x_input = tf.placeholder(tf.float32, shape=[None, 784])\n",
    "y_label = tf.placeholder(tf.float32, shape=[None, 10])\n",
    "x_image = tf.reshape(x_input, [-1, 28, 28, 1])\n",
    "\n",
    "# Convoution layer 1\n",
    "W_conv1 = weight_variable([5, 5, 1, 32])\n",
    "b_conv1 = bias_variable([32])\n",
    "h_conv1 = tf.nn.relu(conv2d(x_image, W_conv1) + b_conv1)\n",
    "h_pool1 = max_pool_2x2(h_conv1)\n",
    "\n",
    "# Convoution layer 2\n",
    "W_conv2 = weight_variable([5, 5, 32, 64])\n",
    "b_conv2 = bias_variable([64])\n",
    "h_conv2 = tf.nn.relu(conv2d(h_pool1, W_conv2) + b_conv2)\n",
    "h_pool2 = max_pool_2x2(h_conv2)\n",
    "\n",
    "# FC layer\n",
    "W_fc1 = weight_variable([7 * 7 * 64, 1024])\n",
    "b_fc1 = bias_variable([1024])\n",
    "h_pool2_flat = tf.reshape(h_pool2, [-1, 7*7*64])\n",
    "h_fc1 = tf.nn.relu(tf.matmul(h_pool2_flat, W_fc1) + b_fc1)\n",
    "\n",
    "# Dropout\n",
    "keep_prob = tf.placeholder(tf.float32)\n",
    "h_fc1_drop = tf.nn.dropout(h_fc1, keep_prob)\n",
    "\n",
    "# Softmax layer\n",
    "W_fc2 = weight_variable([1024, 10])\n",
    "b_fc2 = bias_variable([10])\n",
    "y_conv = tf.matmul(h_fc1_drop, W_fc2) + b_fc2"
   ]
  },
  {
   "cell_type": "code",
   "execution_count": null,
   "metadata": {
    "_uuid": "efd0d80faf1be3acd6ef85bfdd9ca378c6c169ce",
    "collapsed": true,
    "scrolled": false
   },
   "outputs": [],
   "source": [
    "cross_entropy = tf.reduce_mean(tf.nn.softmax_cross_entropy_with_logits(labels=y_label, logits=y_conv))\n",
    "train_step = tf.train.AdamOptimizer(1e-4).minimize(cross_entropy)\n",
    "correct_prediction = tf.equal(tf.argmax(y_conv, 1), tf.argmax(y_label, 1))\n",
    "accuracy = tf.reduce_mean(tf.cast(correct_prediction, tf.float32))\n",
    "\n",
    "epochs = 30\n",
    "batch_size = 100\n",
    "steps = math.ceil(train_X.shape[0] // batch_size)\n",
    "\n",
    "train_accs = []\n",
    "eval_accs = []\n",
    "with tf.Session() as sess:\n",
    "    sess.run(tf.global_variables_initializer())\n",
    "    for epoch in range(epochs):\n",
    "        for step in range(steps):\n",
    "            batch_X, batch_y = next_batch(step, batch_size, train_X, train_y)\n",
    "#             if step % 50 == 0:\n",
    "#                 train_accuracy = accuracy.eval(feed_dict={x_input: batch_X, y_label: batch_y, keep_prob: 1.0})\n",
    "#                 print('step %d, training accuracy %g' % (step, train_accuracy))\n",
    "            train_step.run(feed_dict={x_input: batch_X, y_label: batch_y, keep_prob: 0.5})\n",
    "        train_accuracy = accuracy.eval(feed_dict={x_input: batch_X, y_label: batch_y, keep_prob: 1.0})\n",
    "        eval_accuracy = accuracy.eval(feed_dict={x_input: X_val, y_label: y_val, keep_prob: 1.0})\n",
    "        print('Epoch %d, val accuracy %g' % (epoch, eval_accuracy))\n",
    "        train_accs.append(train_accuracy)\n",
    "        eval_accs.append(eval_accuracy)\n",
    "    accuracy_l = accuracy.eval(feed_dict={x_input: test_X, y_label: test_y, keep_prob: 1.0})\n",
    "    print('test accuracy ', accuracy_l)\n",
    "        \n",
    "x = np.array(range(epochs))\n",
    "plt.plot(x, train_accs)\n",
    "plt.plot(x, eval_accs)\n",
    "plt.show()"
   ]
  },
  {
   "cell_type": "markdown",
   "metadata": {
    "_uuid": "b5c6f8ceb8f7441764a5cc9c2808ba288a8e73aa"
   },
   "source": [
    "## Keras model"
   ]
  },
  {
   "cell_type": "code",
   "execution_count": null,
   "metadata": {
    "_uuid": "51c54da8b8f528e4315d64557deee8d5d7db3214",
    "collapsed": true
   },
   "outputs": [],
   "source": [
    "model = Sequential()\n",
    "model.add(Reshape((28, 28, 1), input_shape=(784,)))\n",
    "model.add(Conv2D(32, (5, 5), padding='same', activation='relu', ))\n",
    "model.add(MaxPooling2D(pool_size=(2, 2)))\n",
    "\n",
    "model.add(Conv2D(64, (5, 5), padding='same', activation='relu'))\n",
    "model.add(MaxPooling2D(pool_size=(2, 2)))\n",
    "\n",
    "model.add(Flatten())\n",
    "model.add(Dense(1024, activation='relu'))\n",
    "model.add(Dropout(0.5))\n",
    "model.add(Dense(10, activation='softmax'))"
   ]
  },
  {
   "cell_type": "code",
   "execution_count": null,
   "metadata": {
    "_uuid": "7a5044ec7231c314e1ae64a6dd22164c79699ef1",
    "collapsed": true
   },
   "outputs": [],
   "source": [
    "model.compile(loss='categorical_crossentropy',\n",
    "              optimizer=Adam(lr=0.0001),\n",
    "              metrics=['accuracy'])"
   ]
  },
  {
   "cell_type": "code",
   "execution_count": null,
   "metadata": {
    "_uuid": "4337930d92cab37ba8d98892b90d84a7ff0fb609",
    "collapsed": true
   },
   "outputs": [],
   "source": [
    "epochs = 20\n",
    "batch_size = 100\n",
    "model.fit(X_tr, y_tr,\n",
    "          batch_size=batch_size,\n",
    "          epochs=epochs,\n",
    "          verbose=1,\n",
    "          validation_data=(X_val, y_val)\n",
    "         )"
   ]
  },
  {
   "cell_type": "code",
   "execution_count": null,
   "metadata": {
    "_uuid": "ebfcda14fa50dba3deb72b19559fe5576b779f37",
    "collapsed": true
   },
   "outputs": [],
   "source": [
    "score = model.evaluate(test_X, test_y, verbose=0)\n",
    "print('Test loss:', score[0])\n",
    "print('Test accuracy:', score[1])"
   ]
  }
 ],
 "metadata": {
  "kernelspec": {
   "display_name": "Python 3",
   "language": "python",
   "name": "python3"
  },
  "language_info": {
   "codemirror_mode": {
    "name": "ipython",
    "version": 3
   },
   "file_extension": ".py",
   "mimetype": "text/x-python",
   "name": "python",
   "nbconvert_exporter": "python",
   "pygments_lexer": "ipython3",
   "version": "3.5.5"
  }
 },
 "nbformat": 4,
 "nbformat_minor": 2
}
