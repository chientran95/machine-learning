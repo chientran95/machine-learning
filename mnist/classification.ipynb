{
 "cells": [
  {
   "cell_type": "code",
   "execution_count": 1,
   "metadata": {
    "_cell_guid": "b1076dfc-b9ad-4769-8c92-a6c4dae69d19",
    "_uuid": "8f2839f25d086af736a60e9eeb907d3b93b6e0e5",
    "collapsed": true
   },
   "outputs": [
    {
     "name": "stderr",
     "output_type": "stream",
     "text": [
      "Using TensorFlow backend.\n"
     ]
    }
   ],
   "source": [
    "import os\n",
    "import numpy as np # linear algebra\n",
    "import pandas as pd # data processing, CSV file I/O (e.g. pd.read_csv)\n",
    "import tensorflow as tf\n",
    "from keras.models import Sequential\n",
    "from keras.layers import Dense, Reshape, Conv2D, MaxPooling2D, Dropout, Flatten\n",
    "from keras.optimizers import Adam, SGD\n",
    "import math, time, cv2, itertools\n",
    "from sklearn.model_selection import train_test_split\n",
    "import matplotlib.pyplot as plt"
   ]
  },
  {
   "cell_type": "code",
   "execution_count": 2,
   "metadata": {
    "_uuid": "812dc3f35fec4236a6c3f75ef1229afd0e307198",
    "collapsed": true
   },
   "outputs": [],
   "source": [
    "train_data = pd.read_csv('train.csv')\n",
    "# test_data = pd.read_csv('test.csv').values"
   ]
  },
  {
   "cell_type": "code",
   "execution_count": 4,
   "metadata": {
    "_uuid": "185558a8df3748e709565fb8017818f3bb7c510c",
    "collapsed": true
   },
   "outputs": [
    {
     "name": "stderr",
     "output_type": "stream",
     "text": [
      "/opt/anaconda/envs/subaru/lib/python3.6/site-packages/sklearn/model_selection/_split.py:2026: FutureWarning: From version 0.21, test_size will always complement train_size unless both are specified.\n",
      "  FutureWarning)\n"
     ]
    },
    {
     "name": "stdout",
     "output_type": "stream",
     "text": [
      "<class 'numpy.ndarray'> <class 'numpy.ndarray'> <class 'numpy.ndarray'> <class 'numpy.ndarray'> <class 'numpy.ndarray'> <class 'numpy.ndarray'>\n",
      "(30240, 784) (30240, 10) (7560, 784) (7560, 10) (4200, 784) (4200, 10)\n"
     ]
    }
   ],
   "source": [
    "y = pd.get_dummies(train_data.label).values\n",
    "X = train_data.iloc[:, 1:].values\n",
    "X_train, X_test, y_train, y_test = train_test_split(X, y, train_size=0.9, random_state = 0)\n",
    "X_tr, X_val, y_tr, y_val = train_test_split(X_train, y_train, train_size=0.8, random_state = 0)\n",
    "print(type(X_tr), type(y_tr), type(X_val), type(y_val), type(X_test), type(y_test))\n",
    "print(X_tr.shape, y_tr.shape, X_val.shape, y_val.shape, X_test.shape, y_test.shape)"
   ]
  },
  {
   "cell_type": "code",
   "execution_count": 5,
   "metadata": {
    "_uuid": "61c4da78d97ff93e1bbf7949e5b4c82e38ba3355",
    "collapsed": true
   },
   "outputs": [],
   "source": [
    "def next_batch(step, batch_size, data, labels):\n",
    "    return data[step*batch_size:(step + 1)*batch_size], labels[step*batch_size:(step + 1)*batch_size]"
   ]
  },
  {
   "cell_type": "markdown",
   "metadata": {
    "_uuid": "e4b08f5c953b8e4ec5a08568b482dd86eb67fa06"
   },
   "source": [
    " ## Simple linear model"
   ]
  },
  {
   "cell_type": "code",
   "execution_count": 6,
   "metadata": {
    "_cell_guid": "79c7e3d0-c299-4dcb-8224-4455121ee9b0",
    "_uuid": "d629ff2d2480ee46fbb7e2d37f6b5fab8052498a",
    "collapsed": true
   },
   "outputs": [
    {
     "name": "stdout",
     "output_type": "stream",
     "text": [
      "WARNING:tensorflow:From <ipython-input-6-c98aa9a29702>:11: softmax_cross_entropy_with_logits (from tensorflow.python.ops.nn_ops) is deprecated and will be removed in a future version.\n",
      "Instructions for updating:\n",
      "\n",
      "Future major versions of TensorFlow will allow gradients to flow\n",
      "into the labels input on backprop by default.\n",
      "\n",
      "See tf.nn.softmax_cross_entropy_with_logits_v2.\n",
      "\n"
     ]
    }
   ],
   "source": [
    "x_input = tf.placeholder(tf.float32, shape=[None, 784])\n",
    "y_label = tf.placeholder(tf.float32, shape=[None, 10])\n",
    "\n",
    "#W = tf.Variable(tf.zeros([784, 10]))\n",
    "#b = tf.Variable(tf.zeros([10]))\n",
    "\n",
    "W = tf.Variable(tf.truncated_normal([784, 10], stddev=0.1))\n",
    "b = tf.Variable(tf.constant(0.1, shape=[10]))\n",
    "\n",
    "y_pred = tf.matmul(x_input, W) + b\n",
    "cross_entropy = tf.reduce_mean(tf.nn.softmax_cross_entropy_with_logits(labels=y_label, logits=y_pred))"
   ]
  },
  {
   "cell_type": "code",
   "execution_count": 7,
   "metadata": {
    "_uuid": "69db635cbd4bc06f8733212d5b29eef03290435d",
    "collapsed": true
   },
   "outputs": [],
   "source": [
    "train_step = tf.train.GradientDescentOptimizer(0.5).minimize(cross_entropy)\n",
    "correct_prediction = tf.equal(tf.argmax(y_pred, 1), tf.argmax(y_label, 1))\n",
    "accuracy = tf.reduce_mean(tf.cast(correct_prediction, tf.float32))"
   ]
  },
  {
   "cell_type": "code",
   "execution_count": 8,
   "metadata": {
    "_uuid": "399062626fbb63a2ca67d2cd9891a796c67ddc15",
    "collapsed": true
   },
   "outputs": [
    {
     "name": "stdout",
     "output_type": "stream",
     "text": [
      "Epoch: 0 - Accuracy: 0.874339\n",
      "Epoch: 1 - Accuracy: 0.878042\n",
      "Epoch: 2 - Accuracy: 0.897354\n",
      "Epoch: 3 - Accuracy: 0.880291\n",
      "Epoch: 4 - Accuracy: 0.875132\n",
      "Epoch: 5 - Accuracy: 0.885582\n",
      "Epoch: 6 - Accuracy: 0.851058\n",
      "Epoch: 7 - Accuracy: 0.884788\n",
      "Epoch: 8 - Accuracy: 0.878439\n",
      "Epoch: 9 - Accuracy: 0.87328\n"
     ]
    },
    {
     "data": {
      "image/png": "[encoded data removed]",
      "text/plain": [
       "<Figure size 432x288 with 1 Axes>"
      ]
     },
     "metadata": {
      "needs_background": "light"
     },
     "output_type": "display_data"
    }
   ],
   "source": [
    "epochs = 10\n",
    "batch_size = 100\n",
    "steps = math.ceil(X_tr.shape[0] // batch_size)\n",
    "\n",
    "train_accs = []\n",
    "eval_accs = []\n",
    "with tf.Session() as sess:\n",
    "    sess.run(tf.global_variables_initializer())\n",
    "    for epoch in range(epochs):\n",
    "        for step in range(steps):\n",
    "            batch_X, batch_y = next_batch(step, batch_size, X_tr, y_tr)\n",
    "            #if step % 50 == 0:\n",
    "            #    train_accuracy = accuracy.eval(feed_dict={x_input: batch_X, y_label: batch_y})\n",
    "            #    print('step %d, training accuracy %g' % (step, train_accuracy))\n",
    "            train_step.run(feed_dict={x_input: batch_X, y_label: batch_y})\n",
    "        train_accuracy = accuracy.eval(feed_dict={x_input: batch_X, y_label: batch_y})\n",
    "        eval_accuracy = accuracy.eval(feed_dict={x_input: X_val, y_label: y_val})\n",
    "        train_accs.append(train_accuracy)\n",
    "        eval_accs.append(eval_accuracy)\n",
    "        print('Epoch: %d - Accuracy: %g' % (epoch, eval_accuracy))\n",
    "\n",
    "x = np.array(range(epochs))\n",
    "plt.plot(x, train_accs)\n",
    "plt.plot(x, eval_accs)\n",
    "plt.show()"
   ]
  },
  {
   "cell_type": "markdown",
   "metadata": {
    "_uuid": "d4b3d17c93e1beca5d905047db5f6fd2c94c4db5"
   },
   "source": [
    "## TensorFlow Convolutional Network"
   ]
  },
  {
   "cell_type": "code",
   "execution_count": 9,
   "metadata": {
    "_uuid": "35251d4487057fc574f43ad4cbec6e2bafc1fe01",
    "collapsed": true
   },
   "outputs": [],
   "source": [
    "def weight_variable(shape):\n",
    "    initial = tf.truncated_normal(shape, stddev=0.1)\n",
    "    return tf.Variable(initial)\n",
    "\n",
    "def bias_variable(shape):\n",
    "    initial = tf.constant(0.1, shape=shape)\n",
    "    return tf.Variable(initial)\n",
    "\n",
    "def conv2d(x, W):\n",
    "    return tf.nn.conv2d(x, W, strides=[1, 1, 1, 1], padding='SAME')\n",
    "\n",
    "def max_pool_2x2(x):\n",
    "    return tf.nn.max_pool(x, ksize=[1, 2, 2, 1], strides=[1, 2, 2, 1], padding='SAME')"
   ]
  },
  {
   "cell_type": "code",
   "execution_count": 10,
   "metadata": {
    "_uuid": "2b31186ed2ad84490d786d28f2b802abd8ff95fe",
    "collapsed": true
   },
   "outputs": [],
   "source": [
    "# Input\n",
    "x_input = tf.placeholder(tf.float32, shape=[None, 784])\n",
    "y_label = tf.placeholder(tf.float32, shape=[None, 10])\n",
    "x_image = tf.reshape(x_input, [-1, 28, 28, 1])\n",
    "\n",
    "# Convoution layer 1\n",
    "W_conv1 = weight_variable([5, 5, 1, 32])\n",
    "b_conv1 = bias_variable([32])\n",
    "h_conv1 = tf.nn.relu(conv2d(x_image, W_conv1) + b_conv1)\n",
    "h_pool1 = max_pool_2x2(h_conv1)\n",
    "\n",
    "# Convoution layer 2\n",
    "W_conv2 = weight_variable([5, 5, 32, 64])\n",
    "b_conv2 = bias_variable([64])\n",
    "h_conv2 = tf.nn.relu(conv2d(h_pool1, W_conv2) + b_conv2)\n",
    "h_pool2 = max_pool_2x2(h_conv2)\n",
    "\n",
    "# FC layer\n",
    "W_fc1 = weight_variable([7 * 7 * 64, 1024])\n",
    "b_fc1 = bias_variable([1024])\n",
    "h_pool2_flat = tf.reshape(h_pool2, [-1, 7*7*64])\n",
    "h_fc1 = tf.nn.relu(tf.matmul(h_pool2_flat, W_fc1) + b_fc1)\n",
    "\n",
    "# Dropout\n",
    "keep_prob = tf.placeholder(tf.float32)\n",
    "h_fc1_drop = tf.nn.dropout(h_fc1, keep_prob)\n",
    "\n",
    "# Softmax layer\n",
    "W_fc2 = weight_variable([1024, 10])\n",
    "b_fc2 = bias_variable([10])\n",
    "y_conv = tf.matmul(h_fc1_drop, W_fc2) + b_fc2"
   ]
  },
  {
   "cell_type": "code",
   "execution_count": 11,
   "metadata": {
    "_uuid": "efd0d80faf1be3acd6ef85bfdd9ca378c6c169ce",
    "collapsed": true,
    "scrolled": false
   },
   "outputs": [
    {
     "name": "stdout",
     "output_type": "stream",
     "text": [
      "Epoch 0, val accuracy 0.928307\n",
      "Epoch 1, val accuracy 0.947884\n",
      "Epoch 2, val accuracy 0.953439\n",
      "Epoch 3, val accuracy 0.960185\n",
      "Epoch 4, val accuracy 0.962434\n",
      "Epoch 5, val accuracy 0.96336\n",
      "Epoch 6, val accuracy 0.963889\n",
      "Epoch 7, val accuracy 0.962037\n",
      "Epoch 8, val accuracy 0.964153\n",
      "Epoch 9, val accuracy 0.967328\n",
      "Epoch 10, val accuracy 0.969048\n",
      "Epoch 11, val accuracy 0.970635\n",
      "Epoch 12, val accuracy 0.968651\n",
      "Epoch 13, val accuracy 0.97209\n",
      "Epoch 14, val accuracy 0.970899\n",
      "Epoch 15, val accuracy 0.970635\n",
      "Epoch 16, val accuracy 0.972222\n",
      "Epoch 17, val accuracy 0.973545\n",
      "Epoch 18, val accuracy 0.97619\n",
      "Epoch 19, val accuracy 0.976984\n",
      "Epoch 20, val accuracy 0.976587\n",
      "Epoch 21, val accuracy 0.976455\n",
      "Epoch 22, val accuracy 0.976587\n",
      "Epoch 23, val accuracy 0.978042\n",
      "Epoch 24, val accuracy 0.979101\n",
      "Epoch 25, val accuracy 0.977381\n",
      "Epoch 26, val accuracy 0.976455\n",
      "Epoch 27, val accuracy 0.980159\n",
      "Epoch 28, val accuracy 0.978175\n",
      "Epoch 29, val accuracy 0.979233\n",
      "test accuracy  0.9797619\n"
     ]
    },
    {
     "data": {
      "image/png": "[encoded data removed]",
      "text/plain": [
       "<Figure size 432x288 with 1 Axes>"
      ]
     },
     "metadata": {
      "needs_background": "light"
     },
     "output_type": "display_data"
    }
   ],
   "source": [
    "cross_entropy = tf.reduce_mean(tf.nn.softmax_cross_entropy_with_logits(labels=y_label, logits=y_conv))\n",
    "train_step = tf.train.AdamOptimizer(1e-4).minimize(cross_entropy)\n",
    "correct_prediction = tf.equal(tf.argmax(y_conv, 1), tf.argmax(y_label, 1))\n",
    "accuracy = tf.reduce_mean(tf.cast(correct_prediction, tf.float32))\n",
    "\n",
    "epochs = 30\n",
    "batch_size = 100\n",
    "steps = math.ceil(X_tr.shape[0] // batch_size)\n",
    "\n",
    "train_accs = []\n",
    "eval_accs = []\n",
    "with tf.Session() as sess:\n",
    "    sess.run(tf.global_variables_initializer())\n",
    "    for epoch in range(epochs):\n",
    "        for step in range(steps):\n",
    "            batch_X, batch_y = next_batch(step, batch_size, X_tr, y_tr)\n",
    "#             if step % 50 == 0:\n",
    "#                 train_accuracy = accuracy.eval(feed_dict={x_input: batch_X, y_label: batch_y, keep_prob: 1.0})\n",
    "#                 print('step %d, training accuracy %g' % (step, train_accuracy))\n",
    "            train_step.run(feed_dict={x_input: batch_X, y_label: batch_y, keep_prob: 0.5})\n",
    "        train_accuracy = accuracy.eval(feed_dict={x_input: batch_X, y_label: batch_y, keep_prob: 1.0})\n",
    "        eval_accuracy = accuracy.eval(feed_dict={x_input: X_val, y_label: y_val, keep_prob: 1.0})\n",
    "        print('Epoch %d, val accuracy %g' % (epoch, eval_accuracy))\n",
    "        train_accs.append(train_accuracy)\n",
    "        eval_accs.append(eval_accuracy)\n",
    "    accuracy_l = accuracy.eval(feed_dict={x_input: X_test, y_label: y_test, keep_prob: 1.0})\n",
    "    print('test accuracy ', accuracy_l)\n",
    "        \n",
    "x = np.array(range(epochs))\n",
    "plt.plot(x, train_accs)\n",
    "plt.plot(x, eval_accs)\n",
    "plt.show()"
   ]
  },
  {
   "cell_type": "markdown",
   "metadata": {
    "_uuid": "b5c6f8ceb8f7441764a5cc9c2808ba288a8e73aa"
   },
   "source": [
    "## Keras model"
   ]
  },
  {
   "cell_type": "code",
   "execution_count": 12,
   "metadata": {
    "_uuid": "51c54da8b8f528e4315d64557deee8d5d7db3214",
    "collapsed": true
   },
   "outputs": [],
   "source": [
    "model = Sequential()\n",
    "model.add(Reshape((28, 28, 1), input_shape=(784,)))\n",
    "model.add(Conv2D(32, (5, 5), padding='same', activation='relu', ))\n",
    "model.add(MaxPooling2D(pool_size=(2, 2)))\n",
    "\n",
    "model.add(Conv2D(64, (5, 5), padding='same', activation='relu'))\n",
    "model.add(MaxPooling2D(pool_size=(2, 2)))\n",
    "\n",
    "model.add(Flatten())\n",
    "model.add(Dense(1024, activation='relu'))\n",
    "model.add(Dropout(0.5))\n",
    "model.add(Dense(10, activation='softmax'))"
   ]
  },
  {
   "cell_type": "code",
   "execution_count": 13,
   "metadata": {
    "_uuid": "7a5044ec7231c314e1ae64a6dd22164c79699ef1",
    "collapsed": true
   },
   "outputs": [],
   "source": [
    "model.compile(loss='categorical_crossentropy',\n",
    "              optimizer=Adam(lr=0.0001),\n",
    "              metrics=['accuracy'])"
   ]
  },
  {
   "cell_type": "code",
   "execution_count": 14,
   "metadata": {
    "_uuid": "4337930d92cab37ba8d98892b90d84a7ff0fb609",
    "collapsed": true
   },
   "outputs": [
    {
     "name": "stdout",
     "output_type": "stream",
     "text": [
      "Train on 30240 samples, validate on 7560 samples\n",
      "Epoch 1/20\n",
      "30240/30240 [==============================] - 6s 200us/step - loss: 3.0079 - acc: 0.7674 - val_loss: 0.2799 - val_acc: 0.9561\n",
      "Epoch 2/20\n",
      "30240/30240 [==============================] - 5s 168us/step - loss: 0.2494 - acc: 0.9464 - val_loss: 0.0944 - val_acc: 0.9734\n",
      "Epoch 3/20\n",
      "30240/30240 [==============================] - 5s 170us/step - loss: 0.1160 - acc: 0.9682 - val_loss: 0.0715 - val_acc: 0.9799\n",
      "Epoch 4/20\n",
      "30240/30240 [==============================] - 5s 168us/step - loss: 0.0810 - acc: 0.9767 - val_loss: 0.0621 - val_acc: 0.9829\n",
      "Epoch 5/20\n",
      "30240/30240 [==============================] - 5s 170us/step - loss: 0.0609 - acc: 0.9809 - val_loss: 0.0579 - val_acc: 0.9841\n",
      "Epoch 6/20\n",
      "30240/30240 [==============================] - 5s 167us/step - loss: 0.0464 - acc: 0.9849 - val_loss: 0.0539 - val_acc: 0.9847\n",
      "Epoch 7/20\n",
      "30240/30240 [==============================] - 5s 175us/step - loss: 0.0354 - acc: 0.9880 - val_loss: 0.0590 - val_acc: 0.9831\n",
      "Epoch 8/20\n",
      "30240/30240 [==============================] - 5s 168us/step - loss: 0.0294 - acc: 0.9905 - val_loss: 0.0533 - val_acc: 0.9854\n",
      "Epoch 9/20\n",
      "30240/30240 [==============================] - 5s 170us/step - loss: 0.0253 - acc: 0.9909 - val_loss: 0.0528 - val_acc: 0.9854\n",
      "Epoch 10/20\n",
      "30240/30240 [==============================] - 5s 170us/step - loss: 0.0196 - acc: 0.9933 - val_loss: 0.0526 - val_acc: 0.9860\n",
      "Epoch 11/20\n",
      "30240/30240 [==============================] - 5s 176us/step - loss: 0.0214 - acc: 0.9938 - val_loss: 0.0582 - val_acc: 0.9849\n",
      "Epoch 12/20\n",
      "30240/30240 [==============================] - 5s 173us/step - loss: 0.0173 - acc: 0.9942 - val_loss: 0.0522 - val_acc: 0.9876\n",
      "Epoch 13/20\n",
      "30240/30240 [==============================] - 5s 168us/step - loss: 0.0164 - acc: 0.9946 - val_loss: 0.0576 - val_acc: 0.9857\n",
      "Epoch 14/20\n",
      "30240/30240 [==============================] - 5s 169us/step - loss: 0.0129 - acc: 0.9958 - val_loss: 0.0585 - val_acc: 0.9866\n",
      "Epoch 15/20\n",
      "30240/30240 [==============================] - 5s 172us/step - loss: 0.0142 - acc: 0.9956 - val_loss: 0.0522 - val_acc: 0.9869\n",
      "Epoch 16/20\n",
      "30240/30240 [==============================] - 5s 169us/step - loss: 0.0151 - acc: 0.9948 - val_loss: 0.0639 - val_acc: 0.9869\n",
      "Epoch 17/20\n",
      "30240/30240 [==============================] - 5s 168us/step - loss: 0.0112 - acc: 0.9961 - val_loss: 0.0684 - val_acc: 0.9844\n",
      "Epoch 18/20\n",
      "30240/30240 [==============================] - 5s 168us/step - loss: 0.0097 - acc: 0.9973 - val_loss: 0.0573 - val_acc: 0.9888\n",
      "Epoch 19/20\n",
      "30240/30240 [==============================] - 5s 169us/step - loss: 0.0095 - acc: 0.9967 - val_loss: 0.0519 - val_acc: 0.9876\n",
      "Epoch 20/20\n",
      "30240/30240 [==============================] - 5s 170us/step - loss: 0.0117 - acc: 0.9960 - val_loss: 0.0438 - val_acc: 0.9890\n"
     ]
    },
    {
     "data": {
      "text/plain": [
       "<keras.callbacks.History at 0x7fccd43e34a8>"
      ]
     },
     "execution_count": 14,
     "metadata": {},
     "output_type": "execute_result"
    }
   ],
   "source": [
    "epochs = 20\n",
    "batch_size = 100\n",
    "model.fit(X_tr, y_tr,\n",
    "          batch_size=batch_size,\n",
    "          epochs=epochs,\n",
    "          verbose=1,\n",
    "          validation_data=(X_val, y_val)\n",
    "         )"
   ]
  },
  {
   "cell_type": "code",
   "execution_count": 16,
   "metadata": {
    "_uuid": "ebfcda14fa50dba3deb72b19559fe5576b779f37",
    "collapsed": true
   },
   "outputs": [
    {
     "name": "stdout",
     "output_type": "stream",
     "text": [
      "Test loss: 0.05045180900950852\n",
      "Test accuracy: 0.9880952380952381\n"
     ]
    }
   ],
   "source": [
    "score = model.evaluate(X_test, y_test, verbose=0)\n",
    "print('Test loss:', score[0])\n",
    "print('Test accuracy:', score[1])"
   ]
  },
  {
   "cell_type": "code",
   "execution_count": null,
   "metadata": {},
   "outputs": [],
   "source": []
  }
 ],
 "metadata": {
  "kernelspec": {
   "display_name": "Python 3",
   "language": "python",
   "name": "python3"
  },
  "language_info": {
   "codemirror_mode": {
    "name": "ipython",
    "version": 3
   },
   "file_extension": ".py",
   "mimetype": "text/x-python",
   "name": "python",
   "nbconvert_exporter": "python",
   "pygments_lexer": "ipython3",
   "version": "3.6.6"
  }
 },
 "nbformat": 4,
 "nbformat_minor": 2
}
