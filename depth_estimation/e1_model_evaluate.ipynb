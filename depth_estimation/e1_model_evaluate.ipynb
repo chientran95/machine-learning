{
 "cells": [
  {
   "cell_type": "code",
   "execution_count": 1,
   "id": "63042f2a-692d-417c-b271-f2452e2b7569",
   "metadata": {},
   "outputs": [],
   "source": [
    "import os\n",
    "import numpy as np\n",
    "import pandas as pd\n",
    "from glob import glob\n",
    "from tensorflow import keras\n",
    "import matplotlib.pyplot as plt\n",
    "\n",
    "from data_generator import DataGenerator\n",
    "from utils import visualize_depth_map\n",
    "from metrics import Metric"
   ]
  },
  {
   "cell_type": "code",
   "execution_count": 2,
   "id": "56d67738-af99-474d-963f-16e3a866a406",
   "metadata": {},
   "outputs": [
    {
     "name": "stderr",
     "output_type": "stream",
     "text": [
      "2022-06-07 01:10:10.892012: I tensorflow/core/platform/cpu_feature_guard.cc:193] This TensorFlow binary is optimized with oneAPI Deep Neural Network Library (oneDNN) to use the following CPU instructions in performance-critical operations:  AVX2 FMA\n",
      "To enable them in other operations, rebuild TensorFlow with the appropriate compiler flags.\n"
     ]
    }
   ],
   "source": [
    "model = keras.models.load_model('checkpoint/model_1653373548.903842/')"
   ]
  },
  {
   "cell_type": "code",
   "execution_count": 3,
   "id": "7b2d07c8-7ed6-4c24-a6aa-5cade3cc5a69",
   "metadata": {},
   "outputs": [],
   "source": [
    "HEIGHT = 256\n",
    "WIDTH = 256\n",
    "LR = 0.0002\n",
    "EPOCHS = 100\n",
    "BATCH_SIZE = 32\n",
    "\n",
    "df = pd.read_csv('data_df.csv')"
   ]
  },
  {
   "cell_type": "code",
   "execution_count": null,
   "id": "2f12c027-fb4d-44c9-b217-d76abbcee604",
   "metadata": {},
   "outputs": [],
   "source": [
    "# test_loader = next(\n",
    "#     iter(DataGenerator(data=df[265:].reset_index(drop=\"true\"),\n",
    "#                        batch_size=6, dim=(HEIGHT, WIDTH)))\n",
    "# )\n",
    "# visualize_depth_map(test_loader, test=True, model=model)"
   ]
  },
  {
   "cell_type": "code",
   "execution_count": 4,
   "id": "2bed3890-1e25-4e67-a0ba-d5373c06b5ab",
   "metadata": {},
   "outputs": [
    {
     "data": {
      "text/plain": [
       "(65, 3)"
      ]
     },
     "execution_count": 4,
     "metadata": {},
     "output_type": "execute_result"
    }
   ],
   "source": [
    "test_loader = DataGenerator(\n",
    "    data=df[260:].reset_index(drop=\"true\"), batch_size=16, dim=(HEIGHT, WIDTH)\n",
    ")\n",
    "df[260:].shape"
   ]
  },
  {
   "cell_type": "code",
   "execution_count": 5,
   "id": "5aeef05d-b866-4059-9806-bcb3ffbac73b",
   "metadata": {},
   "outputs": [
    {
     "name": "stdout",
     "output_type": "stream",
     "text": [
      "1/1 [==============================] - 1s 1s/step\n",
      "1/1 [==============================] - 1s 1s/step\n",
      "1/1 [==============================] - 1s 1s/step\n",
      "1/1 [==============================] - 1s 1s/step\n",
      "1/1 [==============================] - 0s 84ms/step\n"
     ]
    }
   ],
   "source": [
    "evaluation_metrics = {'mean_absrel': [], 'mean_sqrel': [], 'rms': [], 'rms_log': [], 'delta1': [], 'delta2': [], 'delta3': []}\n",
    "for samples in test_loader:\n",
    "    inp, target = samples\n",
    "    pred = model.predict(inp)\n",
    "    for i in range(len(inp)):\n",
    "        metric = Metric(target[i], pred[i])\n",
    "        evaluation_metrics['mean_absrel'].append(metric.mean_absrel_err())\n",
    "        evaluation_metrics['mean_sqrel'].append(metric.mean_sqrel_err())\n",
    "        evaluation_metrics['rms'].append(metric.rms_err())\n",
    "        evaluation_metrics['rms_log'].append(metric.rms_log_err())\n",
    "        evaluation_metrics['delta1'].append(metric.percentage_of_pixel_acc()['delta1'])\n",
    "        evaluation_metrics['delta2'].append(metric.percentage_of_pixel_acc()['delta2'])\n",
    "        evaluation_metrics['delta3'].append(metric.percentage_of_pixel_acc()['delta3'])"
   ]
  },
  {
   "cell_type": "code",
   "execution_count": 6,
   "id": "e23f288a-0085-425d-a7af-25dfa62dd4ac",
   "metadata": {},
   "outputs": [],
   "source": [
    "res_df = pd.DataFrame(evaluation_metrics)"
   ]
  },
  {
   "cell_type": "code",
   "execution_count": 7,
   "id": "1e808b04-c7d7-48e9-91c0-4ca2788f079d",
   "metadata": {},
   "outputs": [
    {
     "data": {
      "text/plain": [
       "mean_absrel    1.100400\n",
       "mean_sqrel     0.828076\n",
       "rms            0.702699\n",
       "rms_log        1.468345\n",
       "delta1         0.261761\n",
       "delta2         0.496734\n",
       "delta3         0.614590\n",
       "dtype: float64"
      ]
     },
     "execution_count": 7,
     "metadata": {},
     "output_type": "execute_result"
    }
   ],
   "source": [
    "res_df.mean()"
   ]
  },
  {
   "cell_type": "code",
   "execution_count": null,
   "id": "6055f40d-57d8-4a01-a89e-b45c7b1c9388",
   "metadata": {},
   "outputs": [],
   "source": []
  }
 ],
 "metadata": {
  "kernelspec": {
   "display_name": "Python 3 (ipykernel)",
   "language": "python",
   "name": "python3"
  },
  "language_info": {
   "codemirror_mode": {
    "name": "ipython",
    "version": 3
   },
   "file_extension": ".py",
   "mimetype": "text/x-python",
   "name": "python",
   "nbconvert_exporter": "python",
   "pygments_lexer": "ipython3",
   "version": "3.8.10"
  }
 },
 "nbformat": 4,
 "nbformat_minor": 5
}
