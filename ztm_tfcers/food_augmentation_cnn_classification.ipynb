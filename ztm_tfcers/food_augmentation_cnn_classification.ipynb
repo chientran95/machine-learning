{
 "cells": [
  {
   "cell_type": "code",
   "execution_count": 1,
   "id": "61e13293-6f63-4482-830b-8d3c4b950f02",
   "metadata": {},
   "outputs": [],
   "source": [
    "import os\n",
    "import numpy as np\n",
    "import pandas as pd\n",
    "from glob import glob\n",
    "\n",
    "import tensorflow as tf\n",
    "from tensorflow.keras import Sequential\n",
    "from tensorflow.keras.layers import Dense, Flatten, Conv2D, MaxPool2D\n",
    "from tensorflow.keras.losses import CategoricalCrossentropy\n",
    "from tensorflow.keras.optimizers import Adam\n",
    "from tensorflow.keras.preprocessing.image import ImageDataGenerator"
   ]
  },
  {
   "cell_type": "code",
   "execution_count": 3,
   "id": "e6df34b9-8d91-4ce4-a093-ab0c3156e482",
   "metadata": {},
   "outputs": [
    {
     "name": "stdout",
     "output_type": "stream",
     "text": [
      "Found 7500 images belonging to 10 classes.\n",
      "Found 2500 images belonging to 10 classes.\n"
     ]
    }
   ],
   "source": [
    "train_datagen = ImageDataGenerator(rescale=1/255., rotation_range=0.2, zoom_range=0.2,\n",
    "                                   width_shift_range=0.2, height_shift_range=0.2, horizontal_flip=True)\n",
    "test_datagen = ImageDataGenerator(rescale=1/255.)\n",
    "\n",
    "train_data = train_datagen.flow_from_directory('10_food_classes_all_data/train/', target_size=(224, 224), batch_size=32, shuffle=True)\n",
    "test_data = test_datagen.flow_from_directory('10_food_classes_all_data/test/', target_size=(224, 224), batch_size=32, shuffle=False)"
   ]
  },
  {
   "cell_type": "code",
   "execution_count": 4,
   "id": "357db9c2-9b82-4fd5-8993-f3b5c05a30b3",
   "metadata": {},
   "outputs": [],
   "source": [
    "model = Sequential([\n",
    "    Conv2D(10, 3, 1, padding='valid', activation='relu', input_shape=(224, 224, 3)),\n",
    "    Conv2D(10, 3, 1, padding='valid', activation='relu'),\n",
    "    MaxPool2D(2, padding='valid'),\n",
    "    \n",
    "    Conv2D(10, 3, 1, padding='valid', activation='relu'),\n",
    "    Conv2D(10, 3, 1, padding='valid', activation='relu'),\n",
    "    MaxPool2D(2, padding='valid'),\n",
    "    \n",
    "    Flatten(),\n",
    "    Dense(10, activation='softmax')\n",
    "])\n",
    "\n",
    "model.compile(loss=CategoricalCrossentropy(), optimizer=Adam(), metrics=['accuracy'])"
   ]
  },
  {
   "cell_type": "code",
   "execution_count": null,
   "id": "ac2fed6b-ce01-4640-aafe-d736ff8ca495",
   "metadata": {},
   "outputs": [
    {
     "name": "stdout",
     "output_type": "stream",
     "text": [
      "Epoch 1/100\n",
      "235/235 [==============================] - 170s 718ms/step - loss: 2.2613 - accuracy: 0.1567 - val_loss: 2.2100 - val_accuracy: 0.1804\n",
      "Epoch 2/100\n",
      "235/235 [==============================] - 165s 701ms/step - loss: 2.1662 - accuracy: 0.2104 - val_loss: 2.0213 - val_accuracy: 0.2864\n",
      "Epoch 3/100\n",
      "235/235 [==============================] - 173s 734ms/step - loss: 2.0870 - accuracy: 0.2587 - val_loss: 1.9352 - val_accuracy: 0.3240\n",
      "Epoch 4/100\n",
      "235/235 [==============================] - 761s 3s/step - loss: 2.0284 - accuracy: 0.2849 - val_loss: 1.9745 - val_accuracy: 0.2816\n",
      "Epoch 5/100\n",
      "235/235 [==============================] - 157s 667ms/step - loss: 1.9904 - accuracy: 0.2921 - val_loss: 1.8242 - val_accuracy: 0.3732\n",
      "Epoch 6/100\n",
      "235/235 [==============================] - 168s 712ms/step - loss: 1.9582 - accuracy: 0.3183 - val_loss: 1.7793 - val_accuracy: 0.3952\n",
      "Epoch 7/100\n",
      "235/235 [==============================] - 164s 698ms/step - loss: 1.9296 - accuracy: 0.3300 - val_loss: 1.7703 - val_accuracy: 0.3912\n",
      "Epoch 8/100\n",
      "235/235 [==============================] - 169s 718ms/step - loss: 1.9109 - accuracy: 0.3411 - val_loss: 1.7228 - val_accuracy: 0.4144\n",
      "Epoch 9/100\n",
      "166/235 [====================>.........] - ETA: 43s - loss: 1.8929 - accuracy: 0.3447"
     ]
    }
   ],
   "source": [
    "model.fit(train_data, epochs=100, validation_data=test_data)"
   ]
  },
  {
   "cell_type": "code",
   "execution_count": null,
   "id": "41c7c237-a897-4cc7-83c3-5bdd247c87da",
   "metadata": {},
   "outputs": [],
   "source": []
  }
 ],
 "metadata": {
  "kernelspec": {
   "display_name": "Python 3",
   "language": "python",
   "name": "python3"
  },
  "language_info": {
   "codemirror_mode": {
    "name": "ipython",
    "version": 3
   },
   "file_extension": ".py",
   "mimetype": "text/x-python",
   "name": "python",
   "nbconvert_exporter": "python",
   "pygments_lexer": "ipython3",
   "version": "3.9.5"
  }
 },
 "nbformat": 4,
 "nbformat_minor": 5
}
