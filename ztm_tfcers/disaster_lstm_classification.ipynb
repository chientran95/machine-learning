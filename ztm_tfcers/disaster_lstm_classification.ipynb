{
 "cells": [
  {
   "cell_type": "code",
   "execution_count": 3,
   "id": "db9c9433-52a0-4b4c-9c03-1a2d627bf53a",
   "metadata": {},
   "outputs": [],
   "source": [
    "import os\n",
    "import numpy as np\n",
    "import pandas as pd\n",
    "import matplotlib.pyplot as plt\n",
    "import tensorflow as tf\n",
    "\n",
    "from sklearn.model_selection import train_test_split"
   ]
  },
  {
   "cell_type": "code",
   "execution_count": 2,
   "id": "a7a4a848-42e9-4ec6-9daa-0162c8ab0816",
   "metadata": {},
   "outputs": [
    {
     "data": {
      "text/plain": [
       "((7613, 5), (3263, 4))"
      ]
     },
     "execution_count": 2,
     "metadata": {},
     "output_type": "execute_result"
    }
   ],
   "source": [
    "train_df = pd.read_csv('nlp_data/train.csv')\n",
    "test_df = pd.read_csv('nlp_data/test.csv')\n",
    "train_df.shape, test_df.shape"
   ]
  },
  {
   "cell_type": "code",
   "execution_count": 9,
   "id": "0635d048-be2b-4328-b4b2-2c9fe26a3a7e",
   "metadata": {},
   "outputs": [
    {
     "data": {
      "text/html": [
       "<div>\n",
       "<style scoped>\n",
       "    .dataframe tbody tr th:only-of-type {\n",
       "        vertical-align: middle;\n",
       "    }\n",
       "\n",
       "    .dataframe tbody tr th {\n",
       "        vertical-align: top;\n",
       "    }\n",
       "\n",
       "    .dataframe thead th {\n",
       "        text-align: right;\n",
       "    }\n",
       "</style>\n",
       "<table border=\"1\" class=\"dataframe\">\n",
       "  <thead>\n",
       "    <tr style=\"text-align: right;\">\n",
       "      <th></th>\n",
       "      <th>id</th>\n",
       "      <th>keyword</th>\n",
       "      <th>location</th>\n",
       "      <th>text</th>\n",
       "      <th>target</th>\n",
       "    </tr>\n",
       "  </thead>\n",
       "  <tbody>\n",
       "    <tr>\n",
       "      <th>185</th>\n",
       "      <td>264</td>\n",
       "      <td>ambulance</td>\n",
       "      <td>NaN</td>\n",
       "      <td>@fouseyTUBE you ok? Need a ambulance. Hahahah ...</td>\n",
       "      <td>0</td>\n",
       "    </tr>\n",
       "    <tr>\n",
       "      <th>4616</th>\n",
       "      <td>6561</td>\n",
       "      <td>injury</td>\n",
       "      <td>ÌÏT: 35.223347,-80.827834</td>\n",
       "      <td>#PFT Barkevious Mingo missed Browns practice w...</td>\n",
       "      <td>0</td>\n",
       "    </tr>\n",
       "    <tr>\n",
       "      <th>7093</th>\n",
       "      <td>10159</td>\n",
       "      <td>violent%20storm</td>\n",
       "      <td>UK</td>\n",
       "      <td>Terrifying POV footage captures violent landin...</td>\n",
       "      <td>1</td>\n",
       "    </tr>\n",
       "    <tr>\n",
       "      <th>5726</th>\n",
       "      <td>8171</td>\n",
       "      <td>rescuers</td>\n",
       "      <td>NaN</td>\n",
       "      <td>http://t.co/XlFi7ovhFJ VIDEO: 'We're picking u...</td>\n",
       "      <td>1</td>\n",
       "    </tr>\n",
       "    <tr>\n",
       "      <th>7020</th>\n",
       "      <td>10061</td>\n",
       "      <td>typhoon</td>\n",
       "      <td>Whole World</td>\n",
       "      <td>Global precipitation measurement satellite cap...</td>\n",
       "      <td>1</td>\n",
       "    </tr>\n",
       "  </tbody>\n",
       "</table>\n",
       "</div>"
      ],
      "text/plain": [
       "         id          keyword                   location  \\\n",
       "185     264        ambulance                        NaN   \n",
       "4616   6561           injury  ÌÏT: 35.223347,-80.827834   \n",
       "7093  10159  violent%20storm                         UK   \n",
       "5726   8171         rescuers                        NaN   \n",
       "7020  10061          typhoon               Whole World    \n",
       "\n",
       "                                                   text  target  \n",
       "185   @fouseyTUBE you ok? Need a ambulance. Hahahah ...       0  \n",
       "4616  #PFT Barkevious Mingo missed Browns practice w...       0  \n",
       "7093  Terrifying POV footage captures violent landin...       1  \n",
       "5726  http://t.co/XlFi7ovhFJ VIDEO: 'We're picking u...       1  \n",
       "7020  Global precipitation measurement satellite cap...       1  "
      ]
     },
     "execution_count": 9,
     "metadata": {},
     "output_type": "execute_result"
    }
   ],
   "source": [
    "train_df = train_df.sample(frac=1, random_state=2021)\n",
    "train_df.head()"
   ]
  },
  {
   "cell_type": "code",
   "execution_count": 11,
   "id": "abae4ff6-16b3-4e3a-ab04-3f6e28021b9b",
   "metadata": {},
   "outputs": [
    {
     "data": {
      "text/plain": [
       "((6851,), (762,), (6851,), (762,))"
      ]
     },
     "execution_count": 11,
     "metadata": {},
     "output_type": "execute_result"
    }
   ],
   "source": [
    "train_data, val_data, train_labels, val_labels = train_test_split(train_df['text'], train_df['target'], test_size=0.1, random_state=2021)\n",
    "train_data.shape, val_data.shape, train_labels.shape, val_labels.shape"
   ]
  },
  {
   "cell_type": "markdown",
   "id": "5c42616f-211a-4595-adef-be3039e2476e",
   "metadata": {},
   "source": [
    "## Text to embeddings"
   ]
  },
  {
   "cell_type": "code",
   "execution_count": 31,
   "id": "a1326b46-43e4-4075-a4f4-aebab8538982",
   "metadata": {},
   "outputs": [],
   "source": [
    "from tensorflow.keras.layers import TextVectorization, Embedding"
   ]
  },
  {
   "cell_type": "code",
   "execution_count": 32,
   "id": "cc56e44c-5120-49c7-a077-afd92bdfaf8b",
   "metadata": {},
   "outputs": [],
   "source": [
    "max_vocab_size = 100000\n",
    "max_seq_length = 15\n",
    "text_vectorization = TextVectorization(max_tokens=max_vocab_size, output_sequence_length=max_seq_length)"
   ]
  },
  {
   "cell_type": "code",
   "execution_count": 33,
   "id": "6915da02-ffd0-40c5-834e-643c72ec3808",
   "metadata": {},
   "outputs": [],
   "source": [
    "text_vectorization.adapt(train_data)"
   ]
  },
  {
   "cell_type": "code",
   "execution_count": null,
   "id": "86188269-f2bd-4e1c-8d58-c62669b271a2",
   "metadata": {},
   "outputs": [],
   "source": [
    "vocab = text_vectorization.get_vocabulary()\n",
    "print('Vocab length: {}, top 5: {}, tail 5: {}'.format(len(vocab), vocab[:5], vocab[-5:]))"
   ]
  },
  {
   "cell_type": "code",
   "execution_count": 34,
   "id": "c9461ac9-bef9-4b70-ba36-4287805316f5",
   "metadata": {},
   "outputs": [],
   "source": [
    "embedding = Embedding(input_dim=len(vocab), output_dim=128, input_length=max_seq_length, name=\"embedding_1\")"
   ]
  },
  {
   "cell_type": "code",
   "execution_count": 35,
   "id": "f8005b00-9279-498c-ae43-bdba89db228e",
   "metadata": {},
   "outputs": [
    {
     "data": {
      "text/plain": [
       "('Our Deeds are the Reason of this #earthquake May ALLAH Forgive us all',\n",
       " <tf.Tensor: shape=(15,), dtype=int64, numpy=\n",
       " array([ 104, 5819,   22,    2,  834,    6,   19,  262,  142, 1720, 5592,\n",
       "          72,   41,    0,    0])>,\n",
       " <tf.Tensor: shape=(15, 128), dtype=float32, numpy=\n",
       " array([[-0.0012822 , -0.010647  ,  0.02720002, ...,  0.02467877,\n",
       "         -0.0018568 , -0.00418786],\n",
       "        [-0.00366858, -0.03127545, -0.0245946 , ..., -0.01952111,\n",
       "         -0.0229091 , -0.00373935],\n",
       "        [-0.02928547, -0.04111477,  0.00608927, ...,  0.00919198,\n",
       "         -0.03175006,  0.02720414],\n",
       "        ...,\n",
       "        [ 0.02962365, -0.04755999, -0.00920203, ...,  0.00208379,\n",
       "         -0.03838278,  0.03805104],\n",
       "        [-0.00832572,  0.02414176, -0.04526794, ...,  0.03990587,\n",
       "         -0.02619268,  0.03846988],\n",
       "        [-0.00832572,  0.02414176, -0.04526794, ...,  0.03990587,\n",
       "         -0.02619268,  0.03846988]], dtype=float32)>)"
      ]
     },
     "execution_count": 35,
     "metadata": {},
     "output_type": "execute_result"
    }
   ],
   "source": [
    "sample = train_data[0]\n",
    "sample, text_vectorization(sample), embedding(text_vectorization(sample))"
   ]
  },
  {
   "cell_type": "markdown",
   "id": "725bf440-b7c5-45a4-8cae-b99a0eebf249",
   "metadata": {},
   "source": [
    "## Naive Bayes + Tf-idf"
   ]
  },
  {
   "cell_type": "code",
   "execution_count": 62,
   "id": "5d5febeb-ab50-4be0-83b2-76d436d0f78d",
   "metadata": {},
   "outputs": [],
   "source": [
    "from sklearn.feature_extraction.text import TfidfVectorizer\n",
    "from sklearn.naive_bayes import MultinomialNB\n",
    "from sklearn.pipeline import Pipeline\n",
    "from helper_functions import calculate_results"
   ]
  },
  {
   "cell_type": "markdown",
   "id": "db4fdbdf-92d8-497c-833f-55c4dad045c7",
   "metadata": {},
   "source": [
    "#### Normal"
   ]
  },
  {
   "cell_type": "code",
   "execution_count": 50,
   "id": "a9e6a7de-7d6e-450f-a765-1e6baa82f90b",
   "metadata": {},
   "outputs": [
    {
     "name": "stdout",
     "output_type": "stream",
     "text": [
      "n_samples: 6851, n_features: 20137\n"
     ]
    }
   ],
   "source": [
    "tf_vectorizer = TfidfVectorizer()\n",
    "train_tf = tf_vectorizer.fit_transform(train_data)\n",
    "\n",
    "print(\"n_samples: %d, n_features: %d\" % train_tf.shape)"
   ]
  },
  {
   "cell_type": "code",
   "execution_count": 51,
   "id": "a87ba231-5e57-4063-8404-29aded6fdfc9",
   "metadata": {},
   "outputs": [
    {
     "name": "stdout",
     "output_type": "stream",
     "text": [
      "n_samples: 762, n_features: 20137\n"
     ]
    }
   ],
   "source": [
    "val_tf = tf_vectorizer.transform(val_data)\n",
    "print(\"n_samples: %d, n_features: %d\" % val_tf.shape)"
   ]
  },
  {
   "cell_type": "code",
   "execution_count": 52,
   "id": "2e43f644-9126-45cc-8bd0-d38fc6401a1f",
   "metadata": {},
   "outputs": [
    {
     "data": {
      "text/plain": [
       "MultinomialNB()"
      ]
     },
     "execution_count": 52,
     "metadata": {},
     "output_type": "execute_result"
    }
   ],
   "source": [
    "naive_bayes_classifier = MultinomialNB()\n",
    "naive_bayes_classifier.fit(train_tf, train_labels)"
   ]
  },
  {
   "cell_type": "code",
   "execution_count": 64,
   "id": "6c957cae-9e63-450b-9015-6ccc4006ae8f",
   "metadata": {},
   "outputs": [
    {
     "data": {
      "text/plain": [
       "{'accuracy': 78.87139107611549,\n",
       " 'precision': 0.8053461730226711,\n",
       " 'recall': 0.7887139107611548,\n",
       " 'f1': 0.7808015277723382}"
      ]
     },
     "execution_count": 64,
     "metadata": {},
     "output_type": "execute_result"
    }
   ],
   "source": [
    "y_pred = naive_bayes_classifier.predict(val_tf)\n",
    "calculate_results(val_labels, y_pred)"
   ]
  },
  {
   "cell_type": "markdown",
   "id": "65d6e823-6fad-4f86-8326-d010a74fac29",
   "metadata": {},
   "source": [
    "#### Use sklearn Pipeline"
   ]
  },
  {
   "cell_type": "code",
   "execution_count": 59,
   "id": "f274c2a5-e46c-4edb-8b7d-abe90e64b716",
   "metadata": {},
   "outputs": [
    {
     "data": {
      "text/plain": [
       "Pipeline(steps=[('tfidf', TfidfVectorizer()), ('cls', MultinomialNB())])"
      ]
     },
     "execution_count": 59,
     "metadata": {},
     "output_type": "execute_result"
    }
   ],
   "source": [
    "model_0 = Pipeline([\n",
    "    ('tfidf', TfidfVectorizer()), ('cls', MultinomialNB())\n",
    "])\n",
    "model_0.fit(train_data, train_labels)"
   ]
  },
  {
   "cell_type": "code",
   "execution_count": 65,
   "id": "a71af488-c907-437a-9c2c-6b7163771c04",
   "metadata": {},
   "outputs": [
    {
     "data": {
      "text/plain": [
       "{'accuracy': 78.87139107611549,\n",
       " 'precision': 0.8053461730226711,\n",
       " 'recall': 0.7887139107611548,\n",
       " 'f1': 0.7808015277723382}"
      ]
     },
     "execution_count": 65,
     "metadata": {},
     "output_type": "execute_result"
    }
   ],
   "source": [
    "y_pred = model_0.predict(val_data)\n",
    "calculate_results(val_labels, y_pred)"
   ]
  },
  {
   "cell_type": "markdown",
   "id": "2b3835d8-1e52-4af5-8d2d-5ee65fd3c8e8",
   "metadata": {},
   "source": [
    "## FCN"
   ]
  },
  {
   "cell_type": "code",
   "execution_count": 68,
   "id": "0cce74b8-96e7-4fe9-98dd-ef9b3a173bae",
   "metadata": {},
   "outputs": [],
   "source": [
    "from tensorflow.keras import layers\n",
    "from helper_functions import create_tensorboard_callback"
   ]
  },
  {
   "cell_type": "code",
   "execution_count": 74,
   "id": "f684c18d-54fd-4e75-9cea-2fa56ed11a1e",
   "metadata": {},
   "outputs": [
    {
     "name": "stdout",
     "output_type": "stream",
     "text": [
      "Saving TensorBoard log files to: model_logs/model1_dense/20220627-142709\n"
     ]
    }
   ],
   "source": [
    "tb_callback1 = create_tensorboard_callback(dir_name='nlp_model_logs', experiment_name='model1_dense')\n",
    "inputs = layers.Input(shape=(1,), dtype=tf.string)\n",
    "x = text_vectorization(inputs)\n",
    "x = embedding(x)\n",
    "x = layers.GlobalAveragePooling1D()(x)\n",
    "outputs = layers.Dense(1, activation='sigmoid')(x)\n",
    "model_1 = tf.keras.Model(inputs, outputs, name='model_1')"
   ]
  },
  {
   "cell_type": "code",
   "execution_count": 75,
   "id": "376a7776-ff68-4eda-a9cd-2d7692f6288d",
   "metadata": {},
   "outputs": [
    {
     "name": "stdout",
     "output_type": "stream",
     "text": [
      "Epoch 1/5\n",
      "215/215 [==============================] - 25s 114ms/step - loss: 0.5468 - accuracy: 0.8196 - val_loss: 0.5331 - val_accuracy: 0.7677\n",
      "Epoch 2/5\n",
      "215/215 [==============================] - 24s 112ms/step - loss: 0.3507 - accuracy: 0.8859 - val_loss: 0.4766 - val_accuracy: 0.8031\n",
      "Epoch 3/5\n",
      "215/215 [==============================] - 23s 105ms/step - loss: 0.2516 - accuracy: 0.9159 - val_loss: 0.4692 - val_accuracy: 0.8018\n",
      "Epoch 4/5\n",
      "215/215 [==============================] - 24s 111ms/step - loss: 0.1886 - accuracy: 0.9391 - val_loss: 0.4812 - val_accuracy: 0.8018\n",
      "Epoch 5/5\n",
      "215/215 [==============================] - 24s 111ms/step - loss: 0.1440 - accuracy: 0.9564 - val_loss: 0.5027 - val_accuracy: 0.7953\n"
     ]
    }
   ],
   "source": [
    "model_1.compile(loss=tf.keras.losses.BinaryCrossentropy(), optimizer=tf.keras.optimizers.Adam(), metrics=['accuracy'])\n",
    "model_1_history = model_1.fit(train_data, train_labels, epochs=5,\n",
    "                              validation_data=(val_data, val_labels), callbacks=[tb_callback1])"
   ]
  },
  {
   "cell_type": "code",
   "execution_count": 76,
   "id": "081f4d30-881e-4ec5-8ca4-2ed5508c755b",
   "metadata": {},
   "outputs": [
    {
     "name": "stdout",
     "output_type": "stream",
     "text": [
      "24/24 [==============================] - 0s 865us/step\n"
     ]
    },
    {
     "data": {
      "text/plain": [
       "(TensorShape([762]), (762,))"
      ]
     },
     "execution_count": 76,
     "metadata": {},
     "output_type": "execute_result"
    }
   ],
   "source": [
    "model1_pred_probs = model_1.predict(val_data)\n",
    "model1_pred = tf.squeeze(tf.round(model1_pred_probs))\n",
    "model1_pred.shape, val_labels.shape"
   ]
  },
  {
   "cell_type": "code",
   "execution_count": 77,
   "id": "a9fab098-71ec-43b6-bc88-fff7c2c586c1",
   "metadata": {},
   "outputs": [
    {
     "data": {
      "text/plain": [
       "{'accuracy': 79.52755905511812,\n",
       " 'precision': 0.7961262183381259,\n",
       " 'recall': 0.7952755905511811,\n",
       " 'f1': 0.7931953806655787}"
      ]
     },
     "execution_count": 77,
     "metadata": {},
     "output_type": "execute_result"
    }
   ],
   "source": [
    "calculate_results(val_labels, model1_pred)"
   ]
  },
  {
   "cell_type": "markdown",
   "id": "489df077-de2d-40df-a7a7-b271a9e66b4f",
   "metadata": {},
   "source": [
    "## LSTM"
   ]
  },
  {
   "cell_type": "code",
   "execution_count": 79,
   "id": "183ba237-57ab-42d8-9b3f-25ecdd962ad3",
   "metadata": {},
   "outputs": [
    {
     "name": "stdout",
     "output_type": "stream",
     "text": [
      "Saving TensorBoard log files to: nlp_model_logs/model2_lstm/20220627-150608\n"
     ]
    }
   ],
   "source": [
    "tb_callback2 = create_tensorboard_callback(dir_name='nlp_model_logs', experiment_name='model2_lstm')\n",
    "inputs = layers.Input(shape=(1,), dtype=tf.string)\n",
    "x = text_vectorization(inputs)\n",
    "x = embedding(x)\n",
    "x = layers.LSTM(64)(x)\n",
    "outputs = layers.Dense(1, activation='sigmoid')(x)\n",
    "model_2 = tf.keras.Model(inputs, outputs, name='model_2')"
   ]
  },
  {
   "cell_type": "code",
   "execution_count": 80,
   "id": "a607bfe3-90c8-41c2-a54a-56e022a8f0e0",
   "metadata": {},
   "outputs": [
    {
     "name": "stdout",
     "output_type": "stream",
     "text": [
      "Epoch 1/5\n",
      "215/215 [==============================] - 28s 121ms/step - loss: 0.1081 - accuracy: 0.9647 - val_loss: 0.7446 - val_accuracy: 0.7625\n",
      "Epoch 2/5\n",
      "215/215 [==============================] - 24s 112ms/step - loss: 0.0461 - accuracy: 0.9834 - val_loss: 0.9185 - val_accuracy: 0.7559\n",
      "Epoch 3/5\n",
      "215/215 [==============================] - 25s 114ms/step - loss: 0.0324 - accuracy: 0.9893 - val_loss: 1.1707 - val_accuracy: 0.7480\n",
      "Epoch 4/5\n",
      "215/215 [==============================] - 24s 114ms/step - loss: 0.0270 - accuracy: 0.9896 - val_loss: 0.9694 - val_accuracy: 0.7520\n",
      "Epoch 5/5\n",
      "215/215 [==============================] - 24s 113ms/step - loss: 0.0202 - accuracy: 0.9915 - val_loss: 0.8858 - val_accuracy: 0.7572\n"
     ]
    }
   ],
   "source": [
    "model_2.compile(loss='binary_crossentropy', optimizer=tf.keras.optimizers.Adam(), metrics=['accuracy'])\n",
    "model_2_history = model_2.fit(train_data, train_labels, epochs=5, validation_data=(val_data, val_labels), callbacks=[tb_callback2])"
   ]
  },
  {
   "cell_type": "code",
   "execution_count": 81,
   "id": "c2b8f74f-6433-4079-979d-5563f35b1dfe",
   "metadata": {},
   "outputs": [
    {
     "name": "stdout",
     "output_type": "stream",
     "text": [
      "24/24 [==============================] - 0s 2ms/step\n"
     ]
    },
    {
     "data": {
      "text/plain": [
       "(TensorShape([762]), (762,))"
      ]
     },
     "execution_count": 81,
     "metadata": {},
     "output_type": "execute_result"
    }
   ],
   "source": [
    "model2_pred_probs = model_2.predict(val_data)\n",
    "model2_pred = tf.squeeze(tf.round(model2_pred_probs))\n",
    "model2_pred.shape, val_labels.shape"
   ]
  },
  {
   "cell_type": "code",
   "execution_count": 82,
   "id": "3f819c32-ea0a-4891-a90a-106c30f9609d",
   "metadata": {},
   "outputs": [
    {
     "data": {
      "text/plain": [
       "{'accuracy': 75.7217847769029,\n",
       " 'precision': 0.7580773946289202,\n",
       " 'recall': 0.7572178477690289,\n",
       " 'f1': 0.7575417441632131}"
      ]
     },
     "execution_count": 82,
     "metadata": {},
     "output_type": "execute_result"
    }
   ],
   "source": [
    "calculate_results(val_labels, model2_pred)"
   ]
  },
  {
   "cell_type": "markdown",
   "id": "d3ada746-d628-4705-833e-1d316bceb449",
   "metadata": {},
   "source": [
    "## GRU"
   ]
  },
  {
   "cell_type": "code",
   "execution_count": 83,
   "id": "d6ffb099-dafb-4188-901f-a8bd0f3ea677",
   "metadata": {},
   "outputs": [
    {
     "name": "stdout",
     "output_type": "stream",
     "text": [
      "Saving TensorBoard log files to: nlp_model_logs/model3_gru/20220627-151113\n"
     ]
    }
   ],
   "source": [
    "tb_callback3 = create_tensorboard_callback(dir_name='nlp_model_logs', experiment_name='model3_gru')\n",
    "inputs = layers.Input(shape=(1,), dtype=tf.string)\n",
    "x = text_vectorization(inputs)\n",
    "x = embedding(x)\n",
    "x = layers.GRU(64)(x)\n",
    "outputs = layers.Dense(1, activation='sigmoid')(x)\n",
    "model_3 = tf.keras.Model(inputs, outputs, name='model_3')"
   ]
  },
  {
   "cell_type": "code",
   "execution_count": 84,
   "id": "d68b4be9-3837-4ccd-8745-ce3ab4842d3b",
   "metadata": {},
   "outputs": [
    {
     "name": "stdout",
     "output_type": "stream",
     "text": [
      "Epoch 1/5\n",
      "215/215 [==============================] - 26s 114ms/step - loss: 0.0796 - accuracy: 0.9696 - val_loss: 1.0854 - val_accuracy: 0.7559\n",
      "Epoch 2/5\n",
      "215/215 [==============================] - 24s 109ms/step - loss: 0.0237 - accuracy: 0.9908 - val_loss: 1.1781 - val_accuracy: 0.7454\n",
      "Epoch 3/5\n",
      "215/215 [==============================] - 24s 114ms/step - loss: 0.0207 - accuracy: 0.9914 - val_loss: 1.0223 - val_accuracy: 0.7349\n",
      "Epoch 4/5\n",
      "215/215 [==============================] - 25s 117ms/step - loss: 0.0178 - accuracy: 0.9927 - val_loss: 1.0023 - val_accuracy: 0.7520\n",
      "Epoch 5/5\n",
      "215/215 [==============================] - 24s 114ms/step - loss: 0.0186 - accuracy: 0.9918 - val_loss: 1.0469 - val_accuracy: 0.7415\n"
     ]
    }
   ],
   "source": [
    "model_3.compile(loss='binary_crossentropy', optimizer=tf.keras.optimizers.Adam(), metrics=['accuracy'])\n",
    "model_3_history = model_3.fit(train_data, train_labels, epochs=5, validation_data=(val_data, val_labels), callbacks=[tb_callback3])"
   ]
  },
  {
   "cell_type": "code",
   "execution_count": 85,
   "id": "5a7c5e73-d1f9-4496-bba7-21c8fea52fdb",
   "metadata": {},
   "outputs": [
    {
     "name": "stdout",
     "output_type": "stream",
     "text": [
      "24/24 [==============================] - 0s 2ms/step\n"
     ]
    },
    {
     "data": {
      "text/plain": [
       "(TensorShape([762]), (762,))"
      ]
     },
     "execution_count": 85,
     "metadata": {},
     "output_type": "execute_result"
    }
   ],
   "source": [
    "model3_pred_probs = model_3.predict(val_data)\n",
    "model3_pred = tf.squeeze(tf.round(model3_pred_probs))\n",
    "model3_pred.shape, val_labels.shape"
   ]
  },
  {
   "cell_type": "code",
   "execution_count": 86,
   "id": "cbf27b9a-5e6c-4aff-ba64-c4d5110ec2ec",
   "metadata": {},
   "outputs": [
    {
     "data": {
      "text/plain": [
       "{'accuracy': 74.1469816272966,\n",
       " 'precision': 0.7405001863867785,\n",
       " 'recall': 0.7414698162729659,\n",
       " 'f1': 0.7406114198035412}"
      ]
     },
     "execution_count": 86,
     "metadata": {},
     "output_type": "execute_result"
    }
   ],
   "source": [
    "calculate_results(val_labels, model3_pred)"
   ]
  },
  {
   "cell_type": "markdown",
   "id": "f2496fa0-6420-4a00-bcf8-5d7db1a11e1b",
   "metadata": {},
   "source": [
    "## Bidirectional"
   ]
  },
  {
   "cell_type": "code",
   "execution_count": 87,
   "id": "2295e751-d022-44ec-a575-14ef746e6e27",
   "metadata": {},
   "outputs": [
    {
     "name": "stdout",
     "output_type": "stream",
     "text": [
      "Saving TensorBoard log files to: nlp_model_logs/model4_biRNN/20220627-162619\n"
     ]
    }
   ],
   "source": [
    "tb_callback4 = create_tensorboard_callback(dir_name='nlp_model_logs', experiment_name='model4_biRNN')\n",
    "inputs = layers.Input(shape=(1,), dtype=tf.string)\n",
    "x = text_vectorization(inputs)\n",
    "x = embedding(x)\n",
    "x = layers.Bidirectional(layers.LSTM(64, return_sequences=True))(x)\n",
    "x = layers.Bidirectional(layers.GRU(64))(x)\n",
    "outputs = layers.Dense(1, activation='sigmoid')(x)\n",
    "model_4 = tf.keras.Model(inputs, outputs, name='model_4')"
   ]
  },
  {
   "cell_type": "code",
   "execution_count": 88,
   "id": "7a80bccf-2e91-4a5a-8dd5-45ca4b3c548f",
   "metadata": {},
   "outputs": [
    {
     "name": "stdout",
     "output_type": "stream",
     "text": [
      "Epoch 1/5\n",
      "215/215 [==============================] - 38s 142ms/step - loss: 0.0503 - accuracy: 0.9853 - val_loss: 0.9745 - val_accuracy: 0.7428\n",
      "Epoch 2/5\n",
      "215/215 [==============================] - 29s 136ms/step - loss: 0.0172 - accuracy: 0.9927 - val_loss: 1.4171 - val_accuracy: 0.7559\n",
      "Epoch 3/5\n",
      "215/215 [==============================] - 29s 135ms/step - loss: 0.0167 - accuracy: 0.9920 - val_loss: 1.3084 - val_accuracy: 0.7323\n",
      "Epoch 4/5\n",
      "215/215 [==============================] - 28s 131ms/step - loss: 0.0139 - accuracy: 0.9920 - val_loss: 1.4153 - val_accuracy: 0.7493\n",
      "Epoch 5/5\n",
      "215/215 [==============================] - 28s 130ms/step - loss: 0.0125 - accuracy: 0.9930 - val_loss: 1.5141 - val_accuracy: 0.7480\n"
     ]
    }
   ],
   "source": [
    "model_4.compile(loss='binary_crossentropy', optimizer=tf.keras.optimizers.Adam(), metrics=['accuracy'])\n",
    "model_4_history = model_4.fit(train_data, train_labels, epochs=5, validation_data=(val_data, val_labels), callbacks=[tb_callback4])"
   ]
  },
  {
   "cell_type": "code",
   "execution_count": 89,
   "id": "e132945e-f26c-439c-8227-404e3dc80164",
   "metadata": {},
   "outputs": [
    {
     "name": "stdout",
     "output_type": "stream",
     "text": [
      "24/24 [==============================] - 1s 4ms/step\n"
     ]
    },
    {
     "data": {
      "text/plain": [
       "(TensorShape([762]), (762,))"
      ]
     },
     "execution_count": 89,
     "metadata": {},
     "output_type": "execute_result"
    }
   ],
   "source": [
    "model4_pred_probs = model_4.predict(val_data)\n",
    "model4_pred = tf.squeeze(tf.round(model4_pred_probs))\n",
    "model4_pred.shape, val_labels.shape"
   ]
  },
  {
   "cell_type": "code",
   "execution_count": 90,
   "id": "d0f67daf-6273-4d91-8a28-908449b69f5b",
   "metadata": {},
   "outputs": [
    {
     "data": {
      "text/plain": [
       "{'accuracy': 74.80314960629921,\n",
       " 'precision': 0.7480314960629921,\n",
       " 'recall': 0.7480314960629921,\n",
       " 'f1': 0.7480314960629921}"
      ]
     },
     "execution_count": 90,
     "metadata": {},
     "output_type": "execute_result"
    }
   ],
   "source": [
    "calculate_results(val_labels, model4_pred)"
   ]
  },
  {
   "cell_type": "markdown",
   "id": "dab52a90-76a0-45de-bfe4-bdd9bc0ad0aa",
   "metadata": {},
   "source": [
    "## Conv1D"
   ]
  },
  {
   "cell_type": "code",
   "execution_count": 99,
   "id": "ff358f5d-85ca-4f39-979a-6e8e75729571",
   "metadata": {},
   "outputs": [
    {
     "name": "stdout",
     "output_type": "stream",
     "text": [
      "Saving TensorBoard log files to: nlp_model_logs/model5_conv1D/20220627-164518\n"
     ]
    }
   ],
   "source": [
    "tb_callback5 = create_tensorboard_callback(dir_name='nlp_model_logs', experiment_name='model5_conv1D')\n",
    "inputs = layers.Input(shape=(1,), dtype=tf.string)\n",
    "x = text_vectorization(inputs)\n",
    "x = embedding(x)\n",
    "x = layers.Conv1D(64, 5, activation='tanh')(x)\n",
    "x = layers.GlobalMaxPool1D()(x)\n",
    "outputs = layers.Dense(1, activation='sigmoid')(x)\n",
    "model_5 = tf.keras.Model(inputs, outputs, name='model_5')"
   ]
  },
  {
   "cell_type": "code",
   "execution_count": 100,
   "id": "06be3e8f-cb04-4b2b-aa33-90a49a85c0f9",
   "metadata": {},
   "outputs": [
    {
     "name": "stdout",
     "output_type": "stream",
     "text": [
      "Epoch 1/5\n",
      "215/215 [==============================] - 27s 121ms/step - loss: 0.0573 - accuracy: 0.9876 - val_loss: 0.9192 - val_accuracy: 0.7480\n",
      "Epoch 2/5\n",
      "215/215 [==============================] - 28s 131ms/step - loss: 0.0224 - accuracy: 0.9927 - val_loss: 1.0340 - val_accuracy: 0.7375\n",
      "Epoch 3/5\n",
      "215/215 [==============================] - 24s 113ms/step - loss: 0.0181 - accuracy: 0.9923 - val_loss: 1.1438 - val_accuracy: 0.7428\n",
      "Epoch 4/5\n",
      "215/215 [==============================] - 24s 111ms/step - loss: 0.0175 - accuracy: 0.9926 - val_loss: 1.1491 - val_accuracy: 0.7336\n",
      "Epoch 5/5\n",
      "215/215 [==============================] - 25s 116ms/step - loss: 0.0164 - accuracy: 0.9924 - val_loss: 1.1561 - val_accuracy: 0.7428\n"
     ]
    }
   ],
   "source": [
    "model_5.compile(loss='binary_crossentropy', optimizer=tf.keras.optimizers.Adam(), metrics=['accuracy'])\n",
    "model_5_history = model_5.fit(train_data, train_labels, epochs=5, validation_data=(val_data, val_labels), callbacks=[tb_callback5])"
   ]
  },
  {
   "cell_type": "code",
   "execution_count": 101,
   "id": "798bafc9-bbdb-454e-8afe-6d64c558b606",
   "metadata": {},
   "outputs": [
    {
     "name": "stdout",
     "output_type": "stream",
     "text": [
      "24/24 [==============================] - 0s 973us/step\n"
     ]
    },
    {
     "data": {
      "text/plain": [
       "(TensorShape([762]), (762,))"
      ]
     },
     "execution_count": 101,
     "metadata": {},
     "output_type": "execute_result"
    }
   ],
   "source": [
    "model5_pred_probs = model_5.predict(val_data)\n",
    "model5_pred = tf.squeeze(tf.round(model5_pred_probs))\n",
    "model5_pred.shape, val_labels.shape"
   ]
  },
  {
   "cell_type": "code",
   "execution_count": 102,
   "id": "56f32a2e-177c-4133-be4a-bab5dfd036d8",
   "metadata": {},
   "outputs": [
    {
     "data": {
      "text/plain": [
       "{'accuracy': 74.2782152230971,\n",
       " 'precision': 0.7417080098668083,\n",
       " 'recall': 0.7427821522309711,\n",
       " 'f1': 0.7413648839066457}"
      ]
     },
     "execution_count": 102,
     "metadata": {},
     "output_type": "execute_result"
    }
   ],
   "source": [
    "calculate_results(val_labels, model5_pred)"
   ]
  },
  {
   "cell_type": "markdown",
   "id": "ea33b1bd-1007-45d1-8c64-235ab7e8644a",
   "metadata": {},
   "source": [
    "## Pretrained USE model"
   ]
  },
  {
   "cell_type": "code",
   "execution_count": 103,
   "id": "48ea5d9c-73e2-41de-a167-25eff0986136",
   "metadata": {},
   "outputs": [],
   "source": [
    "import tensorflow_hub as tfhub"
   ]
  },
  {
   "cell_type": "code",
   "execution_count": 104,
   "id": "0e9c8bca-2461-4862-a6f3-17e4222cc345",
   "metadata": {},
   "outputs": [
    {
     "data": {
      "text/plain": [
       "tensorflow.python.framework.ops.EagerTensor"
      ]
     },
     "execution_count": 104,
     "metadata": {},
     "output_type": "execute_result"
    }
   ],
   "source": [
    "embed = tfhub.load('https://tfhub.dev/google/universal-sentence-encoder/4')\n",
    "embed_sample = embed([sample, 'This is another sample that not come from dataset'])"
   ]
  },
  {
   "cell_type": "code",
   "execution_count": 105,
   "id": "d0f54141-da64-4e5d-a10a-8c22856c8fe0",
   "metadata": {},
   "outputs": [
    {
     "data": {
      "text/plain": [
       "TensorShape([2, 512])"
      ]
     },
     "execution_count": 105,
     "metadata": {},
     "output_type": "execute_result"
    }
   ],
   "source": [
    "embed_sample.shape"
   ]
  },
  {
   "cell_type": "code",
   "execution_count": 109,
   "id": "002f288e-a8f2-4569-b7e4-f3af3fda5a86",
   "metadata": {},
   "outputs": [
    {
     "name": "stdout",
     "output_type": "stream",
     "text": [
      "Saving TensorBoard log files to: nlp_model_logs/model6_USE_pretrained/20220627-173149\n",
      "Epoch 1/5\n",
      "215/215 [==============================] - 10s 13ms/step - loss: 0.5016 - accuracy: 0.7808 - val_loss: 0.4602 - val_accuracy: 0.7913\n",
      "Epoch 2/5\n",
      "215/215 [==============================] - 1s 7ms/step - loss: 0.4130 - accuracy: 0.8167 - val_loss: 0.4518 - val_accuracy: 0.7979\n",
      "Epoch 3/5\n",
      "215/215 [==============================] - 1s 6ms/step - loss: 0.4006 - accuracy: 0.8246 - val_loss: 0.4503 - val_accuracy: 0.7927\n",
      "Epoch 4/5\n",
      "215/215 [==============================] - 1s 6ms/step - loss: 0.3917 - accuracy: 0.8272 - val_loss: 0.4503 - val_accuracy: 0.7940\n",
      "Epoch 5/5\n",
      "215/215 [==============================] - 1s 6ms/step - loss: 0.3856 - accuracy: 0.8304 - val_loss: 0.4518 - val_accuracy: 0.8018\n"
     ]
    },
    {
     "data": {
      "text/plain": [
       "<keras.callbacks.History at 0x7ff4b529ccd0>"
      ]
     },
     "execution_count": 109,
     "metadata": {},
     "output_type": "execute_result"
    }
   ],
   "source": [
    "tb_callback6 = create_tensorboard_callback(dir_name='nlp_model_logs', experiment_name='model6_USE_pretrained')\n",
    "sentence_encoder_layer = tfhub.KerasLayer('https://tfhub.dev/google/universal-sentence-encoder/4', input_shape=[], dtype=tf.string, trainable=False, name='USE')\n",
    "model_6 = tf.keras.Sequential([\n",
    "    sentence_encoder_layer,\n",
    "    layers.Dense(64, activation='relu'),\n",
    "    layers.Dense(1, activation='sigmoid')\n",
    "], name='model_6')\n",
    "model_6.compile(loss='binary_crossentropy', optimizer=tf.keras.optimizers.Adam(), metrics=['accuracy'])\n",
    "model_6.fit(train_data, train_labels, epochs=5, validation_data=(val_data, val_labels), callbacks=[tb_callback6])"
   ]
  },
  {
   "cell_type": "code",
   "execution_count": 110,
   "id": "b0057be0-0fbb-4934-b30c-6ce20ffbffc7",
   "metadata": {},
   "outputs": [
    {
     "name": "stdout",
     "output_type": "stream",
     "text": [
      "24/24 [==============================] - 0s 5ms/step\n"
     ]
    },
    {
     "data": {
      "text/plain": [
       "(TensorShape([762]), (762,))"
      ]
     },
     "execution_count": 110,
     "metadata": {},
     "output_type": "execute_result"
    }
   ],
   "source": [
    "model6_pred_probs = model_6.predict(val_data)\n",
    "model6_pred = tf.squeeze(tf.round(model6_pred_probs))\n",
    "model6_pred.shape, val_labels.shape"
   ]
  },
  {
   "cell_type": "code",
   "execution_count": 111,
   "id": "f33544d4-6a7c-4a83-aae2-5741206feb00",
   "metadata": {},
   "outputs": [
    {
     "data": {
      "text/plain": [
       "{'accuracy': 80.18372703412074,\n",
       " 'precision': 0.8041247411259352,\n",
       " 'recall': 0.8018372703412073,\n",
       " 'f1': 0.799218679146436}"
      ]
     },
     "execution_count": 111,
     "metadata": {},
     "output_type": "execute_result"
    }
   ],
   "source": [
    "calculate_results(val_labels, model6_pred)"
   ]
  },
  {
   "cell_type": "markdown",
   "id": "697cc387-01be-4a39-9e32-75da30dd1226",
   "metadata": {},
   "source": [
    "## Tensorboard.dev"
   ]
  },
  {
   "cell_type": "code",
   "execution_count": null,
   "id": "6c55a1c6-ec61-4f7d-aaee-934c53bc5f1f",
   "metadata": {},
   "outputs": [
    {
     "name": "stdout",
     "output_type": "stream",
     "text": [
      "/Users/chientm/miniconda3/envs/sandbox/lib/python3.9/site-packages/scipy/__init__.py:138: UserWarning: A NumPy version >=1.16.5 and <1.23.0 is required for this version of SciPy (detected version 1.23.0)\n",
      "  warnings.warn(f\"A NumPy version >={np_minversion} and <{np_maxversion} is required for this version of \"\n",
      "\n",
      "***** TensorBoard Uploader *****\n",
      "\n",
      "This will upload your TensorBoard logs to https://tensorboard.dev/ from\n",
      "the following directory:\n",
      "\n",
      "./nlp_model_logs/\n",
      "\n",
      "This TensorBoard will be visible to everyone. Do not upload sensitive\n",
      "data.\n",
      "\n",
      "Your use of this service is subject to Google's Terms of Service\n",
      "<https://policies.google.com/terms> and Privacy Policy\n",
      "<https://policies.google.com/privacy>, and TensorBoard.dev's Terms of Service\n",
      "<https://tensorboard.dev/policy/terms/>.\n",
      "\n",
      "This notice will not be shown again while you are logged into the uploader.\n",
      "To log out, run `tensorboard dev auth revoke`.\n",
      "\n",
      "Continue? (yes/NO) "
     ]
    }
   ],
   "source": [
    "!tensorboard dev upload --logdir ./nlp_model_logs/ --name \"NLP model experiments\" --description \"NLP model for disaster classification tweet\" --one_shot"
   ]
  },
  {
   "cell_type": "code",
   "execution_count": null,
   "id": "fcec10cc-3b8d-4a62-a472-8e4d3a6685f6",
   "metadata": {},
   "outputs": [],
   "source": [
    "!tensorboard dev list"
   ]
  },
  {
   "cell_type": "code",
   "execution_count": null,
   "id": "9623824b-c42a-4bd0-9edd-5c24e695fac6",
   "metadata": {},
   "outputs": [],
   "source": [
    "!tensorboard dev delete --experiment_id <exp_id>"
   ]
  }
 ],
 "metadata": {
  "kernelspec": {
   "display_name": "Python 3",
   "language": "python",
   "name": "python3"
  },
  "language_info": {
   "codemirror_mode": {
    "name": "ipython",
    "version": 3
   },
   "file_extension": ".py",
   "mimetype": "text/x-python",
   "name": "python",
   "nbconvert_exporter": "python",
   "pygments_lexer": "ipython3",
   "version": "3.9.5"
  }
 },
 "nbformat": 4,
 "nbformat_minor": 5
}
