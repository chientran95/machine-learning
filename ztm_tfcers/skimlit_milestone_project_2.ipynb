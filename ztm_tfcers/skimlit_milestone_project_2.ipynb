{
 "cells": [
  {
   "cell_type": "code",
   "execution_count": 2,
   "metadata": {
    "executionInfo": {
     "elapsed": 2815,
     "status": "ok",
     "timestamp": 1656490363016,
     "user": {
      "displayName": "Minh Chien Tran",
      "userId": "00764184138496707751"
     },
     "user_tz": -420
    },
    "id": "AaRHGkNsBUSK"
   },
   "outputs": [],
   "source": [
    "import os\n",
    "import numpy as np\n",
    "from glob import glob\n",
    "import pandas as pd\n",
    "import matplotlib.pyplot as plt\n",
    "import tensorflow as tf\n",
    "from tensorflow.keras import layers"
   ]
  },
  {
   "cell_type": "code",
   "execution_count": 3,
   "metadata": {
    "colab": {
     "base_uri": "https://localhost:8080/"
    },
    "executionInfo": {
     "elapsed": 17,
     "status": "ok",
     "timestamp": 1656490363016,
     "user": {
      "displayName": "Minh Chien Tran",
      "userId": "00764184138496707751"
     },
     "user_tz": -420
    },
    "id": "fYIrXoOuBvn9",
    "outputId": "82b4f0a5-7c0e-4b12-aee2-ee3c1426fa55"
   },
   "outputs": [
    {
     "name": "stdout",
     "output_type": "stream",
     "text": [
      "GPU 0: Tesla T4 (UUID: GPU-27d2043d-b3ee-9f5f-eb43-0020720d54ba)\n"
     ]
    }
   ],
   "source": [
    "!nvidia-smi -L"
   ]
  },
  {
   "cell_type": "code",
   "execution_count": 4,
   "metadata": {
    "colab": {
     "base_uri": "https://localhost:8080/"
    },
    "executionInfo": {
     "elapsed": 16777,
     "status": "ok",
     "timestamp": 1656490379787,
     "user": {
      "displayName": "Minh Chien Tran",
      "userId": "00764184138496707751"
     },
     "user_tz": -420
    },
    "id": "OAux3628B5ZO",
    "outputId": "5d146510-1048-4930-b201-a5efe97fca40"
   },
   "outputs": [
    {
     "name": "stdout",
     "output_type": "stream",
     "text": [
      "Cloning into 'pubmed-rct'...\n",
      "remote: Enumerating objects: 33, done.\u001b[K\n",
      "remote: Counting objects: 100% (8/8), done.\u001b[K\n",
      "remote: Compressing objects: 100% (3/3), done.\u001b[K\n",
      "remote: Total 33 (delta 5), reused 5 (delta 5), pack-reused 25\u001b[K\n",
      "Unpacking objects: 100% (33/33), done.\n"
     ]
    }
   ],
   "source": [
    "!git clone https://github.com/Franck-Dernoncourt/pubmed-rct.git"
   ]
  },
  {
   "cell_type": "code",
   "execution_count": 5,
   "metadata": {
    "colab": {
     "base_uri": "https://localhost:8080/"
    },
    "executionInfo": {
     "elapsed": 6,
     "status": "ok",
     "timestamp": 1656490387929,
     "user": {
      "displayName": "Minh Chien Tran",
      "userId": "00764184138496707751"
     },
     "user_tz": -420
    },
    "id": "8nLBeXw4B792",
    "outputId": "df26c43b-7ce2-4767-d369-ece933caada2"
   },
   "outputs": [
    {
     "data": {
      "text/plain": [
       "['pubmed-rct/PubMed_20k_RCT_numbers_replaced_with_at_sign/dev.txt',\n",
       " 'pubmed-rct/PubMed_20k_RCT_numbers_replaced_with_at_sign/train.txt',\n",
       " 'pubmed-rct/PubMed_20k_RCT_numbers_replaced_with_at_sign/test.txt']"
      ]
     },
     "execution_count": 5,
     "metadata": {},
     "output_type": "execute_result"
    }
   ],
   "source": [
    "data_dir = \"pubmed-rct/PubMed_20k_RCT_numbers_replaced_with_at_sign/\"\n",
    "filenames = [data_dir + n for n in os.listdir(data_dir)]\n",
    "filenames"
   ]
  },
  {
   "cell_type": "markdown",
   "metadata": {
    "id": "K465a868OqMd"
   },
   "source": [
    " ## Generate train, val, test sets"
   ]
  },
  {
   "cell_type": "code",
   "execution_count": 6,
   "metadata": {
    "colab": {
     "base_uri": "https://localhost:8080/"
    },
    "executionInfo": {
     "elapsed": 889,
     "status": "ok",
     "timestamp": 1656490390372,
     "user": {
      "displayName": "Minh Chien Tran",
      "userId": "00764184138496707751"
     },
     "user_tz": -420
    },
    "id": "QWRBqHyaC0IC",
    "outputId": "9709d06e-5a70-4d66-b46c-8428de6ddfc3"
   },
   "outputs": [
    {
     "data": {
      "text/plain": [
       "(180040, 30212, 30135)"
      ]
     },
     "execution_count": 6,
     "metadata": {},
     "output_type": "execute_result"
    }
   ],
   "source": [
    "def preprocess_text_file(filename):\n",
    "  with open(filename, 'r') as f:\n",
    "    input_lines = f.readlines()\n",
    "  abstract_id = ''\n",
    "  abstract_lines = ''\n",
    "  abstract_samples = []\n",
    "  for line in input_lines:\n",
    "    if line.startswith('###'):\n",
    "      abstract_id = line.strip()\n",
    "      abstract_lines = ''\n",
    "\n",
    "    elif line.isspace():\n",
    "      abstract_lines_split = abstract_lines.splitlines()\n",
    "      for abstract_line_number, abstract_line in enumerate(abstract_lines_split):        \n",
    "        line_data = {}\n",
    "        line_splitted = abstract_line.split('\\t')\n",
    "        line_data['abstract_id'] = abstract_id\n",
    "        line_data['target'] = line_splitted[0]\n",
    "        line_data['text'] = line_splitted[1].lower()\n",
    "        line_data['line_number'] = abstract_line_number\n",
    "        line_data['total_lines'] = len(abstract_lines_split) - 1\n",
    "        abstract_samples.append(line_data)\n",
    "\n",
    "    else:\n",
    "      abstract_lines += line\n",
    "  return abstract_samples\n",
    "\n",
    "train_samples = preprocess_text_file(data_dir + 'train.txt')\n",
    "val_samples = preprocess_text_file(data_dir + 'dev.txt')\n",
    "test_samples = preprocess_text_file(data_dir + 'test.txt')\n",
    "len(train_samples), len(val_samples), len(test_samples)"
   ]
  },
  {
   "cell_type": "code",
   "execution_count": 7,
   "metadata": {
    "colab": {
     "base_uri": "https://localhost:8080/"
    },
    "executionInfo": {
     "elapsed": 3,
     "status": "ok",
     "timestamp": 1656490390756,
     "user": {
      "displayName": "Minh Chien Tran",
      "userId": "00764184138496707751"
     },
     "user_tz": -420
    },
    "id": "ZeIbs1pmIQww",
    "outputId": "690bb345-1b67-4125-c496-51757e501494"
   },
   "outputs": [
    {
     "data": {
      "text/plain": [
       "((180040, 5), (30212, 5), (30135, 5))"
      ]
     },
     "execution_count": 7,
     "metadata": {},
     "output_type": "execute_result"
    }
   ],
   "source": [
    "train_df = pd.DataFrame(train_samples)\n",
    "val_df = pd.DataFrame(val_samples)\n",
    "test_df = pd.DataFrame(test_samples)\n",
    "train_df.shape, val_df.shape, test_df.shape"
   ]
  },
  {
   "cell_type": "code",
   "execution_count": 8,
   "metadata": {
    "colab": {
     "base_uri": "https://localhost:8080/"
    },
    "executionInfo": {
     "elapsed": 4,
     "status": "ok",
     "timestamp": 1656490391497,
     "user": {
      "displayName": "Minh Chien Tran",
      "userId": "00764184138496707751"
     },
     "user_tz": -420
    },
    "id": "KxeJEdHoLjE-",
    "outputId": "10faa8d4-db72-4bfa-c9f8-fc2cf7720fac"
   },
   "outputs": [
    {
     "data": {
      "text/plain": [
       "METHODS        59353\n",
       "RESULTS        57953\n",
       "CONCLUSIONS    27168\n",
       "BACKGROUND     21727\n",
       "OBJECTIVE      13839\n",
       "Name: target, dtype: int64"
      ]
     },
     "execution_count": 8,
     "metadata": {},
     "output_type": "execute_result"
    }
   ],
   "source": [
    "train_df.target.value_counts()"
   ]
  },
  {
   "cell_type": "code",
   "execution_count": 9,
   "metadata": {
    "colab": {
     "base_uri": "https://localhost:8080/"
    },
    "executionInfo": {
     "elapsed": 4,
     "status": "ok",
     "timestamp": 1656490392423,
     "user": {
      "displayName": "Minh Chien Tran",
      "userId": "00764184138496707751"
     },
     "user_tz": -420
    },
    "id": "tl3cS4gFSgZX",
    "outputId": "3278090c-c382-480f-e86b-cc1149efe262"
   },
   "outputs": [
    {
     "data": {
      "text/plain": [
       "(180040, 30212, 30135)"
      ]
     },
     "execution_count": 9,
     "metadata": {},
     "output_type": "execute_result"
    }
   ],
   "source": [
    "train_sentences = train_df[\"text\"].tolist()\n",
    "val_sentences = val_df[\"text\"].tolist()\n",
    "test_sentences = test_df[\"text\"].tolist()\n",
    "len(train_sentences), len(val_sentences), len(test_sentences)"
   ]
  },
  {
   "cell_type": "markdown",
   "metadata": {
    "id": "oHVDIlksLqIG"
   },
   "source": [
    "## One-hot encode target"
   ]
  },
  {
   "cell_type": "code",
   "execution_count": 10,
   "metadata": {
    "colab": {
     "base_uri": "https://localhost:8080/"
    },
    "executionInfo": {
     "elapsed": 316,
     "status": "ok",
     "timestamp": 1656490395030,
     "user": {
      "displayName": "Minh Chien Tran",
      "userId": "00764184138496707751"
     },
     "user_tz": -420
    },
    "id": "ozTImjbZPqDt",
    "outputId": "a7d27bee-1910-4889-8aac-7a97e6c13add"
   },
   "outputs": [
    {
     "data": {
      "text/plain": [
       "((180040, 5), (30212, 5), (30135, 5))"
      ]
     },
     "execution_count": 10,
     "metadata": {},
     "output_type": "execute_result"
    }
   ],
   "source": [
    "from sklearn.preprocessing import OneHotEncoder\n",
    "onehot_encoder = OneHotEncoder(sparse=False)\n",
    "train_label_one_hot = onehot_encoder.fit_transform(train_df['target'].to_numpy().reshape(-1, 1))\n",
    "val_label_one_hot = onehot_encoder.transform(val_df['target'].to_numpy().reshape(-1, 1))\n",
    "test_label_one_hot = onehot_encoder.transform(test_df['target'].to_numpy().reshape(-1, 1))\n",
    "train_label_one_hot.shape, val_label_one_hot.shape, test_label_one_hot.shape"
   ]
  },
  {
   "cell_type": "code",
   "execution_count": 11,
   "metadata": {
    "colab": {
     "base_uri": "https://localhost:8080/"
    },
    "executionInfo": {
     "elapsed": 3,
     "status": "ok",
     "timestamp": 1656490396280,
     "user": {
      "displayName": "Minh Chien Tran",
      "userId": "00764184138496707751"
     },
     "user_tz": -420
    },
    "id": "rJDi3odVRILY",
    "outputId": "a53cf233-0756-4ffb-d438-2f041818e6a2"
   },
   "outputs": [
    {
     "data": {
      "text/plain": [
       "array([[0., 0., 0., 1., 0.],\n",
       "       [0., 0., 1., 0., 0.],\n",
       "       [0., 0., 1., 0., 0.],\n",
       "       ...,\n",
       "       [0., 0., 0., 0., 1.],\n",
       "       [0., 1., 0., 0., 0.],\n",
       "       [0., 1., 0., 0., 0.]])"
      ]
     },
     "execution_count": 11,
     "metadata": {},
     "output_type": "execute_result"
    }
   ],
   "source": [
    "train_label_one_hot"
   ]
  },
  {
   "cell_type": "markdown",
   "metadata": {
    "id": "VVz1cZfCQhNN"
   },
   "source": [
    "## Label encode label"
   ]
  },
  {
   "cell_type": "code",
   "execution_count": 12,
   "metadata": {
    "colab": {
     "base_uri": "https://localhost:8080/"
    },
    "executionInfo": {
     "elapsed": 316,
     "status": "ok",
     "timestamp": 1656490398865,
     "user": {
      "displayName": "Minh Chien Tran",
      "userId": "00764184138496707751"
     },
     "user_tz": -420
    },
    "id": "88my2RkuQ0o1",
    "outputId": "a2d70461-6669-4559-b7b5-8833f97fd868"
   },
   "outputs": [
    {
     "data": {
      "text/plain": [
       "((180040,), (30212,), (30135,))"
      ]
     },
     "execution_count": 12,
     "metadata": {},
     "output_type": "execute_result"
    }
   ],
   "source": [
    "from sklearn.preprocessing import LabelEncoder\n",
    "label_encoder = LabelEncoder()\n",
    "train_labels_encoded = label_encoder.fit_transform(train_df['target'].to_numpy())\n",
    "val_labels_encoded = label_encoder.transform(val_df['target'].to_numpy())\n",
    "test_labels_encoded = label_encoder.transform(test_df['target'].to_numpy())\n",
    "train_labels_encoded.shape, val_labels_encoded.shape, test_labels_encoded.shape"
   ]
  },
  {
   "cell_type": "code",
   "execution_count": 13,
   "metadata": {
    "colab": {
     "base_uri": "https://localhost:8080/"
    },
    "executionInfo": {
     "elapsed": 7,
     "status": "ok",
     "timestamp": 1656490398865,
     "user": {
      "displayName": "Minh Chien Tran",
      "userId": "00764184138496707751"
     },
     "user_tz": -420
    },
    "id": "pB6X3Du-RFGo",
    "outputId": "7a465620-104c-4f1f-aa01-17db3130c808"
   },
   "outputs": [
    {
     "data": {
      "text/plain": [
       "array([3, 2, 2, ..., 4, 1, 1])"
      ]
     },
     "execution_count": 13,
     "metadata": {},
     "output_type": "execute_result"
    }
   ],
   "source": [
    "train_labels_encoded"
   ]
  },
  {
   "cell_type": "code",
   "execution_count": 14,
   "metadata": {
    "colab": {
     "base_uri": "https://localhost:8080/"
    },
    "executionInfo": {
     "elapsed": 3,
     "status": "ok",
     "timestamp": 1656490400293,
     "user": {
      "displayName": "Minh Chien Tran",
      "userId": "00764184138496707751"
     },
     "user_tz": -420
    },
    "id": "MW4qpjM2RJl3",
    "outputId": "a8c98d7f-87dd-4b61-87ff-e0dca8ee6a22"
   },
   "outputs": [
    {
     "data": {
      "text/plain": [
       "(5, array(['BACKGROUND', 'CONCLUSIONS', 'METHODS', 'OBJECTIVE', 'RESULTS'],\n",
       "       dtype=object))"
      ]
     },
     "execution_count": 14,
     "metadata": {},
     "output_type": "execute_result"
    }
   ],
   "source": [
    "num_class = len(label_encoder.classes_)\n",
    "class_names = label_encoder.classes_\n",
    "num_class, class_names"
   ]
  },
  {
   "cell_type": "markdown",
   "metadata": {
    "id": "lIdLdR7QRhVh"
   },
   "source": [
    "## Model 0: Naive Bayes + Tf-idf"
   ]
  },
  {
   "cell_type": "code",
   "execution_count": 15,
   "metadata": {
    "colab": {
     "base_uri": "https://localhost:8080/"
    },
    "executionInfo": {
     "elapsed": 320,
     "status": "ok",
     "timestamp": 1656490403591,
     "user": {
      "displayName": "Minh Chien Tran",
      "userId": "00764184138496707751"
     },
     "user_tz": -420
    },
    "id": "OXo1mVEsR0Vr",
    "outputId": "d4bac0ce-bf76-4611-8fa6-f709911bdaca"
   },
   "outputs": [
    {
     "name": "stdout",
     "output_type": "stream",
     "text": [
      "--2022-06-29 08:13:22--  https://raw.githubusercontent.com/mrdbourke/tensorflow-deep-learning/main/extras/helper_functions.py\n",
      "Resolving raw.githubusercontent.com (raw.githubusercontent.com)... 185.199.108.133, 185.199.109.133, 185.199.110.133, ...\n",
      "Connecting to raw.githubusercontent.com (raw.githubusercontent.com)|185.199.108.133|:443... connected.\n",
      "HTTP request sent, awaiting response... 200 OK\n",
      "Length: 10246 (10K) [text/plain]\n",
      "Saving to: ‘helper_functions.py’\n",
      "\n",
      "helper_functions.py 100%[===================>]  10.01K  --.-KB/s    in 0s      \n",
      "\n",
      "2022-06-29 08:13:23 (80.0 MB/s) - ‘helper_functions.py’ saved [10246/10246]\n",
      "\n"
     ]
    }
   ],
   "source": [
    "!wget https://raw.githubusercontent.com/mrdbourke/tensorflow-deep-learning/main/extras/helper_functions.py"
   ]
  },
  {
   "cell_type": "code",
   "execution_count": 16,
   "metadata": {
    "executionInfo": {
     "elapsed": 2,
     "status": "ok",
     "timestamp": 1656490405533,
     "user": {
      "displayName": "Minh Chien Tran",
      "userId": "00764184138496707751"
     },
     "user_tz": -420
    },
    "id": "sac3hFCdRs5S"
   },
   "outputs": [],
   "source": [
    "from sklearn.feature_extraction.text import TfidfVectorizer\n",
    "from sklearn.naive_bayes import MultinomialNB\n",
    "from sklearn.pipeline import Pipeline\n",
    "from helper_functions import calculate_results, create_tensorboard_callback"
   ]
  },
  {
   "cell_type": "code",
   "execution_count": 17,
   "metadata": {
    "colab": {
     "base_uri": "https://localhost:8080/"
    },
    "executionInfo": {
     "elapsed": 3237,
     "status": "ok",
     "timestamp": 1656490409079,
     "user": {
      "displayName": "Minh Chien Tran",
      "userId": "00764184138496707751"
     },
     "user_tz": -420
    },
    "id": "ceGqjTQSRyGa",
    "outputId": "f63ee5e6-7563-4779-aacf-129210809dce"
   },
   "outputs": [
    {
     "data": {
      "text/plain": [
       "Pipeline(steps=[('tfidf', TfidfVectorizer()), ('cls', MultinomialNB())])"
      ]
     },
     "execution_count": 17,
     "metadata": {},
     "output_type": "execute_result"
    }
   ],
   "source": [
    "model_0 = Pipeline([\n",
    "    ('tfidf', TfidfVectorizer()), ('cls', MultinomialNB())\n",
    "])\n",
    "model_0.fit(train_sentences, train_labels_encoded)"
   ]
  },
  {
   "cell_type": "code",
   "execution_count": 18,
   "metadata": {
    "colab": {
     "base_uri": "https://localhost:8080/"
    },
    "executionInfo": {
     "elapsed": 489,
     "status": "ok",
     "timestamp": 1656490409565,
     "user": {
      "displayName": "Minh Chien Tran",
      "userId": "00764184138496707751"
     },
     "user_tz": -420
    },
    "id": "emlbnNO-Snyx",
    "outputId": "5c805a94-e8d5-4ee3-ee8b-92dd2c4ca6b2"
   },
   "outputs": [
    {
     "data": {
      "text/plain": [
       "{'accuracy': 72.1832384482987,\n",
       " 'f1': 0.6989250353450294,\n",
       " 'precision': 0.7186466952323352,\n",
       " 'recall': 0.7218323844829869}"
      ]
     },
     "execution_count": 18,
     "metadata": {},
     "output_type": "execute_result"
    }
   ],
   "source": [
    "y_pred = model_0.predict(val_sentences)\n",
    "calculate_results(val_labels_encoded, y_pred)"
   ]
  },
  {
   "cell_type": "code",
   "execution_count": 22,
   "metadata": {
    "colab": {
     "base_uri": "https://localhost:8080/"
    },
    "executionInfo": {
     "elapsed": 1475,
     "status": "ok",
     "timestamp": 1656490433502,
     "user": {
      "displayName": "Minh Chien Tran",
      "userId": "00764184138496707751"
     },
     "user_tz": -420
    },
    "id": "9ttk7gSVSv_Y",
    "outputId": "dd547713-5538-49f3-8c19-3d09524935be"
   },
   "outputs": [
    {
     "data": {
      "text/plain": [
       "{'accuracy': 71.6674962667994,\n",
       " 'f1': 0.6925101703856846,\n",
       " 'precision': 0.7124322482375202,\n",
       " 'recall': 0.716674962667994}"
      ]
     },
     "execution_count": 22,
     "metadata": {},
     "output_type": "execute_result"
    }
   ],
   "source": [
    "y_pred = model_0.predict(test_sentences)\n",
    "model0_res = calculate_results(test_labels_encoded, y_pred)\n",
    "model0_res"
   ]
  },
  {
   "cell_type": "markdown",
   "metadata": {
    "id": "bBN6Z9OcSylh"
   },
   "source": [
    "## Text to embeddings"
   ]
  },
  {
   "cell_type": "code",
   "execution_count": 20,
   "metadata": {
    "executionInfo": {
     "elapsed": 2,
     "status": "ok",
     "timestamp": 1656490410285,
     "user": {
      "displayName": "Minh Chien Tran",
      "userId": "00764184138496707751"
     },
     "user_tz": -420
    },
    "id": "qDNIHB8ZVS5C"
   },
   "outputs": [],
   "source": [
    "from tensorflow.keras.layers import TextVectorization, Embedding"
   ]
  },
  {
   "cell_type": "code",
   "execution_count": 21,
   "metadata": {
    "colab": {
     "base_uri": "https://localhost:8080/"
    },
    "executionInfo": {
     "elapsed": 396,
     "status": "ok",
     "timestamp": 1656490411796,
     "user": {
      "displayName": "Minh Chien Tran",
      "userId": "00764184138496707751"
     },
     "user_tz": -420
    },
    "id": "gYh562xI5Dhj",
    "outputId": "0e5ccb5d-7e32-4ffb-e7c9-71fd0e0a918a"
   },
   "outputs": [
    {
     "name": "stdout",
     "output_type": "stream",
     "text": [
      "26.338269273494777\n"
     ]
    },
    {
     "data": {
      "text/plain": [
       "55"
      ]
     },
     "execution_count": 21,
     "metadata": {},
     "output_type": "execute_result"
    }
   ],
   "source": [
    "sent_lens = [len(sentence.split()) for sentence in train_sentences]\n",
    "print(np.mean(sent_lens))\n",
    "max_seq_length = int(np.percentile(sent_lens, 95))\n",
    "max_seq_length"
   ]
  },
  {
   "cell_type": "code",
   "execution_count": 23,
   "metadata": {
    "executionInfo": {
     "elapsed": 4588,
     "status": "ok",
     "timestamp": 1656490443946,
     "user": {
      "displayName": "Minh Chien Tran",
      "userId": "00764184138496707751"
     },
     "user_tz": -420
    },
    "id": "4mF3MlcJVVPK"
   },
   "outputs": [],
   "source": [
    "max_vocab_size = 68000\n",
    "text_vectorization = TextVectorization(max_tokens=max_vocab_size, output_sequence_length=max_seq_length)"
   ]
  },
  {
   "cell_type": "code",
   "execution_count": 24,
   "metadata": {
    "executionInfo": {
     "elapsed": 13622,
     "status": "ok",
     "timestamp": 1656490457563,
     "user": {
      "displayName": "Minh Chien Tran",
      "userId": "00764184138496707751"
     },
     "user_tz": -420
    },
    "id": "NI3rKXvfW80s"
   },
   "outputs": [],
   "source": [
    "text_vectorization.adapt(train_sentences)"
   ]
  },
  {
   "cell_type": "code",
   "execution_count": 25,
   "metadata": {
    "colab": {
     "base_uri": "https://localhost:8080/"
    },
    "executionInfo": {
     "elapsed": 7,
     "status": "ok",
     "timestamp": 1656490457563,
     "user": {
      "displayName": "Minh Chien Tran",
      "userId": "00764184138496707751"
     },
     "user_tz": -420
    },
    "id": "dZMDn06BYE_U",
    "outputId": "665c43d1-e5c6-4de9-fd76-9ca5297dbc35"
   },
   "outputs": [
    {
     "name": "stdout",
     "output_type": "stream",
     "text": [
      "Vocab length: 64841, top 5: ['', '[UNK]', 'the', 'and', 'of'], tail 5: ['aainduced', 'aaigroup', 'aachener', 'aachen', 'aaacp']\n"
     ]
    }
   ],
   "source": [
    "vocab = text_vectorization.get_vocabulary()\n",
    "print('Vocab length: {}, top 5: {}, tail 5: {}'.format(len(vocab), vocab[:5], vocab[-5:]))"
   ]
  },
  {
   "cell_type": "code",
   "execution_count": 26,
   "metadata": {
    "executionInfo": {
     "elapsed": 5,
     "status": "ok",
     "timestamp": 1656490457564,
     "user": {
      "displayName": "Minh Chien Tran",
      "userId": "00764184138496707751"
     },
     "user_tz": -420
    },
    "id": "pKP93tQvXBAu"
   },
   "outputs": [],
   "source": [
    "embedding = Embedding(input_dim=len(vocab), output_dim=256, mask_zero=True, name=\"embedding_1\")"
   ]
  },
  {
   "cell_type": "code",
   "execution_count": 27,
   "metadata": {
    "colab": {
     "base_uri": "https://localhost:8080/"
    },
    "executionInfo": {
     "elapsed": 543,
     "status": "ok",
     "timestamp": 1656490458102,
     "user": {
      "displayName": "Minh Chien Tran",
      "userId": "00764184138496707751"
     },
     "user_tz": -420
    },
    "id": "zE3moBj_XFx1",
    "outputId": "066f0c95-c8e0-40bf-a266-878bc3454ac8"
   },
   "outputs": [
    {
     "data": {
      "text/plain": [
       "('to investigate the efficacy of @ weeks of daily low-dose oral prednisolone in improving pain , mobility , and systemic low-grade inflammation in the short term and whether the effect would be sustained at @ weeks in older adults with moderate to severe knee osteoarthritis ( oa ) .',\n",
       " <tf.Tensor: shape=(1, 55), dtype=int64, numpy=\n",
       " array([[   6,  331,    2,   79,    4,   53,    4,  161, 1127,  217, 2535,\n",
       "            5,  557,   65, 1584,    3,  670, 5559,  636,    5,    2,  654,\n",
       "         1137,    3,  180,    2,   70,  495,   36,  781,   15,   53,    5,\n",
       "          350,  266,    7,  362,    6,  289,  517, 1430, 1743,    0,    0,\n",
       "            0,    0,    0,    0,    0,    0,    0,    0,    0,    0,    0]])>,\n",
       " <tf.Tensor: shape=(1, 55, 256), dtype=float32, numpy=\n",
       " array([[[ 0.01334084, -0.0026316 , -0.02881978, ...,  0.04423634,\n",
       "          -0.02119608,  0.01437471],\n",
       "         [ 0.02832821,  0.01004624, -0.00454242, ...,  0.04240019,\n",
       "           0.0326109 ,  0.01014358],\n",
       "         [ 0.02382073,  0.02794652, -0.03318279, ...,  0.03127955,\n",
       "          -0.03962224,  0.03425798],\n",
       "         ...,\n",
       "         [-0.04664862, -0.006164  ,  0.02061257, ...,  0.01479937,\n",
       "          -0.03095343, -0.02926146],\n",
       "         [-0.04664862, -0.006164  ,  0.02061257, ...,  0.01479937,\n",
       "          -0.03095343, -0.02926146],\n",
       "         [-0.04664862, -0.006164  ,  0.02061257, ...,  0.01479937,\n",
       "          -0.03095343, -0.02926146]]], dtype=float32)>,\n",
       " TensorShape([1, 55, 256]))"
      ]
     },
     "execution_count": 27,
     "metadata": {},
     "output_type": "execute_result"
    }
   ],
   "source": [
    "sample = train_sentences[0]\n",
    "sample, text_vectorization([sample]), embedding(text_vectorization([sample])), embedding(text_vectorization([sample])).shape"
   ]
  },
  {
   "cell_type": "markdown",
   "metadata": {
    "id": "pgR0kQ2BaZTn"
   },
   "source": [
    "## Create fast loading dataset"
   ]
  },
  {
   "cell_type": "code",
   "execution_count": 28,
   "metadata": {
    "colab": {
     "base_uri": "https://localhost:8080/"
    },
    "executionInfo": {
     "elapsed": 828,
     "status": "ok",
     "timestamp": 1656490458925,
     "user": {
      "displayName": "Minh Chien Tran",
      "userId": "00764184138496707751"
     },
     "user_tz": -420
    },
    "id": "KYwlW2ClagYY",
    "outputId": "677a2af7-70de-44de-8762-a4d83c50b6d0"
   },
   "outputs": [
    {
     "data": {
      "text/plain": [
       "(<PrefetchDataset element_spec=(TensorSpec(shape=(None,), dtype=tf.string, name=None), TensorSpec(shape=(None, 5), dtype=tf.float64, name=None))>,\n",
       " <PrefetchDataset element_spec=(TensorSpec(shape=(None,), dtype=tf.string, name=None), TensorSpec(shape=(None, 5), dtype=tf.float64, name=None))>,\n",
       " <PrefetchDataset element_spec=(TensorSpec(shape=(None,), dtype=tf.string, name=None), TensorSpec(shape=(None, 5), dtype=tf.float64, name=None))>)"
      ]
     },
     "execution_count": 28,
     "metadata": {},
     "output_type": "execute_result"
    }
   ],
   "source": [
    "train_data = tf.data.Dataset.from_tensor_slices((train_sentences, train_label_one_hot))\n",
    "val_data = tf.data.Dataset.from_tensor_slices((val_sentences, val_label_one_hot))\n",
    "test_data = tf.data.Dataset.from_tensor_slices((test_sentences, test_label_one_hot))\n",
    "\n",
    "train_data = train_data.batch(batch_size=32).prefetch(buffer_size=tf.data.AUTOTUNE)\n",
    "val_data = val_data.batch(batch_size=32).prefetch(tf.data.AUTOTUNE)\n",
    "test_data = test_data.batch(batch_size=32).prefetch(tf.data.AUTOTUNE)\n",
    "\n",
    "train_data, val_data, test_data"
   ]
  },
  {
   "cell_type": "markdown",
   "metadata": {
    "id": "fKhYMGR0XKxG"
   },
   "source": [
    "## Model 1: Conv1D"
   ]
  },
  {
   "cell_type": "code",
   "execution_count": 29,
   "metadata": {
    "colab": {
     "base_uri": "https://localhost:8080/"
    },
    "executionInfo": {
     "elapsed": 8,
     "status": "ok",
     "timestamp": 1656490458925,
     "user": {
      "displayName": "Minh Chien Tran",
      "userId": "00764184138496707751"
     },
     "user_tz": -420
    },
    "id": "a3NQHYBRaWvP",
    "outputId": "0d0b7475-76ef-4db7-b81f-8a82e4c0fc8f"
   },
   "outputs": [
    {
     "name": "stdout",
     "output_type": "stream",
     "text": [
      "Saving TensorBoard log files to: skimlit_model_logs/model1_conv1D/20220629-081418\n"
     ]
    }
   ],
   "source": [
    "tb_callback1 = create_tensorboard_callback(dir_name='skimlit_model_logs', experiment_name='model1_conv1D')\n",
    "inputs = layers.Input(shape=(1,), dtype=tf.string)\n",
    "x = text_vectorization(inputs)\n",
    "x = embedding(x)\n",
    "x = layers.Conv1D(64, 5, padding='same', activation='relu')(x)\n",
    "x = layers.GlobalMaxPool1D()(x)\n",
    "outputs = layers.Dense(num_class, activation='softmax')(x)\n",
    "model_1 = tf.keras.Model(inputs, outputs, name='model_1')"
   ]
  },
  {
   "cell_type": "code",
   "execution_count": 30,
   "metadata": {
    "colab": {
     "base_uri": "https://localhost:8080/"
    },
    "executionInfo": {
     "elapsed": 61198,
     "status": "ok",
     "timestamp": 1656490520610,
     "user": {
      "displayName": "Minh Chien Tran",
      "userId": "00764184138496707751"
     },
     "user_tz": -420
    },
    "id": "iQ1s3NGodRvV",
    "outputId": "eea868bd-a662-44e2-87e3-c6cb2bb55294"
   },
   "outputs": [
    {
     "name": "stdout",
     "output_type": "stream",
     "text": [
      "Epoch 1/5\n",
      "562/562 [==============================] - 24s 19ms/step - loss: 0.7908 - accuracy: 0.7021 - val_loss: 0.5822 - val_accuracy: 0.7861\n",
      "Epoch 2/5\n",
      "562/562 [==============================] - 9s 17ms/step - loss: 0.5702 - accuracy: 0.7911 - val_loss: 0.5366 - val_accuracy: 0.8006\n",
      "Epoch 3/5\n",
      "562/562 [==============================] - 9s 17ms/step - loss: 0.5387 - accuracy: 0.8008 - val_loss: 0.5205 - val_accuracy: 0.8054\n",
      "Epoch 4/5\n",
      "562/562 [==============================] - 9s 17ms/step - loss: 0.5241 - accuracy: 0.8072 - val_loss: 0.5093 - val_accuracy: 0.8124\n",
      "Epoch 5/5\n",
      "562/562 [==============================] - 9s 17ms/step - loss: 0.5291 - accuracy: 0.8091 - val_loss: 0.4946 - val_accuracy: 0.8198\n"
     ]
    }
   ],
   "source": [
    "model_1.compile(loss='categorical_crossentropy', optimizer=tf.keras.optimizers.Adam(), metrics=['accuracy'])\n",
    "history_model1 = model_1.fit(train_data, steps_per_epoch=int(0.1*len(train_data)),\n",
    "                             epochs=5, validation_data=val_data, callbacks=[tb_callback1])"
   ]
  },
  {
   "cell_type": "code",
   "execution_count": 31,
   "metadata": {
    "colab": {
     "base_uri": "https://localhost:8080/"
    },
    "executionInfo": {
     "elapsed": 1924,
     "status": "ok",
     "timestamp": 1656490522522,
     "user": {
      "displayName": "Minh Chien Tran",
      "userId": "00764184138496707751"
     },
     "user_tz": -420
    },
    "id": "rVaDMG9pecf3",
    "outputId": "f974362c-0bf6-4deb-9e7a-fc247decc889"
   },
   "outputs": [
    {
     "data": {
      "text/plain": [
       "(TensorShape([30212]), (30212,))"
      ]
     },
     "execution_count": 31,
     "metadata": {},
     "output_type": "execute_result"
    }
   ],
   "source": [
    "model1_pred_probs = model_1.predict(val_data)\n",
    "model1_pred = tf.argmax(model1_pred_probs, axis=1)\n",
    "model1_pred.shape, val_labels_encoded.shape"
   ]
  },
  {
   "cell_type": "code",
   "execution_count": 32,
   "metadata": {
    "colab": {
     "base_uri": "https://localhost:8080/"
    },
    "executionInfo": {
     "elapsed": 7,
     "status": "ok",
     "timestamp": 1656490523204,
     "user": {
      "displayName": "Minh Chien Tran",
      "userId": "00764184138496707751"
     },
     "user_tz": -420
    },
    "id": "oX2qFn9zfWYt",
    "outputId": "3d38613e-c547-4452-9d79-03e0d3f130bc"
   },
   "outputs": [
    {
     "data": {
      "text/plain": [
       "{'accuracy': 81.97735998940819,\n",
       " 'f1': 0.8177217134378413,\n",
       " 'precision': 0.820600784093795,\n",
       " 'recall': 0.8197735998940818}"
      ]
     },
     "execution_count": 32,
     "metadata": {},
     "output_type": "execute_result"
    }
   ],
   "source": [
    "model1_res = calculate_results(val_labels_encoded, model1_pred)\n",
    "model1_res"
   ]
  },
  {
   "cell_type": "markdown",
   "metadata": {
    "id": "ExQTl3-RfaNt"
   },
   "source": [
    "## Model 2: Pretrained USE"
   ]
  },
  {
   "cell_type": "code",
   "execution_count": 33,
   "metadata": {
    "executionInfo": {
     "elapsed": 483,
     "status": "ok",
     "timestamp": 1656490532945,
     "user": {
      "displayName": "Minh Chien Tran",
      "userId": "00764184138496707751"
     },
     "user_tz": -420
    },
    "id": "MYiRGLfSmLU3"
   },
   "outputs": [],
   "source": [
    "import tensorflow_hub as tfhub"
   ]
  },
  {
   "cell_type": "code",
   "execution_count": 34,
   "metadata": {
    "colab": {
     "base_uri": "https://localhost:8080/"
    },
    "executionInfo": {
     "elapsed": 162009,
     "status": "ok",
     "timestamp": 1656490695261,
     "user": {
      "displayName": "Minh Chien Tran",
      "userId": "00764184138496707751"
     },
     "user_tz": -420
    },
    "id": "rmO2qpqkfpB_",
    "outputId": "f6577416-5790-4f68-c157-50266e460562"
   },
   "outputs": [
    {
     "name": "stdout",
     "output_type": "stream",
     "text": [
      "Saving TensorBoard log files to: nlp_model_logs/model2_USE_pretrained/20220629-081532\n",
      "Epoch 1/5\n",
      "562/562 [==============================] - 19s 27ms/step - loss: 0.9635 - accuracy: 0.6344 - val_loss: 0.8099 - val_accuracy: 0.6905\n",
      "Epoch 2/5\n",
      "562/562 [==============================] - 16s 28ms/step - loss: 0.7818 - accuracy: 0.6945 - val_loss: 0.7690 - val_accuracy: 0.7047\n",
      "Epoch 3/5\n",
      "562/562 [==============================] - 27s 47ms/step - loss: 0.7687 - accuracy: 0.7058 - val_loss: 0.7584 - val_accuracy: 0.7082\n",
      "Epoch 4/5\n",
      "562/562 [==============================] - 15s 26ms/step - loss: 0.7385 - accuracy: 0.7164 - val_loss: 0.7376 - val_accuracy: 0.7192\n",
      "Epoch 5/5\n",
      "562/562 [==============================] - 15s 27ms/step - loss: 0.7508 - accuracy: 0.7147 - val_loss: 0.7231 - val_accuracy: 0.7257\n"
     ]
    }
   ],
   "source": [
    "tb_callback2 = create_tensorboard_callback(dir_name='nlp_model_logs', experiment_name='model2_USE_pretrained')\n",
    "sentence_encoder_layer = tfhub.KerasLayer('https://tfhub.dev/google/universal-sentence-encoder/4', input_shape=[], dtype=tf.string, trainable=False, name='USE')\n",
    "inputs = layers.Input(shape=(), dtype=tf.string)\n",
    "x = sentence_encoder_layer(inputs)\n",
    "x = layers.Dense(64, activation='relu')(x)\n",
    "outputs = layers.Dense(num_class, activation='softmax')(x)\n",
    "model_2 = tf.keras.Model(inputs, outputs, name='model_2')\n",
    "model_2.compile(loss='categorical_crossentropy', optimizer=tf.keras.optimizers.Adam(), metrics=['accuracy'])\n",
    "history_model2 = model_2.fit(train_data, steps_per_epoch=int(0.1*len(train_data)),\n",
    "                             epochs=5, validation_data=val_data, callbacks=[tb_callback2])"
   ]
  },
  {
   "cell_type": "code",
   "execution_count": 35,
   "metadata": {
    "colab": {
     "base_uri": "https://localhost:8080/"
    },
    "executionInfo": {
     "elapsed": 8576,
     "status": "ok",
     "timestamp": 1656490703834,
     "user": {
      "displayName": "Minh Chien Tran",
      "userId": "00764184138496707751"
     },
     "user_tz": -420
    },
    "id": "hOaHmK6Cn2jU",
    "outputId": "20f5161c-d1a0-4675-e576-b46b4484547e"
   },
   "outputs": [
    {
     "data": {
      "text/plain": [
       "(TensorShape([30212]), (30212,))"
      ]
     },
     "execution_count": 35,
     "metadata": {},
     "output_type": "execute_result"
    }
   ],
   "source": [
    "model2_pred_probs = model_2.predict(val_data)\n",
    "model2_pred = tf.argmax(model2_pred_probs, axis=1)\n",
    "model2_pred.shape, val_labels_encoded.shape"
   ]
  },
  {
   "cell_type": "code",
   "execution_count": 36,
   "metadata": {
    "colab": {
     "base_uri": "https://localhost:8080/"
    },
    "executionInfo": {
     "elapsed": 7,
     "status": "ok",
     "timestamp": 1656490704950,
     "user": {
      "displayName": "Minh Chien Tran",
      "userId": "00764184138496707751"
     },
     "user_tz": -420
    },
    "id": "y1PbOY1WojK4",
    "outputId": "c863b72c-7857-45be-ea6f-c6777fe10e18"
   },
   "outputs": [
    {
     "data": {
      "text/plain": [
       "{'accuracy': 72.57050178736925,\n",
       " 'f1': 0.7200521970403498,\n",
       " 'precision': 0.7215448993937543,\n",
       " 'recall': 0.7257050178736926}"
      ]
     },
     "execution_count": 36,
     "metadata": {},
     "output_type": "execute_result"
    }
   ],
   "source": [
    "model2_res = calculate_results(val_labels_encoded, model2_pred)\n",
    "model2_res"
   ]
  },
  {
   "cell_type": "markdown",
   "metadata": {
    "id": "NeZW4M_LolM5"
   },
   "source": [
    "## Model 3: Conv1D with char-level embedding"
   ]
  },
  {
   "cell_type": "markdown",
   "metadata": {
    "id": "xbxLPSK5zU0m"
   },
   "source": [
    "### Create character level embeddings"
   ]
  },
  {
   "cell_type": "code",
   "execution_count": 37,
   "metadata": {
    "executionInfo": {
     "elapsed": 4,
     "status": "ok",
     "timestamp": 1656490704951,
     "user": {
      "displayName": "Minh Chien Tran",
      "userId": "00764184138496707751"
     },
     "user_tz": -420
    },
    "id": "55i36uUY0iGo"
   },
   "outputs": [],
   "source": [
    "def split_chars(text):\n",
    "  return ' '.join(list(text))"
   ]
  },
  {
   "cell_type": "code",
   "execution_count": 38,
   "metadata": {
    "colab": {
     "base_uri": "https://localhost:8080/"
    },
    "executionInfo": {
     "elapsed": 964,
     "status": "ok",
     "timestamp": 1656490705911,
     "user": {
      "displayName": "Minh Chien Tran",
      "userId": "00764184138496707751"
     },
     "user_tz": -420
    },
    "id": "DqAlQHaq2nMP",
    "outputId": "c5d0d96c-1ac1-4641-81ab-d3aebbc07b2c"
   },
   "outputs": [
    {
     "data": {
      "text/plain": [
       "['t o   i n v e s t i g a t e   t h e   e f f i c a c y   o f   @   w e e k s   o f   d a i l y   l o w - d o s e   o r a l   p r e d n i s o l o n e   i n   i m p r o v i n g   p a i n   ,   m o b i l i t y   ,   a n d   s y s t e m i c   l o w - g r a d e   i n f l a m m a t i o n   i n   t h e   s h o r t   t e r m   a n d   w h e t h e r   t h e   e f f e c t   w o u l d   b e   s u s t a i n e d   a t   @   w e e k s   i n   o l d e r   a d u l t s   w i t h   m o d e r a t e   t o   s e v e r e   k n e e   o s t e o a r t h r i t i s   (   o a   )   .',\n",
       " 'a   t o t a l   o f   @   p a t i e n t s   w i t h   p r i m a r y   k n e e   o a   w e r e   r a n d o m i z e d   @ : @   ;   @   r e c e i v e d   @   m g / d a y   o f   p r e d n i s o l o n e   a n d   @   r e c e i v e d   p l a c e b o   f o r   @   w e e k s   .',\n",
       " 'o u t c o m e   m e a s u r e s   i n c l u d e d   p a i n   r e d u c t i o n   a n d   i m p r o v e m e n t   i n   f u n c t i o n   s c o r e s   a n d   s y s t e m i c   i n f l a m m a t i o n   m a r k e r s   .',\n",
       " 'p a i n   w a s   a s s e s s e d   u s i n g   t h e   v i s u a l   a n a l o g   p a i n   s c a l e   (   @ - @   m m   )   .',\n",
       " 's e c o n d a r y   o u t c o m e   m e a s u r e s   i n c l u d e d   t h e   w e s t e r n   o n t a r i o   a n d   m c m a s t e r   u n i v e r s i t i e s   o s t e o a r t h r i t i s   i n d e x   s c o r e s   ,   p a t i e n t   g l o b a l   a s s e s s m e n t   (   p g a   )   o f   t h e   s e v e r i t y   o f   k n e e   o a   ,   a n d   @ - m i n   w a l k   d i s t a n c e   (   @ m w d   )   .']"
      ]
     },
     "execution_count": 38,
     "metadata": {},
     "output_type": "execute_result"
    }
   ],
   "source": [
    "train_chars = [split_chars(sen) for sen in train_sentences]\n",
    "val_chars = [split_chars(sen) for sen in val_sentences]\n",
    "test_chars = [split_chars(sen) for sen in test_sentences]\n",
    "train_chars[:5]"
   ]
  },
  {
   "cell_type": "code",
   "execution_count": 39,
   "metadata": {
    "colab": {
     "base_uri": "https://localhost:8080/"
    },
    "executionInfo": {
     "elapsed": 9,
     "status": "ok",
     "timestamp": 1656490705911,
     "user": {
      "displayName": "Minh Chien Tran",
      "userId": "00764184138496707751"
     },
     "user_tz": -420
    },
    "id": "C5Lu2N-n20ii",
    "outputId": "007a6f15-6180-4d22-f4b8-46b621fa418a"
   },
   "outputs": [
    {
     "name": "stdout",
     "output_type": "stream",
     "text": [
      "149.3662574983337\n"
     ]
    },
    {
     "data": {
      "text/plain": [
       "290"
      ]
     },
     "execution_count": 39,
     "metadata": {},
     "output_type": "execute_result"
    }
   ],
   "source": [
    "char_lens = [len(sen) for sen in train_sentences]\n",
    "print(np.mean(char_lens))\n",
    "output_seq_char_len = int(np.percentile(char_lens, 95))\n",
    "output_seq_char_len"
   ]
  },
  {
   "cell_type": "code",
   "execution_count": 40,
   "metadata": {
    "executionInfo": {
     "elapsed": 7,
     "status": "ok",
     "timestamp": 1656490705912,
     "user": {
      "displayName": "Minh Chien Tran",
      "userId": "00764184138496707751"
     },
     "user_tz": -420
    },
    "id": "weNdra6k3f8n"
   },
   "outputs": [],
   "source": [
    "import string"
   ]
  },
  {
   "cell_type": "code",
   "execution_count": 41,
   "metadata": {
    "executionInfo": {
     "elapsed": 6,
     "status": "ok",
     "timestamp": 1656490705912,
     "user": {
      "displayName": "Minh Chien Tran",
      "userId": "00764184138496707751"
     },
     "user_tz": -420
    },
    "id": "Jl-Mj3lZ3wcB"
   },
   "outputs": [],
   "source": [
    "alphabet = string.ascii_lowercase + string.digits + string.punctuation\n",
    "NUM_CHAR_TOKEN = len(alphabet) + 2\n",
    "char_vectorization = TextVectorization(max_tokens=NUM_CHAR_TOKEN, output_sequence_length=output_seq_char_len)"
   ]
  },
  {
   "cell_type": "code",
   "execution_count": 42,
   "metadata": {
    "executionInfo": {
     "elapsed": 23418,
     "status": "ok",
     "timestamp": 1656490737673,
     "user": {
      "displayName": "Minh Chien Tran",
      "userId": "00764184138496707751"
     },
     "user_tz": -420
    },
    "id": "c8XsVWOj5aHe"
   },
   "outputs": [],
   "source": [
    "char_vectorization.adapt(train_chars)"
   ]
  },
  {
   "cell_type": "code",
   "execution_count": 43,
   "metadata": {
    "colab": {
     "base_uri": "https://localhost:8080/"
    },
    "executionInfo": {
     "elapsed": 25,
     "status": "ok",
     "timestamp": 1656490737674,
     "user": {
      "displayName": "Minh Chien Tran",
      "userId": "00764184138496707751"
     },
     "user_tz": -420
    },
    "id": "bsqa444b5lct",
    "outputId": "b9297b96-0b74-4c3a-813d-8715cfd9d440"
   },
   "outputs": [
    {
     "name": "stdout",
     "output_type": "stream",
     "text": [
      "Char vocab length: 28, top 5: ['', '[UNK]', 'e', 't', 'i'], tail 5: ['k', 'x', 'z', 'q', 'j']\n"
     ]
    }
   ],
   "source": [
    "char_vocab = char_vectorization.get_vocabulary()\n",
    "print('Char vocab length: {}, top 5: {}, tail 5: {}'.format(len(char_vocab), char_vocab[:5], char_vocab[-5:]))"
   ]
  },
  {
   "cell_type": "code",
   "execution_count": 44,
   "metadata": {
    "executionInfo": {
     "elapsed": 23,
     "status": "ok",
     "timestamp": 1656490737675,
     "user": {
      "displayName": "Minh Chien Tran",
      "userId": "00764184138496707751"
     },
     "user_tz": -420
    },
    "id": "NhxA2S1ndpjA"
   },
   "outputs": [],
   "source": [
    "char_embedding = Embedding(input_dim=len(char_vocab), output_dim=25, mask_zero=True,\n",
    "                           input_length=output_seq_char_len, name='embedding_2')"
   ]
  },
  {
   "cell_type": "code",
   "execution_count": 45,
   "metadata": {
    "colab": {
     "base_uri": "https://localhost:8080/"
    },
    "executionInfo": {
     "elapsed": 24,
     "status": "ok",
     "timestamp": 1656490737676,
     "user": {
      "displayName": "Minh Chien Tran",
      "userId": "00764184138496707751"
     },
     "user_tz": -420
    },
    "id": "CHLyGCU55wrI",
    "outputId": "73aeb0b6-7b61-4705-f21c-fe486ddbad9b"
   },
   "outputs": [
    {
     "data": {
      "text/plain": [
       "('t o   i n v e s t i g a t e   t h e   e f f i c a c y   o f   @   w e e k s   o f   d a i l y   l o w - d o s e   o r a l   p r e d n i s o l o n e   i n   i m p r o v i n g   p a i n   ,   m o b i l i t y   ,   a n d   s y s t e m i c   l o w - g r a d e   i n f l a m m a t i o n   i n   t h e   s h o r t   t e r m   a n d   w h e t h e r   t h e   e f f e c t   w o u l d   b e   s u s t a i n e d   a t   @   w e e k s   i n   o l d e r   a d u l t s   w i t h   m o d e r a t e   t o   s e v e r e   k n e e   o s t e o a r t h r i t i s   (   o a   )   .',\n",
       " <tf.Tensor: shape=(1, 290), dtype=int64, numpy=\n",
       " array([[ 3,  7,  4,  6, 21,  2,  9,  3,  4, 18,  5,  3,  2,  3, 13,  2,\n",
       "          2, 17, 17,  4, 11,  5, 11, 19,  7, 17, 20,  2,  2, 23,  9,  7,\n",
       "         17, 10,  5,  4, 12, 19, 12,  7, 20, 10,  7,  9,  2,  7,  8,  5,\n",
       "         12, 14,  8,  2, 10,  6,  4,  9,  7, 12,  7,  6,  2,  4,  6,  4,\n",
       "         15, 14,  8,  7, 21,  4,  6, 18, 14,  5,  4,  6, 15,  7, 22,  4,\n",
       "         12,  4,  3, 19,  5,  6, 10,  9, 19,  9,  3,  2, 15,  4, 11, 12,\n",
       "          7, 20, 18,  8,  5, 10,  2,  4,  6, 17, 12,  5, 15, 15,  5,  3,\n",
       "          4,  7,  6,  4,  6,  3, 13,  2,  9, 13,  7,  8,  3,  3,  2,  8,\n",
       "         15,  5,  6, 10, 20, 13,  2,  3, 13,  2,  8,  3, 13,  2,  2, 17,\n",
       "         17,  2, 11,  3, 20,  7, 16, 12, 10, 22,  2,  9, 16,  9,  3,  5,\n",
       "          4,  6,  2, 10,  5,  3, 20,  2,  2, 23,  9,  4,  6,  7, 12, 10,\n",
       "          2,  8,  5, 10, 16, 12,  3,  9, 20,  4,  3, 13, 15,  7, 10,  2,\n",
       "          8,  5,  3,  2,  3,  7,  9,  2, 21,  2,  8,  2, 23,  6,  2,  2,\n",
       "          7,  9,  3,  2,  7,  5,  8,  3, 13,  8,  4,  3,  4,  9,  7,  5,\n",
       "          0,  0,  0,  0,  0,  0,  0,  0,  0,  0,  0,  0,  0,  0,  0,  0,\n",
       "          0,  0,  0,  0,  0,  0,  0,  0,  0,  0,  0,  0,  0,  0,  0,  0,\n",
       "          0,  0,  0,  0,  0,  0,  0,  0,  0,  0,  0,  0,  0,  0,  0,  0,\n",
       "          0,  0,  0,  0,  0,  0,  0,  0,  0,  0,  0,  0,  0,  0,  0,  0,\n",
       "          0,  0]])>,\n",
       " <tf.Tensor: shape=(1, 290, 25), dtype=float32, numpy=\n",
       " array([[[-0.04093822,  0.04471277,  0.03180606, ...,  0.04846111,\n",
       "          -0.00570402,  0.03400265],\n",
       "         [ 0.01507357,  0.0303343 , -0.04897625, ...,  0.00617709,\n",
       "          -0.0413539 , -0.02501918],\n",
       "         [ 0.02787003,  0.03602551,  0.01487186, ...,  0.02561891,\n",
       "           0.02056135, -0.04681627],\n",
       "         ...,\n",
       "         [ 0.04532511,  0.01635512, -0.02739176, ..., -0.01322117,\n",
       "           0.01592169, -0.00385924],\n",
       "         [ 0.04532511,  0.01635512, -0.02739176, ..., -0.01322117,\n",
       "           0.01592169, -0.00385924],\n",
       "         [ 0.04532511,  0.01635512, -0.02739176, ..., -0.01322117,\n",
       "           0.01592169, -0.00385924]]], dtype=float32)>,\n",
       " TensorShape([1, 290, 25]))"
      ]
     },
     "execution_count": 45,
     "metadata": {},
     "output_type": "execute_result"
    }
   ],
   "source": [
    "sample = train_chars[0]\n",
    "sample, char_vectorization([sample]), char_embedding(char_vectorization([sample])), char_embedding(char_vectorization([sample])).shape"
   ]
  },
  {
   "cell_type": "markdown",
   "metadata": {
    "id": "Emqz3-nZfzz2"
   },
   "source": [
    "### Fast loading data"
   ]
  },
  {
   "cell_type": "code",
   "execution_count": 46,
   "metadata": {
    "colab": {
     "base_uri": "https://localhost:8080/"
    },
    "executionInfo": {
     "elapsed": 1245,
     "status": "ok",
     "timestamp": 1656490745671,
     "user": {
      "displayName": "Minh Chien Tran",
      "userId": "00764184138496707751"
     },
     "user_tz": -420
    },
    "id": "bxICNG3ef4Uo",
    "outputId": "7563847b-d6da-4e3a-b7d8-3b3d5eadf7c9"
   },
   "outputs": [
    {
     "data": {
      "text/plain": [
       "(<PrefetchDataset element_spec=(TensorSpec(shape=(None,), dtype=tf.string, name=None), TensorSpec(shape=(None, 5), dtype=tf.float64, name=None))>,\n",
       " <PrefetchDataset element_spec=(TensorSpec(shape=(None,), dtype=tf.string, name=None), TensorSpec(shape=(None, 5), dtype=tf.float64, name=None))>,\n",
       " <PrefetchDataset element_spec=(TensorSpec(shape=(None,), dtype=tf.string, name=None), TensorSpec(shape=(None, 5), dtype=tf.float64, name=None))>)"
      ]
     },
     "execution_count": 46,
     "metadata": {},
     "output_type": "execute_result"
    }
   ],
   "source": [
    "train_char_data = tf.data.Dataset.from_tensor_slices((train_chars, train_label_one_hot))\n",
    "val_char_data = tf.data.Dataset.from_tensor_slices((val_chars, val_label_one_hot))\n",
    "test_char_data = tf.data.Dataset.from_tensor_slices((test_chars, test_label_one_hot))\n",
    "\n",
    "train_char_data = train_char_data.batch(batch_size=32).prefetch(buffer_size=tf.data.AUTOTUNE)\n",
    "val_char_data = val_char_data.batch(batch_size=32).prefetch(tf.data.AUTOTUNE)\n",
    "test_char_data = test_char_data.batch(batch_size=32).prefetch(tf.data.AUTOTUNE)\n",
    "\n",
    "train_char_data, val_char_data, test_char_data"
   ]
  },
  {
   "cell_type": "markdown",
   "metadata": {
    "id": "GkIivFfx6yA5"
   },
   "source": [
    "### Model"
   ]
  },
  {
   "cell_type": "code",
   "execution_count": 47,
   "metadata": {
    "colab": {
     "base_uri": "https://localhost:8080/"
    },
    "executionInfo": {
     "elapsed": 380,
     "status": "ok",
     "timestamp": 1656490747567,
     "user": {
      "displayName": "Minh Chien Tran",
      "userId": "00764184138496707751"
     },
     "user_tz": -420
    },
    "id": "gNrHmngie69_",
    "outputId": "68736d3b-2f20-4aee-aba1-2ce521b95522"
   },
   "outputs": [
    {
     "name": "stdout",
     "output_type": "stream",
     "text": [
      "Saving TensorBoard log files to: skimlit_model_logs/model3_conv1D_char/20220629-081906\n"
     ]
    }
   ],
   "source": [
    "tb_callback3 = create_tensorboard_callback(dir_name='skimlit_model_logs', experiment_name='model3_conv1D_char')\n",
    "inputs = layers.Input(shape=(1,), dtype=tf.string)\n",
    "x = char_vectorization(inputs)\n",
    "x = char_embedding(x)\n",
    "x = layers.Conv1D(64, 10, padding='same', activation='relu')(x)\n",
    "x = layers.GlobalMaxPool1D()(x)\n",
    "outputs = layers.Dense(num_class, activation='softmax')(x)\n",
    "model_3 = tf.keras.Model(inputs, outputs, name='model_3')"
   ]
  },
  {
   "cell_type": "code",
   "execution_count": 48,
   "metadata": {
    "colab": {
     "base_uri": "https://localhost:8080/"
    },
    "executionInfo": {
     "elapsed": 41769,
     "status": "ok",
     "timestamp": 1656490789809,
     "user": {
      "displayName": "Minh Chien Tran",
      "userId": "00764184138496707751"
     },
     "user_tz": -420
    },
    "id": "7fy_0dQGffnh",
    "outputId": "e6edfd18-bb59-4ac1-b247-3dc6e0538652"
   },
   "outputs": [
    {
     "name": "stdout",
     "output_type": "stream",
     "text": [
      "Epoch 1/5\n",
      "562/562 [==============================] - 8s 12ms/step - loss: 1.2245 - accuracy: 0.5052 - val_loss: 0.9961 - val_accuracy: 0.6134\n",
      "Epoch 2/5\n",
      "562/562 [==============================] - 10s 18ms/step - loss: 0.9475 - accuracy: 0.6282 - val_loss: 0.8946 - val_accuracy: 0.6533\n",
      "Epoch 3/5\n",
      "562/562 [==============================] - 6s 10ms/step - loss: 0.8618 - accuracy: 0.6686 - val_loss: 0.8157 - val_accuracy: 0.6903\n",
      "Epoch 4/5\n",
      "562/562 [==============================] - 6s 10ms/step - loss: 0.8037 - accuracy: 0.6971 - val_loss: 0.7787 - val_accuracy: 0.7053\n",
      "Epoch 5/5\n",
      "562/562 [==============================] - 8s 14ms/step - loss: 0.7787 - accuracy: 0.7064 - val_loss: 0.7522 - val_accuracy: 0.7158\n"
     ]
    }
   ],
   "source": [
    "model_3.compile(loss='categorical_crossentropy', optimizer=tf.keras.optimizers.Adam(), metrics=['accuracy'])\n",
    "history_model3 = model_3.fit(train_char_data, steps_per_epoch=int(0.1*len(train_data)),\n",
    "                             epochs=5, validation_data=val_char_data, callbacks=[tb_callback3])"
   ]
  },
  {
   "cell_type": "code",
   "execution_count": 49,
   "metadata": {
    "colab": {
     "base_uri": "https://localhost:8080/"
    },
    "executionInfo": {
     "elapsed": 1986,
     "status": "ok",
     "timestamp": 1656490791782,
     "user": {
      "displayName": "Minh Chien Tran",
      "userId": "00764184138496707751"
     },
     "user_tz": -420
    },
    "id": "jf6Apw4mfps_",
    "outputId": "bb695a53-4c12-4240-f3ea-5ed30882c0b7"
   },
   "outputs": [
    {
     "data": {
      "text/plain": [
       "(TensorShape([30212]), (30212,))"
      ]
     },
     "execution_count": 49,
     "metadata": {},
     "output_type": "execute_result"
    }
   ],
   "source": [
    "model3_pred_probs = model_3.predict(val_char_data)\n",
    "model3_pred = tf.argmax(model3_pred_probs, axis=1)\n",
    "model3_pred.shape, val_labels_encoded.shape"
   ]
  },
  {
   "cell_type": "code",
   "execution_count": 50,
   "metadata": {
    "colab": {
     "base_uri": "https://localhost:8080/"
    },
    "executionInfo": {
     "elapsed": 5,
     "status": "ok",
     "timestamp": 1656490791782,
     "user": {
      "displayName": "Minh Chien Tran",
      "userId": "00764184138496707751"
     },
     "user_tz": -420
    },
    "id": "21eBYwy_hm3L",
    "outputId": "86b04f2e-bc76-42c4-d3a4-92144b28f89a"
   },
   "outputs": [
    {
     "data": {
      "text/plain": [
       "{'accuracy': 71.58413875281346,\n",
       " 'f1': 0.7129076653456893,\n",
       " 'precision': 0.7173290065837726,\n",
       " 'recall': 0.7158413875281345}"
      ]
     },
     "execution_count": 50,
     "metadata": {},
     "output_type": "execute_result"
    }
   ],
   "source": [
    "model3_res = calculate_results(val_labels_encoded, model3_pred)\n",
    "model3_res"
   ]
  },
  {
   "cell_type": "markdown",
   "metadata": {
    "id": "_rNeb3IJh6ON"
   },
   "source": [
    "## Model 4: Combine token and character models"
   ]
  },
  {
   "cell_type": "code",
   "execution_count": 51,
   "metadata": {
    "executionInfo": {
     "elapsed": 2089,
     "status": "ok",
     "timestamp": 1656490890387,
     "user": {
      "displayName": "Minh Chien Tran",
      "userId": "00764184138496707751"
     },
     "user_tz": -420
    },
    "id": "Lt_5JQ3kjozA"
   },
   "outputs": [],
   "source": [
    "token_input = layers.Input(shape=(), dtype=tf.string)\n",
    "token_embedding = sentence_encoder_layer(token_input)\n",
    "token_output = layers.Dense(128, activation='relu')(token_embedding)\n",
    "token_model = tf.keras.Model(token_input, token_output)\n",
    "\n",
    "char_input = layers.Input(shape=(1,), dtype=tf.string)\n",
    "char_vector = char_vectorization(char_input)\n",
    "char_emb = char_embedding(char_vector)\n",
    "char_bilstm = layers.Bidirectional(layers.LSTM(24))(char_emb)\n",
    "char_model = tf.keras.Model(char_input, char_bilstm)\n",
    "\n",
    "token_char_concat = layers.Concatenate(name='token_char_concat')([token_model.output, char_model.output])\n",
    "\n",
    "combined_dropout = layers.Dropout(0.5)(token_char_concat)\n",
    "combined_dense = layers.Dense(128, activation='relu')(combined_dropout)\n",
    "last_dropout = layers.Dropout(0.5)(combined_dense)\n",
    "output_layer = layers.Dense(num_class, activation='softmax')(last_dropout)\n",
    "\n",
    "model_4 = tf.keras.Model([token_model.input, char_model.input], output_layer, name='model_4')"
   ]
  },
  {
   "cell_type": "code",
   "execution_count": 52,
   "metadata": {
    "colab": {
     "base_uri": "https://localhost:8080/",
     "height": 975
    },
    "executionInfo": {
     "elapsed": 728,
     "status": "ok",
     "timestamp": 1656490891112,
     "user": {
      "displayName": "Minh Chien Tran",
      "userId": "00764184138496707751"
     },
     "user_tz": -420
    },
    "id": "3_DFxSLkm3Ja",
    "outputId": "1f677607-400c-4f31-d3d9-9ae457be49e4"
   },
   "outputs": [
    {
     "data": {
      "image/png": "[encoded data removed]",
      "text/plain": [
       "<IPython.core.display.Image object>"
      ]
     },
     "execution_count": 52,
     "metadata": {},
     "output_type": "execute_result"
    }
   ],
   "source": [
    "from tensorflow.keras.utils import plot_model\n",
    "plot_model(model_4, show_shapes=True)"
   ]
  },
  {
   "cell_type": "markdown",
   "metadata": {
    "id": "63F6R850mzbq"
   },
   "source": [
    "### Fast loading data"
   ]
  },
  {
   "cell_type": "code",
   "execution_count": 53,
   "metadata": {
    "colab": {
     "base_uri": "https://localhost:8080/"
    },
    "executionInfo": {
     "elapsed": 2013,
     "status": "ok",
     "timestamp": 1656490894174,
     "user": {
      "displayName": "Minh Chien Tran",
      "userId": "00764184138496707751"
     },
     "user_tz": -420
    },
    "id": "UpOAmQHoojjO",
    "outputId": "234acb8c-b23c-4547-e95a-e617da984f55"
   },
   "outputs": [
    {
     "data": {
      "text/plain": [
       "(<PrefetchDataset element_spec=((TensorSpec(shape=(None,), dtype=tf.string, name=None), TensorSpec(shape=(None,), dtype=tf.string, name=None)), TensorSpec(shape=(None, 5), dtype=tf.float64, name=None))>,\n",
       " <PrefetchDataset element_spec=((TensorSpec(shape=(None,), dtype=tf.string, name=None), TensorSpec(shape=(None,), dtype=tf.string, name=None)), TensorSpec(shape=(None, 5), dtype=tf.float64, name=None))>,\n",
       " <PrefetchDataset element_spec=((TensorSpec(shape=(None,), dtype=tf.string, name=None), TensorSpec(shape=(None,), dtype=tf.string, name=None)), TensorSpec(shape=(None, 5), dtype=tf.float64, name=None))>)"
      ]
     },
     "execution_count": 53,
     "metadata": {},
     "output_type": "execute_result"
    }
   ],
   "source": [
    "train_char_token_inputs = tf.data.Dataset.from_tensor_slices((train_sentences, train_chars))\n",
    "train_char_token_labels = tf.data.Dataset.from_tensor_slices(train_label_one_hot)\n",
    "train_char_token_data = tf.data.Dataset.zip((train_char_token_inputs, train_char_token_labels))\n",
    "\n",
    "val_char_token_inputs = tf.data.Dataset.from_tensor_slices((val_sentences, val_chars))\n",
    "val_char_token_labels = tf.data.Dataset.from_tensor_slices(val_label_one_hot)\n",
    "val_char_token_data = tf.data.Dataset.zip((val_char_token_inputs, val_char_token_labels))\n",
    "\n",
    "test_char_token_inputs = tf.data.Dataset.from_tensor_slices((test_sentences, test_chars))\n",
    "test_char_token_labels = tf.data.Dataset.from_tensor_slices(test_label_one_hot)\n",
    "test_char_token_data = tf.data.Dataset.zip((test_char_token_inputs, test_char_token_labels))\n",
    "\n",
    "train_char_token_data = train_char_token_data.batch(batch_size=32).prefetch(buffer_size=tf.data.AUTOTUNE)\n",
    "val_char_token_data = val_char_token_data.batch(batch_size=32).prefetch(tf.data.AUTOTUNE)\n",
    "test_char_token_data = test_char_token_data.batch(batch_size=32).prefetch(tf.data.AUTOTUNE)\n",
    "\n",
    "train_char_token_data, val_char_token_data, test_char_token_data"
   ]
  },
  {
   "cell_type": "markdown",
   "metadata": {
    "id": "LHrjFNnMqEPP"
   },
   "source": [
    "### Fit model"
   ]
  },
  {
   "cell_type": "code",
   "execution_count": 54,
   "metadata": {
    "colab": {
     "base_uri": "https://localhost:8080/"
    },
    "executionInfo": {
     "elapsed": 248071,
     "status": "ok",
     "timestamp": 1656491142736,
     "user": {
      "displayName": "Minh Chien Tran",
      "userId": "00764184138496707751"
     },
     "user_tz": -420
    },
    "id": "6T6URa8umZZR",
    "outputId": "35105f06-810d-4887-8852-e606f2b59b52"
   },
   "outputs": [
    {
     "name": "stdout",
     "output_type": "stream",
     "text": [
      "Saving TensorBoard log files to: skimlit_model_logs/model4_token_char_combined/20220629-082134\n",
      "Epoch 1/5\n",
      "562/562 [==============================] - 62s 87ms/step - loss: 0.9781 - accuracy: 0.6102 - val_loss: 0.7931 - val_accuracy: 0.6961\n",
      "Epoch 2/5\n",
      "562/562 [==============================] - 46s 83ms/step - loss: 0.8021 - accuracy: 0.6896 - val_loss: 0.7199 - val_accuracy: 0.7262\n",
      "Epoch 3/5\n",
      "562/562 [==============================] - 45s 80ms/step - loss: 0.7753 - accuracy: 0.7048 - val_loss: 0.6963 - val_accuracy: 0.7350\n",
      "Epoch 4/5\n",
      "562/562 [==============================] - 47s 84ms/step - loss: 0.7430 - accuracy: 0.7196 - val_loss: 0.6762 - val_accuracy: 0.7420\n",
      "Epoch 5/5\n",
      "562/562 [==============================] - 48s 85ms/step - loss: 0.7490 - accuracy: 0.7144 - val_loss: 0.6598 - val_accuracy: 0.7477\n"
     ]
    }
   ],
   "source": [
    "tb_callback4 = create_tensorboard_callback(dir_name='skimlit_model_logs', experiment_name='model4_token_char_combined')\n",
    "model_4.compile(loss='categorical_crossentropy', optimizer=tf.keras.optimizers.Adam(), metrics=['accuracy'])\n",
    "history_model4 = model_4.fit(train_char_token_data, steps_per_epoch=int(0.1*len(train_char_token_data)),\n",
    "                             epochs=5, validation_data=val_char_token_data, callbacks=[tb_callback4])\n"
   ]
  },
  {
   "cell_type": "code",
   "execution_count": 55,
   "metadata": {
    "colab": {
     "base_uri": "https://localhost:8080/"
    },
    "executionInfo": {
     "elapsed": 22344,
     "status": "ok",
     "timestamp": 1656491165061,
     "user": {
      "displayName": "Minh Chien Tran",
      "userId": "00764184138496707751"
     },
     "user_tz": -420
    },
    "id": "o6wlWnRnqY3N",
    "outputId": "c67a4d73-1681-428f-955d-a698d4d637a2"
   },
   "outputs": [
    {
     "data": {
      "text/plain": [
       "(TensorShape([30212]), (30212,))"
      ]
     },
     "execution_count": 55,
     "metadata": {},
     "output_type": "execute_result"
    }
   ],
   "source": [
    "model4_pred_probs = model_4.predict(val_char_token_data)\n",
    "model4_pred = tf.argmax(model4_pred_probs, axis=1)\n",
    "model4_pred.shape, val_labels_encoded.shape"
   ]
  },
  {
   "cell_type": "code",
   "execution_count": 56,
   "metadata": {
    "colab": {
     "base_uri": "https://localhost:8080/"
    },
    "executionInfo": {
     "elapsed": 10,
     "status": "ok",
     "timestamp": 1656491165061,
     "user": {
      "displayName": "Minh Chien Tran",
      "userId": "00764184138496707751"
     },
     "user_tz": -420
    },
    "id": "OG7g5pA6qhjn",
    "outputId": "fe5b5d3a-1141-46e3-8d61-2bd3913d6e1a"
   },
   "outputs": [
    {
     "data": {
      "text/plain": [
       "{'accuracy': 74.77492387130941,\n",
       " 'f1': 0.7437415781444509,\n",
       " 'precision': 0.743636329611712,\n",
       " 'recall': 0.7477492387130942}"
      ]
     },
     "execution_count": 56,
     "metadata": {},
     "output_type": "execute_result"
    }
   ],
   "source": [
    "model4_res = calculate_results(val_labels_encoded, model4_pred)\n",
    "model4_res"
   ]
  },
  {
   "cell_type": "markdown",
   "metadata": {
    "id": "dxUJbGjfrVpG"
   },
   "source": [
    "## Model 5: model_4 with positional embedding"
   ]
  },
  {
   "cell_type": "markdown",
   "metadata": {
    "id": "NHRGrYNgtITV"
   },
   "source": [
    "### One hot line_number feature"
   ]
  },
  {
   "cell_type": "code",
   "execution_count": 57,
   "metadata": {
    "colab": {
     "base_uri": "https://localhost:8080/",
     "height": 283
    },
    "executionInfo": {
     "elapsed": 657,
     "status": "ok",
     "timestamp": 1656491168476,
     "user": {
      "displayName": "Minh Chien Tran",
      "userId": "00764184138496707751"
     },
     "user_tz": -420
    },
    "id": "lEZOYn7xvder",
    "outputId": "f8dd0ef0-afb1-4f1b-b9db-3dcf4966b46e"
   },
   "outputs": [
    {
     "data": {
      "text/plain": [
       "<matplotlib.axes._subplots.AxesSubplot at 0x7f5969921410>"
      ]
     },
     "execution_count": 57,
     "metadata": {},
     "output_type": "execute_result"
    },
    {
     "data": {
      "image/png": "[encoded data removed]",
      "text/plain": [
       "<Figure size 432x288 with 1 Axes>"
      ]
     },
     "metadata": {
      "needs_background": "light"
     },
     "output_type": "display_data"
    }
   ],
   "source": [
    "train_df['line_number'].hist()"
   ]
  },
  {
   "cell_type": "code",
   "execution_count": 58,
   "metadata": {
    "colab": {
     "base_uri": "https://localhost:8080/"
    },
    "executionInfo": {
     "elapsed": 3,
     "status": "ok",
     "timestamp": 1656491168848,
     "user": {
      "displayName": "Minh Chien Tran",
      "userId": "00764184138496707751"
     },
     "user_tz": -420
    },
    "id": "rH8Bs3jkuzC7",
    "outputId": "4011dd79-a211-461e-8842-db94052d77ac"
   },
   "outputs": [
    {
     "data": {
      "text/plain": [
       "(TensorShape([180040, 15]), TensorShape([30212, 15]), TensorShape([30135, 15]))"
      ]
     },
     "execution_count": 58,
     "metadata": {},
     "output_type": "execute_result"
    }
   ],
   "source": [
    "train_line_number_onehot = tf.one_hot(train_df['line_number'].to_numpy(), depth=15)\n",
    "val_line_number_onehot = tf.one_hot(val_df['line_number'].to_numpy(), depth=15)\n",
    "test_line_number_onehot = tf.one_hot(test_df['line_number'].to_numpy(), depth=15)\n",
    "train_line_number_onehot.shape, val_line_number_onehot.shape, test_line_number_onehot.shape"
   ]
  },
  {
   "cell_type": "markdown",
   "metadata": {
    "id": "sOR_V6LMvO7f"
   },
   "source": [
    "### One hot total_line feature"
   ]
  },
  {
   "cell_type": "code",
   "execution_count": 59,
   "metadata": {
    "colab": {
     "base_uri": "https://localhost:8080/",
     "height": 285
    },
    "executionInfo": {
     "elapsed": 605,
     "status": "ok",
     "timestamp": 1656491172305,
     "user": {
      "displayName": "Minh Chien Tran",
      "userId": "00764184138496707751"
     },
     "user_tz": -420
    },
    "id": "85YwbI_qvm4Z",
    "outputId": "175e8db1-d0c6-4372-a9e0-9e35872d4438"
   },
   "outputs": [
    {
     "data": {
      "text/plain": [
       "<matplotlib.axes._subplots.AxesSubplot at 0x7f5969800590>"
      ]
     },
     "execution_count": 59,
     "metadata": {},
     "output_type": "execute_result"
    },
    {
     "data": {
      "image/png": "[encoded data removed]",
      "text/plain": [
       "<Figure size 432x288 with 1 Axes>"
      ]
     },
     "metadata": {
      "needs_background": "light"
     },
     "output_type": "display_data"
    }
   ],
   "source": [
    "train_df['total_lines'].hist()"
   ]
  },
  {
   "cell_type": "code",
   "execution_count": 60,
   "metadata": {
    "colab": {
     "base_uri": "https://localhost:8080/"
    },
    "executionInfo": {
     "elapsed": 7,
     "status": "ok",
     "timestamp": 1656491172306,
     "user": {
      "displayName": "Minh Chien Tran",
      "userId": "00764184138496707751"
     },
     "user_tz": -420
    },
    "id": "4xBYwu_WvtAf",
    "outputId": "b20a75a1-3f5a-49eb-9f22-8408ff7c6057"
   },
   "outputs": [
    {
     "data": {
      "text/plain": [
       "(TensorShape([180040, 20]), TensorShape([30212, 20]), TensorShape([30135, 20]))"
      ]
     },
     "execution_count": 60,
     "metadata": {},
     "output_type": "execute_result"
    }
   ],
   "source": [
    "train_total_line_onehot = tf.one_hot(train_df['total_lines'].to_numpy(), depth=20)\n",
    "val_total_line_onehot = tf.one_hot(val_df['total_lines'].to_numpy(), depth=20)\n",
    "test_total_line_onehot = tf.one_hot(test_df['total_lines'].to_numpy(), depth=20)\n",
    "train_total_line_onehot.shape, val_total_line_onehot.shape, test_total_line_onehot.shape"
   ]
  },
  {
   "cell_type": "markdown",
   "metadata": {
    "id": "GPLarYEOwSdQ"
   },
   "source": [
    "### Build model"
   ]
  },
  {
   "cell_type": "code",
   "execution_count": 61,
   "metadata": {
    "executionInfo": {
     "elapsed": 2115,
     "status": "ok",
     "timestamp": 1656491176101,
     "user": {
      "displayName": "Minh Chien Tran",
      "userId": "00764184138496707751"
     },
     "user_tz": -420
    },
    "id": "C2wHMopuxTKE"
   },
   "outputs": [],
   "source": [
    "token_input = layers.Input(shape=(), dtype=tf.string, name='token_input')\n",
    "token_embedding = sentence_encoder_layer(token_input)\n",
    "token_output = layers.Dense(128, activation='relu')(token_embedding)\n",
    "token_model = tf.keras.Model(token_input, token_output)\n",
    "\n",
    "char_input = layers.Input(shape=(1,), dtype=tf.string, name='char_input')\n",
    "char_vector = char_vectorization(char_input)\n",
    "char_emb = char_embedding(char_vector)\n",
    "char_bilstm = layers.Bidirectional(layers.LSTM(24))(char_emb)\n",
    "char_model = tf.keras.Model(char_input, char_bilstm)\n",
    "\n",
    "line_number_input = layers.Input(shape=(15,), dtype=tf.float32, name='line_number_input')\n",
    "x1 = layers.Dense(32, activation='relu')(line_number_input)\n",
    "line_number_model = tf.keras.Model(line_number_input, x1)\n",
    "\n",
    "total_line_input = layers.Input(shape=(20,), dtype=tf.float32, name='total_line_input')\n",
    "x2 = layers.Dense(32, activation='relu')(total_line_input)\n",
    "total_line_model = tf.keras.Model(total_line_input, x2)\n",
    "\n",
    "# Concat token & char embeddings\n",
    "token_char_concat = layers.Concatenate(name='token_char_concat')([token_model.output, char_model.output])\n",
    "x3 = layers.Dense(256, activation='relu')(token_char_concat)\n",
    "x3 = layers.Dropout(0.5)(x3)\n",
    "\n",
    "# Concat text & positional embedding\n",
    "positional_concat = layers.Concatenate(name='positional_concat')([line_number_model.output,\n",
    "                                                                  total_line_model.output,\n",
    "                                                                  x3])\n",
    "\n",
    "output_layer = layers.Dense(num_class, activation='softmax', name='output_layer')(positional_concat)\n",
    "\n",
    "model_5 = tf.keras.Model([line_number_model.input, total_line_model.input,\n",
    "                          token_model.input, char_model.input], output_layer, name='model_5')"
   ]
  },
  {
   "cell_type": "code",
   "execution_count": 62,
   "metadata": {
    "colab": {
     "base_uri": "https://localhost:8080/",
     "height": 545
    },
    "executionInfo": {
     "elapsed": 815,
     "status": "ok",
     "timestamp": 1656491176910,
     "user": {
      "displayName": "Minh Chien Tran",
      "userId": "00764184138496707751"
     },
     "user_tz": -420
    },
    "id": "sPiGiATL0zww",
    "outputId": "0394fd81-6835-44a4-f348-6d449abebdc0"
   },
   "outputs": [
    {
     "data": {
      "image/png": "[encoded data removed]",
      "text/plain": [
       "<IPython.core.display.Image object>"
      ]
     },
     "execution_count": 62,
     "metadata": {},
     "output_type": "execute_result"
    }
   ],
   "source": [
    "plot_model(model_5, show_shapes=True)"
   ]
  },
  {
   "cell_type": "markdown",
   "metadata": {
    "id": "7RHXYd_UeoFA"
   },
   "source": [
    "### Fast loading data"
   ]
  },
  {
   "cell_type": "code",
   "execution_count": 63,
   "metadata": {
    "colab": {
     "base_uri": "https://localhost:8080/"
    },
    "executionInfo": {
     "elapsed": 2347,
     "status": "ok",
     "timestamp": 1656491179579,
     "user": {
      "displayName": "Minh Chien Tran",
      "userId": "00764184138496707751"
     },
     "user_tz": -420
    },
    "id": "i1E7YtFgeuTa",
    "outputId": "ac469304-10bd-412d-b3c4-308515079b56"
   },
   "outputs": [
    {
     "data": {
      "text/plain": [
       "(<PrefetchDataset element_spec=((TensorSpec(shape=(None, 15), dtype=tf.float32, name=None), TensorSpec(shape=(None, 20), dtype=tf.float32, name=None), TensorSpec(shape=(None,), dtype=tf.string, name=None), TensorSpec(shape=(None,), dtype=tf.string, name=None)), TensorSpec(shape=(None, 5), dtype=tf.float64, name=None))>,\n",
       " <PrefetchDataset element_spec=((TensorSpec(shape=(None, 15), dtype=tf.float32, name=None), TensorSpec(shape=(None, 20), dtype=tf.float32, name=None), TensorSpec(shape=(None,), dtype=tf.string, name=None), TensorSpec(shape=(None,), dtype=tf.string, name=None)), TensorSpec(shape=(None, 5), dtype=tf.float64, name=None))>,\n",
       " <PrefetchDataset element_spec=((TensorSpec(shape=(None, 15), dtype=tf.float32, name=None), TensorSpec(shape=(None, 20), dtype=tf.float32, name=None), TensorSpec(shape=(None,), dtype=tf.string, name=None), TensorSpec(shape=(None,), dtype=tf.string, name=None)), TensorSpec(shape=(None, 5), dtype=tf.float64, name=None))>)"
      ]
     },
     "execution_count": 63,
     "metadata": {},
     "output_type": "execute_result"
    }
   ],
   "source": [
    "train_char_token_pos_inputs = tf.data.Dataset.from_tensor_slices((train_line_number_onehot,\n",
    "                                                                  train_total_line_onehot,\n",
    "                                                                  train_sentences, train_chars))\n",
    "train_char_token_pos_labels = tf.data.Dataset.from_tensor_slices(train_label_one_hot)\n",
    "train_char_token_pos_data = tf.data.Dataset.zip((train_char_token_pos_inputs, train_char_token_pos_labels))\n",
    "\n",
    "val_char_token_pos_inputs = tf.data.Dataset.from_tensor_slices((val_line_number_onehot,\n",
    "                                                            val_total_line_onehot,\n",
    "                                                            val_sentences, val_chars))\n",
    "val_char_token_pos_labels = tf.data.Dataset.from_tensor_slices(val_label_one_hot)\n",
    "val_char_token_pos_data = tf.data.Dataset.zip((val_char_token_pos_inputs, val_char_token_pos_labels))\n",
    "\n",
    "test_char_token_pos_inputs = tf.data.Dataset.from_tensor_slices((test_line_number_onehot,\n",
    "                                                                 test_total_line_onehot,\n",
    "                                                                 test_sentences, test_chars))\n",
    "test_char_token_pos_labels = tf.data.Dataset.from_tensor_slices(test_label_one_hot)\n",
    "test_char_token_pos_data = tf.data.Dataset.zip((test_char_token_pos_inputs, test_char_token_pos_labels))\n",
    "\n",
    "train_char_token_pos_data = train_char_token_pos_data.batch(batch_size=32).prefetch(buffer_size=tf.data.AUTOTUNE)\n",
    "val_char_token_pos_data = val_char_token_pos_data.batch(batch_size=32).prefetch(tf.data.AUTOTUNE)\n",
    "test_char_token_pos_data = test_char_token_pos_data.batch(batch_size=32).prefetch(tf.data.AUTOTUNE)\n",
    "\n",
    "train_char_token_pos_data, val_char_token_pos_data, test_char_token_pos_data"
   ]
  },
  {
   "cell_type": "markdown",
   "metadata": {
    "id": "dfFzMQuZesDQ"
   },
   "source": [
    "### Fit model"
   ]
  },
  {
   "cell_type": "code",
   "execution_count": 64,
   "metadata": {
    "colab": {
     "base_uri": "https://localhost:8080/"
    },
    "executionInfo": {
     "elapsed": 252970,
     "status": "ok",
     "timestamp": 1656491478115,
     "user": {
      "displayName": "Minh Chien Tran",
      "userId": "00764184138496707751"
     },
     "user_tz": -420
    },
    "id": "eXgNjovc05LC",
    "outputId": "e107efb6-cb91-427a-963f-4634d7d23585"
   },
   "outputs": [
    {
     "name": "stdout",
     "output_type": "stream",
     "text": [
      "Saving TensorBoard log files to: skimlit_model_logs/model5_token_char_pos_combined/20220629-082704\n",
      "Epoch 1/5\n",
      "562/562 [==============================] - 69s 97ms/step - loss: 1.1014 - accuracy: 0.7209 - val_loss: 0.9817 - val_accuracy: 0.8020\n",
      "Epoch 2/5\n",
      "562/562 [==============================] - 47s 84ms/step - loss: 0.9665 - accuracy: 0.8141 - val_loss: 0.9483 - val_accuracy: 0.8242\n",
      "Epoch 3/5\n",
      "562/562 [==============================] - 44s 79ms/step - loss: 0.9491 - accuracy: 0.8271 - val_loss: 0.9352 - val_accuracy: 0.8364\n",
      "Epoch 4/5\n",
      "562/562 [==============================] - 48s 85ms/step - loss: 0.9383 - accuracy: 0.8364 - val_loss: 0.9260 - val_accuracy: 0.8363\n",
      "Epoch 5/5\n",
      "562/562 [==============================] - 45s 80ms/step - loss: 0.9355 - accuracy: 0.8369 - val_loss: 0.9214 - val_accuracy: 0.8418\n"
     ]
    }
   ],
   "source": [
    "tb_callback5 = create_tensorboard_callback(dir_name='skimlit_model_logs', experiment_name='model5_token_char_pos_combined')\n",
    "model_5.compile(loss=tf.keras.losses.CategoricalCrossentropy(label_smoothing=0.2),\n",
    "                optimizer=tf.keras.optimizers.Adam(), metrics=['accuracy'])\n",
    "history_model5 = model_5.fit(train_char_token_pos_data, steps_per_epoch=int(0.1*len(train_char_token_pos_data)),\n",
    "                             epochs=5, validation_data=val_char_token_pos_data, callbacks=[tb_callback5])"
   ]
  },
  {
   "cell_type": "code",
   "execution_count": 65,
   "metadata": {
    "colab": {
     "base_uri": "https://localhost:8080/"
    },
    "executionInfo": {
     "elapsed": 22389,
     "status": "ok",
     "timestamp": 1656491500482,
     "user": {
      "displayName": "Minh Chien Tran",
      "userId": "00764184138496707751"
     },
     "user_tz": -420
    },
    "id": "7EV-8HdDhHoj",
    "outputId": "81a83208-24a9-4401-ecf3-2b6a8771e83b"
   },
   "outputs": [
    {
     "data": {
      "text/plain": [
       "(TensorShape([30212]), (30212,))"
      ]
     },
     "execution_count": 65,
     "metadata": {},
     "output_type": "execute_result"
    }
   ],
   "source": [
    "model5_pred_probs = model_5.predict(val_char_token_pos_data)\n",
    "model5_pred = tf.argmax(model5_pred_probs, axis=1)\n",
    "model5_pred.shape, val_labels_encoded.shape"
   ]
  },
  {
   "cell_type": "code",
   "execution_count": 68,
   "metadata": {
    "colab": {
     "base_uri": "https://localhost:8080/"
    },
    "executionInfo": {
     "elapsed": 329,
     "status": "ok",
     "timestamp": 1656491564785,
     "user": {
      "displayName": "Minh Chien Tran",
      "userId": "00764184138496707751"
     },
     "user_tz": -420
    },
    "id": "zXB9oouEhMf3",
    "outputId": "af3ea35d-462f-4561-e8e9-b913c2e42e16"
   },
   "outputs": [
    {
     "data": {
      "text/plain": [
       "{'accuracy': 84.18178207334834,\n",
       " 'f1': 0.8380578591454314,\n",
       " 'precision': 0.8439908413216134,\n",
       " 'recall': 0.8418178207334834}"
      ]
     },
     "execution_count": 68,
     "metadata": {},
     "output_type": "execute_result"
    }
   ],
   "source": [
    "model5_res = calculate_results(val_labels_encoded, model5_pred)\n",
    "model5_res"
   ]
  },
  {
   "cell_type": "code",
   "execution_count": 69,
   "metadata": {
    "colab": {
     "base_uri": "https://localhost:8080/",
     "height": 238
    },
    "executionInfo": {
     "elapsed": 322,
     "status": "ok",
     "timestamp": 1656491567091,
     "user": {
      "displayName": "Minh Chien Tran",
      "userId": "00764184138496707751"
     },
     "user_tz": -420
    },
    "id": "mGPzRFJskkSv",
    "outputId": "b3c038c2-5f83-478d-96d4-d7d44d6add37"
   },
   "outputs": [
    {
     "data": {
      "text/html": [
       "\n",
       "  <div id=\"df-61c2dd1a-3bf4-43d2-88cb-0e5b100cf3c7\">\n",
       "    <div class=\"colab-df-container\">\n",
       "      <div>\n",
       "<style scoped>\n",
       "    .dataframe tbody tr th:only-of-type {\n",
       "        vertical-align: middle;\n",
       "    }\n",
       "\n",
       "    .dataframe tbody tr th {\n",
       "        vertical-align: top;\n",
       "    }\n",
       "\n",
       "    .dataframe thead th {\n",
       "        text-align: right;\n",
       "    }\n",
       "</style>\n",
       "<table border=\"1\" class=\"dataframe\">\n",
       "  <thead>\n",
       "    <tr style=\"text-align: right;\">\n",
       "      <th></th>\n",
       "      <th>accuracy</th>\n",
       "      <th>precision</th>\n",
       "      <th>recall</th>\n",
       "      <th>f1</th>\n",
       "    </tr>\n",
       "  </thead>\n",
       "  <tbody>\n",
       "    <tr>\n",
       "      <th>0_baseline</th>\n",
       "      <td>71.667496</td>\n",
       "      <td>0.712432</td>\n",
       "      <td>0.716675</td>\n",
       "      <td>0.692510</td>\n",
       "    </tr>\n",
       "    <tr>\n",
       "      <th>1_custom_token_embed_conv1d</th>\n",
       "      <td>81.977360</td>\n",
       "      <td>0.820601</td>\n",
       "      <td>0.819774</td>\n",
       "      <td>0.817722</td>\n",
       "    </tr>\n",
       "    <tr>\n",
       "      <th>2_pretrained_token_embed</th>\n",
       "      <td>72.570502</td>\n",
       "      <td>0.721545</td>\n",
       "      <td>0.725705</td>\n",
       "      <td>0.720052</td>\n",
       "    </tr>\n",
       "    <tr>\n",
       "      <th>3_custom_char_embed_conv1d</th>\n",
       "      <td>71.584139</td>\n",
       "      <td>0.717329</td>\n",
       "      <td>0.715841</td>\n",
       "      <td>0.712908</td>\n",
       "    </tr>\n",
       "    <tr>\n",
       "      <th>4_hybrid_char_token_embed</th>\n",
       "      <td>74.774924</td>\n",
       "      <td>0.743636</td>\n",
       "      <td>0.747749</td>\n",
       "      <td>0.743742</td>\n",
       "    </tr>\n",
       "    <tr>\n",
       "      <th>5_tribrid_pos_char_token_embed</th>\n",
       "      <td>84.181782</td>\n",
       "      <td>0.843991</td>\n",
       "      <td>0.841818</td>\n",
       "      <td>0.838058</td>\n",
       "    </tr>\n",
       "  </tbody>\n",
       "</table>\n",
       "</div>\n",
       "      <button class=\"colab-df-convert\" onclick=\"convertToInteractive('df-61c2dd1a-3bf4-43d2-88cb-0e5b100cf3c7')\"\n",
       "              title=\"Convert this dataframe to an interactive table.\"\n",
       "              style=\"display:none;\">\n",
       "        \n",
       "  <svg xmlns=\"http://www.w3.org/2000/svg\" height=\"24px\"viewBox=\"0 0 24 24\"\n",
       "       width=\"24px\">\n",
       "    <path d=\"M0 0h24v24H0V0z\" fill=\"none\"/>\n",
       "    <path d=\"M18.56 5.44l.94 2.06.94-2.06 2.06-.94-2.06-.94-.94-2.06-.94 2.06-2.06.94zm-11 1L8.5 8.5l.94-2.06 2.06-.94-2.06-.94L8.5 2.5l-.94 2.06-2.06.94zm10 10l.94 2.06.94-2.06 2.06-.94-2.06-.94-.94-2.06-.94 2.06-2.06.94z\"/><path d=\"M17.41 7.96l-1.37-1.37c-.4-.4-.92-.59-1.43-.59-.52 0-1.04.2-1.43.59L10.3 9.45l-7.72 7.72c-.78.78-.78 2.05 0 2.83L4 21.41c.39.39.9.59 1.41.59.51 0 1.02-.2 1.41-.59l7.78-7.78 2.81-2.81c.8-.78.8-2.07 0-2.86zM5.41 20L4 18.59l7.72-7.72 1.47 1.35L5.41 20z\"/>\n",
       "  </svg>\n",
       "      </button>\n",
       "      \n",
       "  <style>\n",
       "    .colab-df-container {\n",
       "      display:flex;\n",
       "      flex-wrap:wrap;\n",
       "      gap: 12px;\n",
       "    }\n",
       "\n",
       "    .colab-df-convert {\n",
       "      background-color: #E8F0FE;\n",
       "      border: none;\n",
       "      border-radius: 50%;\n",
       "      cursor: pointer;\n",
       "      display: none;\n",
       "      fill: #1967D2;\n",
       "      height: 32px;\n",
       "      padding: 0 0 0 0;\n",
       "      width: 32px;\n",
       "    }\n",
       "\n",
       "    .colab-df-convert:hover {\n",
       "      background-color: #E2EBFA;\n",
       "      box-shadow: 0px 1px 2px rgba(60, 64, 67, 0.3), 0px 1px 3px 1px rgba(60, 64, 67, 0.15);\n",
       "      fill: #174EA6;\n",
       "    }\n",
       "\n",
       "    [theme=dark] .colab-df-convert {\n",
       "      background-color: #3B4455;\n",
       "      fill: #D2E3FC;\n",
       "    }\n",
       "\n",
       "    [theme=dark] .colab-df-convert:hover {\n",
       "      background-color: #434B5C;\n",
       "      box-shadow: 0px 1px 3px 1px rgba(0, 0, 0, 0.15);\n",
       "      filter: drop-shadow(0px 1px 2px rgba(0, 0, 0, 0.3));\n",
       "      fill: #FFFFFF;\n",
       "    }\n",
       "  </style>\n",
       "\n",
       "      <script>\n",
       "        const buttonEl =\n",
       "          document.querySelector('#df-61c2dd1a-3bf4-43d2-88cb-0e5b100cf3c7 button.colab-df-convert');\n",
       "        buttonEl.style.display =\n",
       "          google.colab.kernel.accessAllowed ? 'block' : 'none';\n",
       "\n",
       "        async function convertToInteractive(key) {\n",
       "          const element = document.querySelector('#df-61c2dd1a-3bf4-43d2-88cb-0e5b100cf3c7');\n",
       "          const dataTable =\n",
       "            await google.colab.kernel.invokeFunction('convertToInteractive',\n",
       "                                                     [key], {});\n",
       "          if (!dataTable) return;\n",
       "\n",
       "          const docLinkHtml = 'Like what you see? Visit the ' +\n",
       "            '<a target=\"_blank\" href=https://colab.research.google.com/notebooks/data_table.ipynb>data table notebook</a>'\n",
       "            + ' to learn more about interactive tables.';\n",
       "          element.innerHTML = '';\n",
       "          dataTable['output_type'] = 'display_data';\n",
       "          await google.colab.output.renderOutput(dataTable, element);\n",
       "          const docLink = document.createElement('div');\n",
       "          docLink.innerHTML = docLinkHtml;\n",
       "          element.appendChild(docLink);\n",
       "        }\n",
       "      </script>\n",
       "    </div>\n",
       "  </div>\n",
       "  "
      ],
      "text/plain": [
       "                                 accuracy  precision    recall        f1\n",
       "0_baseline                      71.667496   0.712432  0.716675  0.692510\n",
       "1_custom_token_embed_conv1d     81.977360   0.820601  0.819774  0.817722\n",
       "2_pretrained_token_embed        72.570502   0.721545  0.725705  0.720052\n",
       "3_custom_char_embed_conv1d      71.584139   0.717329  0.715841  0.712908\n",
       "4_hybrid_char_token_embed       74.774924   0.743636  0.747749  0.743742\n",
       "5_tribrid_pos_char_token_embed  84.181782   0.843991  0.841818  0.838058"
      ]
     },
     "execution_count": 69,
     "metadata": {},
     "output_type": "execute_result"
    }
   ],
   "source": [
    "all_model_results = pd.DataFrame({\"0_baseline\": model0_res,\n",
    "                                  \"1_custom_token_embed_conv1d\": model1_res,\n",
    "                                  \"2_pretrained_token_embed\": model2_res,\n",
    "                                  \"3_custom_char_embed_conv1d\": model3_res,\n",
    "                                  \"4_hybrid_char_token_embed\": model4_res,\n",
    "                                  \"5_tribrid_pos_char_token_embed\": model5_res})\n",
    "all_model_results = all_model_results.transpose()\n",
    "all_model_results"
   ]
  },
  {
   "cell_type": "code",
   "execution_count": 70,
   "metadata": {
    "colab": {
     "base_uri": "https://localhost:8080/",
     "height": 600
    },
    "executionInfo": {
     "elapsed": 921,
     "status": "ok",
     "timestamp": 1656491599567,
     "user": {
      "displayName": "Minh Chien Tran",
      "userId": "00764184138496707751"
     },
     "user_tz": -420
    },
    "id": "4cK_vgIdl0HH",
    "outputId": "17eccba1-8e22-4e36-f21c-9104383319b6"
   },
   "outputs": [
    {
     "data": {
      "text/plain": [
       "<matplotlib.legend.Legend at 0x7f583ba937d0>"
      ]
     },
     "execution_count": 70,
     "metadata": {},
     "output_type": "execute_result"
    },
    {
     "data": {
      "image/png": "[encoded data removed]",
      "text/plain": [
       "<Figure size 720x504 with 1 Axes>"
      ]
     },
     "metadata": {
      "needs_background": "light"
     },
     "output_type": "display_data"
    }
   ],
   "source": [
    "all_model_results[\"accuracy\"] = all_model_results[\"accuracy\"]/100\n",
    "all_model_results.plot(kind=\"bar\", figsize=(10, 7)).legend(bbox_to_anchor=(1.0, 1.0))"
   ]
  },
  {
   "cell_type": "markdown",
   "metadata": {
    "id": "FsQ1Mqtdl9-H"
   },
   "source": [
    "## Save and load model"
   ]
  },
  {
   "cell_type": "code",
   "execution_count": 71,
   "metadata": {
    "colab": {
     "base_uri": "https://localhost:8080/"
    },
    "executionInfo": {
     "elapsed": 36953,
     "status": "ok",
     "timestamp": 1656491707310,
     "user": {
      "displayName": "Minh Chien Tran",
      "userId": "00764184138496707751"
     },
     "user_tz": -420
    },
    "id": "Qgv4Te8WmB-x",
    "outputId": "93f6f4a1-62ac-42dc-8b25-de3bc8773b05"
   },
   "outputs": [
    {
     "name": "stderr",
     "output_type": "stream",
     "text": [
      "WARNING:absl:Found untraced functions such as lstm_cell_4_layer_call_fn, lstm_cell_4_layer_call_and_return_conditional_losses, lstm_cell_5_layer_call_fn, lstm_cell_5_layer_call_and_return_conditional_losses while saving (showing 4 of 4). These functions will not be directly callable after loading.\n"
     ]
    },
    {
     "name": "stdout",
     "output_type": "stream",
     "text": [
      "INFO:tensorflow:Assets written to: model5_token_char_pos_combined/assets\n"
     ]
    },
    {
     "name": "stderr",
     "output_type": "stream",
     "text": [
      "INFO:tensorflow:Assets written to: model5_token_char_pos_combined/assets\n",
      "WARNING:absl:<keras.layers.recurrent.LSTMCell object at 0x7f59682794d0> has the same name 'LSTMCell' as a built-in Keras object. Consider renaming <class 'keras.layers.recurrent.LSTMCell'> to avoid naming conflicts when loading with `tf.keras.models.load_model`. If renaming is not possible, pass the object in the `custom_objects` parameter of the load function.\n",
      "WARNING:absl:<keras.layers.recurrent.LSTMCell object at 0x7f59682731d0> has the same name 'LSTMCell' as a built-in Keras object. Consider renaming <class 'keras.layers.recurrent.LSTMCell'> to avoid naming conflicts when loading with `tf.keras.models.load_model`. If renaming is not possible, pass the object in the `custom_objects` parameter of the load function.\n"
     ]
    }
   ],
   "source": [
    "model_5.save('model5_token_char_pos_combined')"
   ]
  },
  {
   "cell_type": "code",
   "execution_count": 72,
   "metadata": {
    "executionInfo": {
     "elapsed": 33023,
     "status": "ok",
     "timestamp": 1656491743774,
     "user": {
      "displayName": "Minh Chien Tran",
      "userId": "00764184138496707751"
     },
     "user_tz": -420
    },
    "id": "t3kyQAGHmPg-"
   },
   "outputs": [],
   "source": [
    "loaded_model = tf.keras.models.load_model('model5_token_char_pos_combined')"
   ]
  },
  {
   "cell_type": "code",
   "execution_count": 73,
   "metadata": {
    "colab": {
     "base_uri": "https://localhost:8080/"
    },
    "executionInfo": {
     "elapsed": 27953,
     "status": "ok",
     "timestamp": 1656491781239,
     "user": {
      "displayName": "Minh Chien Tran",
      "userId": "00764184138496707751"
     },
     "user_tz": -420
    },
    "id": "wHbjOtCcmdZv",
    "outputId": "dcbd76e7-472a-41c0-91a7-ea883ff6fb1e"
   },
   "outputs": [
    {
     "data": {
      "text/plain": [
       "(TensorShape([30212]), (30212,))"
      ]
     },
     "execution_count": 73,
     "metadata": {},
     "output_type": "execute_result"
    }
   ],
   "source": [
    "loaded_model_pred_probs = loaded_model.predict(val_char_token_pos_data)\n",
    "loaded_model_pred = tf.argmax(loaded_model_pred_probs, axis=1)\n",
    "loaded_model_pred.shape, val_labels_encoded.shape"
   ]
  },
  {
   "cell_type": "code",
   "execution_count": 74,
   "metadata": {
    "colab": {
     "base_uri": "https://localhost:8080/"
    },
    "executionInfo": {
     "elapsed": 21,
     "status": "ok",
     "timestamp": 1656491781240,
     "user": {
      "displayName": "Minh Chien Tran",
      "userId": "00764184138496707751"
     },
     "user_tz": -420
    },
    "id": "IXEJ4mKzmZYK",
    "outputId": "d764161e-26f3-4913-ccb9-fcef06b71c88"
   },
   "outputs": [
    {
     "data": {
      "text/plain": [
       "{'accuracy': 84.18178207334834,\n",
       " 'f1': 0.8380578591454314,\n",
       " 'precision': 0.8439908413216134,\n",
       " 'recall': 0.8418178207334834}"
      ]
     },
     "execution_count": 74,
     "metadata": {},
     "output_type": "execute_result"
    }
   ],
   "source": [
    "loaded_model_res = calculate_results(val_labels_encoded, loaded_model_pred)\n",
    "loaded_model_res"
   ]
  },
  {
   "cell_type": "code",
   "execution_count": 75,
   "metadata": {
    "colab": {
     "base_uri": "https://localhost:8080/"
    },
    "executionInfo": {
     "elapsed": 17,
     "status": "ok",
     "timestamp": 1656491781240,
     "user": {
      "displayName": "Minh Chien Tran",
      "userId": "00764184138496707751"
     },
     "user_tz": -420
    },
    "id": "gezXrfB9ml7C",
    "outputId": "c79c2b5e-254e-4455-bded-4a5f47eb4e35"
   },
   "outputs": [
    {
     "data": {
      "text/plain": [
       "{'accuracy': 84.18178207334834,\n",
       " 'f1': 0.8380578591454314,\n",
       " 'precision': 0.8439908413216134,\n",
       " 'recall': 0.8418178207334834}"
      ]
     },
     "execution_count": 75,
     "metadata": {},
     "output_type": "execute_result"
    }
   ],
   "source": [
    "model5_res"
   ]
  },
  {
   "cell_type": "code",
   "execution_count": null,
   "metadata": {
    "id": "GCs4wZUymoBR"
   },
   "outputs": [],
   "source": []
  }
 ],
 "metadata": {
  "accelerator": "GPU",
  "colab": {
   "authorship_tag": "ABX9TyOS8qAf17XoO06bJaxbTtVm",
   "collapsed_sections": [],
   "name": "09_SkimLit_milestone_project_2.ipynb",
   "provenance": [],
   "toc_visible": true
  },
  "gpuClass": "standard",
  "kernelspec": {
   "display_name": "Python 3",
   "language": "python",
   "name": "python3"
  },
  "language_info": {
   "codemirror_mode": {
    "name": "ipython",
    "version": 3
   },
   "file_extension": ".py",
   "mimetype": "text/x-python",
   "name": "python",
   "nbconvert_exporter": "python",
   "pygments_lexer": "ipython3",
   "version": "3.9.5"
  }
 },
 "nbformat": 4,
 "nbformat_minor": 4
}
